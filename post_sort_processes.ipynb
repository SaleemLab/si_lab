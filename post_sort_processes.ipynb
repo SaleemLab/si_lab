{
 "cells": [
  {
   "cell_type": "code",
   "execution_count": null,
   "id": "45a9b654-e158-44ed-b1c1-b7633f13b1dc",
   "metadata": {},
   "outputs": [],
   "source": []
  },
  {
   "cell_type": "code",
   "execution_count": 1,
   "id": "d9770503-b96e-4c88-ae31-922830647187",
   "metadata": {},
   "outputs": [],
   "source": [
    "# a script to look at post-sorting steps of spike interface\n",
    "\n",
    "#import the necessary packages\n",
    "from pathlib import Path\n",
    "import platform\n",
    "import os\n",
    "import shutil\n",
    "import argparse\n",
    "import numpy as np\n",
    "import matplotlib.pyplot as plt\n",
    "import spikeinterface.sorters\n",
    "import spikeinterface.full as si\n",
    "import  scipy.signal\n",
    "import spikeinterface.extractors as se\n",
    "import spikeinterface.comparison\n",
    "import spikeinterface.exporters\n",
    "import spikeinterface.curation\n",
    "import spikeinterface.widgets \n",
    "import docker\n",
    "from datetime import datetime\n",
    "\n",
    "\n",
    "\n"
   ]
  },
  {
   "cell_type": "code",
   "execution_count": 2,
   "id": "a01318fc",
   "metadata": {},
   "outputs": [
    {
     "name": "stdout",
     "output_type": "stream",
     "text": [
      "/mnt/rds01/ibn-vision/DATA/SUBJECTS/M23028/ephys/20230706/\n"
     ]
    }
   ],
   "source": [
    "#set up the base folder\n",
    "base_folder = '/mnt/rds01/ibn-vision/DATA/SUBJECTS/'\n",
    "mouse = 'M23028'\n",
    "date = '20230706'\n",
    "# ephys folder\n",
    "ephys_folder = base_folder + mouse + '/ephys/' + date +'/'\n",
    "print(ephys_folder)"
   ]
  },
  {
   "cell_type": "code",
   "execution_count": 3,
   "id": "99d2c047",
   "metadata": {},
   "outputs": [],
   "source": [
    "#load binary recording file\n",
    "probe0_preprocessed_corrected = si.load_extractor(ephys_folder + 'probe0_preprocessed')\n",
    "probe1_preprocessed_corrected = si.load_extractor(ephys_folder + 'probe1_preprocessed')"
   ]
  },
  {
   "cell_type": "code",
   "execution_count": 4,
   "id": "0070f994",
   "metadata": {},
   "outputs": [
    {
     "name": "stdout",
     "output_type": "stream",
     "text": [
      "KiloSortSortingExtractor: 500 units - 1 segments - 30.0kHz\n",
      "KiloSortSortingExtractor: 587 units - 1 segments - 30.0kHz\n",
      "KiloSortSortingExtractor: 728 units - 1 segments - 30.0kHz\n",
      "KiloSortSortingExtractor: 419 units - 1 segments - 30.0kHz\n"
     ]
    }
   ],
   "source": [
    "#compare sorters\n",
    "\n",
    "#first load the sorting\n",
    "probe0_sorting_ks2_5 = spikeinterface.sorters.read_sorter_folder(ephys_folder+'/probe0/sorters/kilosort2_5/', register_recording=True, sorting_info=True, raise_error=True)\n",
    "probe0_sorting_ks3 = spikeinterface.sorters.read_sorter_folder(ephys_folder+'/probe0/sorters/kilosort3/', register_recording=True, sorting_info=True, raise_error=True)\n",
    "probe1_sorting_ks2_5 = spikeinterface.sorters.read_sorter_folder(ephys_folder+'/probe1/sorters/kilosort2_5/', register_recording=True, sorting_info=True, raise_error=True)\n",
    "probe1_sorting_ks3 = spikeinterface.sorters.read_sorter_folder(ephys_folder+'/probe1/sorters/kilosort3/', register_recording=True, sorting_info=True, raise_error=True)\n",
    "print(probe0_sorting_ks2_5)\n",
    "print(probe0_sorting_ks3)\n",
    "print(probe1_sorting_ks2_5)\n",
    "print(probe1_sorting_ks3)"
   ]
  },
  {
   "cell_type": "code",
   "execution_count": 5,
   "id": "5a0c5300",
   "metadata": {},
   "outputs": [
    {
     "name": "stdout",
     "output_type": "stream",
     "text": [
      "RemoveDuplicatedSpikesSorting: 500 units - 1 segments - 30.0kHz\n",
      "RemoveDuplicatedSpikesSorting: 587 units - 1 segments - 30.0kHz\n",
      "RemoveDuplicatedSpikesSorting: 728 units - 1 segments - 30.0kHz\n",
      "RemoveDuplicatedSpikesSorting: 419 units - 1 segments - 30.0kHz\n"
     ]
    }
   ],
   "source": [
    "\n",
    "# set up parallel processing jobs\n",
    "job_kwargs = dict(n_jobs=20, chunk_duration='1s', progress_bar=True)\n",
    "#remove duplicates\n",
    "probe0_sorting_ks2_5 = si.remove_duplicated_spikes(sorting = probe0_sorting_ks2_5, censored_period_ms=0.3,method='keep_first')\n",
    "probe0_sorting_ks3 = si.remove_duplicated_spikes(sorting = probe0_sorting_ks3, censored_period_ms=0.3,method='keep_first')\n",
    "probe1_sorting_ks2_5 = si.remove_duplicated_spikes(sorting = probe1_sorting_ks2_5, censored_period_ms=0.3,method='keep_first')\n",
    "probe1_sorting_ks3 = si.remove_duplicated_spikes(sorting = probe1_sorting_ks3, censored_period_ms=0.3,method='keep_first')\n",
    "\n",
    "print(probe0_sorting_ks2_5)\n",
    "print(probe0_sorting_ks3)\n",
    "print(probe1_sorting_ks2_5)\n",
    "print(probe1_sorting_ks3)"
   ]
  },
  {
   "cell_type": "code",
   "execution_count": 6,
   "id": "20cb496c",
   "metadata": {},
   "outputs": [
    {
     "name": "stdout",
     "output_type": "stream",
     "text": [
      "         0        1        2     3     4      5      6      8      9      10   \\\n",
      "0      479.0  56104.0     73.0   9.0  20.0   83.0  651.0   21.0  263.0  143.0   \n",
      "1      107.0     84.0     31.0   2.0   6.0  175.0   33.0    2.0   51.0    9.0   \n",
      "2       11.0      1.0      0.0   0.0   0.0    1.0    0.0    0.0    0.0    0.0   \n",
      "3     1128.0    109.0  11937.0   4.0  47.0  199.0   44.0   19.0  118.0   42.0   \n",
      "4    56965.0    373.0    149.0  15.0  75.0  460.0  183.0   91.0  280.0  129.0   \n",
      "..       ...      ...      ...   ...   ...    ...    ...    ...    ...    ...   \n",
      "506     25.0      4.0      3.0   0.0   0.0    1.0    7.0  581.0   42.0    4.0   \n",
      "507      1.0      2.0      1.0   0.0   0.0    0.0    0.0    0.0    0.0    0.0   \n",
      "508      0.0      0.0      0.0   0.0   0.0    0.0    0.0    0.0    0.0    0.0   \n",
      "509     40.0     24.0      9.0   0.0   0.0    5.0    2.0    2.0   16.0    1.0   \n",
      "510     11.0     12.0      2.0   0.0   0.0    2.0    1.0    2.0    3.0    4.0   \n",
      "\n",
      "     ...    685  686   687  688   689   690   691   692   693   694  \n",
      "0    ...   84.0  4.0  39.0  1.0   7.0   5.0  18.0   9.0   7.0  98.0  \n",
      "1    ...   11.0  0.0  15.0  1.0   2.0   0.0   9.0   2.0   0.0  16.0  \n",
      "2    ...    0.0  0.0   0.0  0.0   0.0   0.0   0.0   0.0   0.0   0.0  \n",
      "3    ...   37.0  0.0  12.0  2.0   4.0   2.0  14.0   6.0   2.0  36.0  \n",
      "4    ...  104.0  6.0  43.0  4.0  13.0  10.0  17.0  15.0  21.0  77.0  \n",
      "..   ...    ...  ...   ...  ...   ...   ...   ...   ...   ...   ...  \n",
      "506  ...    0.0  0.0   0.0  0.0   0.0   0.0   0.0   0.0   0.0   1.0  \n",
      "507  ...    0.0  0.0   0.0  0.0   0.0   0.0   0.0   0.0   0.0   1.0  \n",
      "508  ...    0.0  0.0   0.0  0.0   0.0   0.0   0.0   0.0   0.0   0.0  \n",
      "509  ...   15.0  0.0   4.0  0.0   1.0   1.0   3.0   0.0   1.0  15.0  \n",
      "510  ...   15.0  0.0   4.0  0.0   0.0   0.0   1.0   0.0   1.0   2.0  \n",
      "\n",
      "[500 rows x 587 columns]\n",
      "          0         1         2         3         4         5         6    \\\n",
      "0    0.003920  0.884642  0.000982  0.000144  0.000320  0.001212  0.009733   \n",
      "1    0.001614  0.001330  0.001715  0.000327  0.000950  0.014483  0.002942   \n",
      "2    0.000182  0.000017  0.000000  0.000000  0.000000  0.000158  0.000000   \n",
      "3    0.013709  0.001360  0.514703  0.000173  0.002018  0.006844  0.001559   \n",
      "4    0.842204  0.003081  0.001956  0.000233  0.001164  0.006571  0.002642   \n",
      "..        ...       ...       ...       ...       ...       ...       ...   \n",
      "506  0.000410  0.000069  0.000235  0.000000  0.000000  0.000144  0.001184   \n",
      "507  0.000017  0.000035  0.000081  0.000000  0.000000  0.000000  0.000000   \n",
      "508  0.000000  0.000000  0.000000  0.000000  0.000000  0.000000  0.000000   \n",
      "509  0.000627  0.000396  0.000578  0.000000  0.000000  0.000514  0.000229   \n",
      "510  0.000178  0.000205  0.000149  0.000000  0.000000  0.000263  0.000152   \n",
      "\n",
      "          8         9         10   ...       685       686       687  \\\n",
      "0    0.000318  0.003139  0.001945  ...  0.001160  0.000064  0.000584   \n",
      "1    0.000203  0.001841  0.000518  ...  0.000680  0.000000  0.001421   \n",
      "2    0.000000  0.000000  0.000000  ...  0.000000  0.000000  0.000000   \n",
      "3    0.000708  0.002643  0.001223  ...  0.001115  0.000000  0.000435   \n",
      "4    0.001339  0.003268  0.001710  ...  0.001400  0.000093  0.000626   \n",
      "..        ...       ...       ...  ...       ...       ...       ...   \n",
      "506  0.147837  0.001877  0.000332  ...  0.000000  0.000000  0.000000   \n",
      "507  0.000000  0.000000  0.000000  ...  0.000000  0.000000  0.000000   \n",
      "508  0.000000  0.000000  0.000000  ...  0.000000  0.000000  0.000000   \n",
      "509  0.000274  0.000635  0.000067  ...  0.001099  0.000000  0.000498   \n",
      "510  0.000386  0.000130  0.000315  ...  0.001303  0.000000  0.000678   \n",
      "\n",
      "          688       689       690       691       692       693       694  \n",
      "0    0.000016  0.000111  0.000079  0.000279  0.000142  0.000111  0.001348  \n",
      "1    0.000160  0.000295  0.000000  0.001094  0.000285  0.000000  0.000972  \n",
      "2    0.000000  0.000000  0.000000  0.000000  0.000000  0.000000  0.000000  \n",
      "3    0.000086  0.000168  0.000083  0.000555  0.000250  0.000084  0.001076  \n",
      "4    0.000062  0.000200  0.000153  0.000256  0.000230  0.000323  0.001032  \n",
      "..        ...       ...       ...       ...       ...       ...       ...  \n",
      "506  0.000000  0.000000  0.000000  0.000000  0.000000  0.000000  0.000090  \n",
      "507  0.000000  0.000000  0.000000  0.000000  0.000000  0.000000  0.000094  \n",
      "508  0.000000  0.000000  0.000000  0.000000  0.000000  0.000000  0.000000  \n",
      "509  0.000000  0.000235  0.000225  0.000527  0.000000  0.000234  0.001076  \n",
      "510  0.000000  0.000000  0.000000  0.000280  0.000000  0.000466  0.000169  \n",
      "\n",
      "[500 rows x 587 columns]\n",
      "          0       1        2      3      4    5      6       7     8     9    \\\n",
      "0       927.0   453.0  22035.0   92.0   60.0  0.0  166.0   612.0  19.0   1.0   \n",
      "1       175.0     9.0     85.0   17.0   17.0  1.0   42.0   168.0  13.0   3.0   \n",
      "2        13.0     0.0     31.0    1.0    2.0  0.0    2.0     6.0   0.0   0.0   \n",
      "3       577.0  1088.0    142.0   13.0   14.0  0.0   71.0   153.0   7.0   0.0   \n",
      "4    213424.0    52.0   1425.0  395.0  349.0  3.0  755.0  4206.0  91.0  10.0   \n",
      "..        ...     ...      ...    ...    ...  ...    ...     ...   ...   ...   \n",
      "732      86.0     0.0     23.0    5.0    3.0  0.0   11.0    39.0   2.0   0.0   \n",
      "733      16.0     0.0      2.0    0.0    0.0  0.0    1.0     3.0   0.0   0.0   \n",
      "734       8.0     0.0      3.0    1.0    0.0  0.0    0.0     4.0   0.0   0.0   \n",
      "735       9.0     0.0      5.0    0.0    1.0  0.0    1.0     5.0   0.0   0.0   \n",
      "736       1.0     0.0      1.0    1.0    0.0  0.0    0.0     2.0   0.0   0.0   \n",
      "\n",
      "     ...    453    454    455    456    457     458     459     460    461  \\\n",
      "0    ...   71.0   51.0   24.0   34.0   53.0   166.0   114.0   159.0   19.0   \n",
      "1    ...   67.0   72.0  137.0  134.0  422.0   241.0  4672.0   210.0  778.0   \n",
      "2    ...    1.0    0.0    0.0    0.0    0.0     2.0     0.0     0.0    0.0   \n",
      "3    ...   10.0   11.0    9.0   10.0   18.0    85.0    81.0    56.0    7.0   \n",
      "4    ...  271.0  191.0  171.0  185.0  324.0  2070.0  1142.0  1650.0  133.0   \n",
      "..   ...    ...    ...    ...    ...    ...     ...     ...     ...    ...   \n",
      "732  ...    3.0    6.0    1.0    3.0    4.0    11.0     4.0     9.0    0.0   \n",
      "733  ...    0.0    0.0    0.0    0.0    2.0     1.0     2.0     0.0    0.0   \n",
      "734  ...    0.0    1.0    1.0    1.0    1.0     0.0     1.0     1.0    0.0   \n",
      "735  ...    1.0    0.0    0.0    0.0    0.0     0.0     8.0     2.0    1.0   \n",
      "736  ...    0.0    0.0    0.0    0.0    0.0     1.0     2.0     0.0    0.0   \n",
      "\n",
      "       462  \n",
      "0     73.0  \n",
      "1    531.0  \n",
      "2      0.0  \n",
      "3     30.0  \n",
      "4    462.0  \n",
      "..     ...  \n",
      "732    4.0  \n",
      "733    1.0  \n",
      "734    0.0  \n",
      "735    1.0  \n",
      "736    0.0  \n",
      "\n",
      "[728 rows x 419 columns]\n",
      "          0         1         2         3         4         5         6    \\\n",
      "0    0.003925  0.019405  0.586521  0.002903  0.001962  0.000000  0.004188   \n",
      "1    0.000775  0.000708  0.001755  0.000822  0.000869  0.000086  0.001464   \n",
      "2    0.000061  0.000000  0.000837  0.000108  0.000246  0.000000  0.000116   \n",
      "3    0.002603  0.138211  0.003182  0.000768  0.000886  0.000000  0.002852   \n",
      "4    0.921580  0.000224  0.005356  0.001651  0.001465  0.000013  0.003057   \n",
      "..        ...       ...       ...       ...       ...       ...       ...   \n",
      "732  0.000397  0.000000  0.000591  0.000451  0.000301  0.000000  0.000575   \n",
      "733  0.000074  0.000000  0.000054  0.000000  0.000000  0.000000  0.000057   \n",
      "734  0.000037  0.000000  0.000081  0.000106  0.000000  0.000000  0.000000   \n",
      "735  0.000042  0.000000  0.000134  0.000000  0.000121  0.000000  0.000057   \n",
      "736  0.000005  0.000000  0.000027  0.000109  0.000000  0.000000  0.000000   \n",
      "\n",
      "          7         8         9    ...       453       454       455  \\\n",
      "0    0.004995  0.000747  0.000044  ...  0.002215  0.001772  0.000861   \n",
      "1    0.001502  0.000905  0.000252  ...  0.003193  0.004070  0.008213   \n",
      "2    0.000060  0.000000  0.000000  ...  0.000104  0.000000  0.000000   \n",
      "3    0.001415  0.000659  0.000000  ...  0.000579  0.000786  0.000690   \n",
      "4    0.012870  0.000390  0.000043  ...  0.001130  0.000807  0.000726   \n",
      "..        ...       ...       ...  ...       ...       ...       ...   \n",
      "732  0.000381  0.000418  0.000000  ...  0.000262  0.000735  0.000139   \n",
      "733  0.000030  0.000000  0.000000  ...  0.000000  0.000000  0.000000   \n",
      "734  0.000040  0.000000  0.000000  ...  0.000000  0.000155  0.000181   \n",
      "735  0.000050  0.000000  0.000000  ...  0.000102  0.000000  0.000000   \n",
      "736  0.000020  0.000000  0.000000  ...  0.000000  0.000000  0.000000   \n",
      "\n",
      "          456       457       458       459       460       461       462  \n",
      "0    0.001203  0.001571  0.002047  0.001768  0.002405  0.000686  0.001976  \n",
      "1    0.007840  0.018931  0.003445  0.095618  0.003819  0.049026  0.020896  \n",
      "2    0.000000  0.000000  0.000034  0.000000  0.000000  0.000000  0.000000  \n",
      "3    0.000743  0.000951  0.001281  0.001630  0.001090  0.000543  0.001354  \n",
      "4    0.000784  0.001342  0.007210  0.004208  0.006055  0.000565  0.001890  \n",
      "..        ...       ...       ...       ...       ...       ...       ...  \n",
      "732  0.000393  0.000305  0.000182  0.000091  0.000197  0.000000  0.000245  \n",
      "733  0.000000  0.000174  0.000017  0.000047  0.000000  0.000000  0.000068  \n",
      "734  0.000169  0.000088  0.000000  0.000024  0.000023  0.000000  0.000000  \n",
      "735  0.000000  0.000000  0.000000  0.000189  0.000046  0.000186  0.000068  \n",
      "736  0.000000  0.000000  0.000017  0.000048  0.000000  0.000000  0.000000  \n",
      "\n",
      "[728 rows x 419 columns]\n"
     ]
    },
    {
     "data": {
      "image/png": "[encoded data removed]",
      "text/plain": [
       "<Figure size 640x480 with 1 Axes>"
      ]
     },
     "metadata": {},
     "output_type": "display_data"
    },
    {
     "data": {
      "image/png": "[encoded data removed]",
      "text/plain": [
       "<Figure size 640x480 with 1 Axes>"
      ]
     },
     "metadata": {},
     "output_type": "display_data"
    }
   ],
   "source": [
    "\n",
    "#now compare the sortings\n",
    "probe0_compare_ks2_5_ks3 = spikeinterface.comparison.compare_two_sorters(sorting1=probe0_sorting_ks2_5, sorting2=probe0_sorting_ks3, sorting1_name='probe0_KS2_5',sorting2_name= 'probe0_KS3')\n",
    "probe1_compare_ks2_5_ks3 = spikeinterface.comparison.compare_two_sorters(sorting1=probe1_sorting_ks2_5, sorting2=probe1_sorting_ks3,sorting1_name= 'probe1_KS2_5', sorting2_name='probe1_KS3')\n",
    "\n",
    "\n",
    "#now plot the comparison\n",
    "si.plot_agreement_matrix(probe0_compare_ks2_5_ks3)\n",
    "plt.savefig(ephys_folder+'/probe0/sorters/compare_ks2_5_ks3.png')\n",
    "si.plot_agreement_matrix(probe1_compare_ks2_5_ks3)\n",
    "plt.savefig(ephys_folder+'/probe1/sorters/compare_ks2_5_ks3.png')\n",
    "\n",
    "\n",
    "#print the agreement scores and match_event_counts\n",
    "print(probe0_compare_ks2_5_ks3.match_event_count)\n",
    "print(probe0_compare_ks2_5_ks3.agreement_scores)\n",
    "print(probe1_compare_ks2_5_ks3.match_event_count)\n",
    "print(probe1_compare_ks2_5_ks3.agreement_scores)"
   ]
  },
  {
   "cell_type": "code",
   "execution_count": 7,
   "id": "ad401adc",
   "metadata": {},
   "outputs": [
    {
     "data": {
      "application/vnd.jupyter.widget-view+json": {
       "model_id": "23966956c92e47dab3257eebb41129d3",
       "version_major": 2,
       "version_minor": 0
      },
      "text/plain": [
       "extract waveforms shared_memory multi buffer:   0%|          | 0/5194 [00:00<?, ?it/s]"
      ]
     },
     "metadata": {},
     "output_type": "display_data"
    },
    {
     "data": {
      "application/vnd.jupyter.widget-view+json": {
       "model_id": "9e45405da6674c76a930c7c7b7d372a7",
       "version_major": 2,
       "version_minor": 0
      },
      "text/plain": [
       "extract waveforms shared_memory multi buffer:   0%|          | 0/5194 [00:00<?, ?it/s]"
      ]
     },
     "metadata": {},
     "output_type": "display_data"
    },
    {
     "data": {
      "application/vnd.jupyter.widget-view+json": {
       "model_id": "19cb6c624017413fbce4acc18e99346d",
       "version_major": 2,
       "version_minor": 0
      },
      "text/plain": [
       "extract waveforms shared_memory multi buffer:   0%|          | 0/5194 [00:00<?, ?it/s]"
      ]
     },
     "metadata": {},
     "output_type": "display_data"
    },
    {
     "data": {
      "application/vnd.jupyter.widget-view+json": {
       "model_id": "13b445a4e0a04ea2b1f2d64b984dc3b2",
       "version_major": 2,
       "version_minor": 0
      },
      "text/plain": [
       "extract waveforms memmap multi buffer:   0%|          | 0/5194 [00:00<?, ?it/s]"
      ]
     },
     "metadata": {},
     "output_type": "display_data"
    }
   ],
   "source": [
    "#extract waveforms from duplicate removed sortings\n",
    "#extract waveforms from sorted data\n",
    "probe0_we_ks2_5 = si.extract_waveforms(probe0_preprocessed_corrected, probe0_sorting_ks2_5, folder= ephys_folder +'/probe0/waveform/kilosort2_5',\n",
    "                          sparse=True, max_spikes_per_unit=500, ms_before=1.5,ms_after=2.,\n",
    "                          **job_kwargs)\n"
   ]
  },
  {
   "cell_type": "code",
   "execution_count": 8,
   "id": "163b0e2c",
   "metadata": {},
   "outputs": [
    {
     "data": {
      "application/vnd.jupyter.widget-view+json": {
       "model_id": "b925095a222949a19da7e277e8ed673c",
       "version_major": 2,
       "version_minor": 0
      },
      "text/plain": [
       "extract waveforms shared_memory multi buffer:   0%|          | 0/5194 [00:00<?, ?it/s]"
      ]
     },
     "metadata": {},
     "output_type": "display_data"
    },
    {
     "data": {
      "application/vnd.jupyter.widget-view+json": {
       "model_id": "d328e49ab5af419f801ee4a4f1ec268b",
       "version_major": 2,
       "version_minor": 0
      },
      "text/plain": [
       "extract waveforms shared_memory multi buffer:   0%|          | 0/5194 [00:00<?, ?it/s]"
      ]
     },
     "metadata": {},
     "output_type": "display_data"
    },
    {
     "data": {
      "application/vnd.jupyter.widget-view+json": {
       "model_id": "fd0f2c5216404fe39ff119d80be95038",
       "version_major": 2,
       "version_minor": 0
      },
      "text/plain": [
       "extract waveforms shared_memory multi buffer:   0%|          | 0/5194 [00:00<?, ?it/s]"
      ]
     },
     "metadata": {},
     "output_type": "display_data"
    },
    {
     "data": {
      "application/vnd.jupyter.widget-view+json": {
       "model_id": "c43a8ae0b66d42b08ab9234075035bc3",
       "version_major": 2,
       "version_minor": 0
      },
      "text/plain": [
       "extract waveforms memmap multi buffer:   0%|          | 0/5194 [00:00<?, ?it/s]"
      ]
     },
     "metadata": {},
     "output_type": "display_data"
    },
    {
     "data": {
      "application/vnd.jupyter.widget-view+json": {
       "model_id": "998afdb44fc84a4290d9003597530f1c",
       "version_major": 2,
       "version_minor": 0
      },
      "text/plain": [
       "extract waveforms shared_memory multi buffer:   0%|          | 0/5194 [00:00<?, ?it/s]"
      ]
     },
     "metadata": {},
     "output_type": "display_data"
    },
    {
     "data": {
      "application/vnd.jupyter.widget-view+json": {
       "model_id": "2f9f38bed44a4236a7f0fc985595be8b",
       "version_major": 2,
       "version_minor": 0
      },
      "text/plain": [
       "extract waveforms shared_memory multi buffer:   0%|          | 0/5194 [00:00<?, ?it/s]"
      ]
     },
     "metadata": {},
     "output_type": "display_data"
    },
    {
     "data": {
      "application/vnd.jupyter.widget-view+json": {
       "model_id": "046dbe5a0d5948c1ba7a309b10e60de9",
       "version_major": 2,
       "version_minor": 0
      },
      "text/plain": [
       "extract waveforms shared_memory multi buffer:   0%|          | 0/5194 [00:00<?, ?it/s]"
      ]
     },
     "metadata": {},
     "output_type": "display_data"
    },
    {
     "data": {
      "application/vnd.jupyter.widget-view+json": {
       "model_id": "868c59d8beb6489f8322f089c4f91ba7",
       "version_major": 2,
       "version_minor": 0
      },
      "text/plain": [
       "extract waveforms shared_memory multi buffer:   0%|          | 0/5194 [00:00<?, ?it/s]"
      ]
     },
     "metadata": {},
     "output_type": "display_data"
    },
    {
     "data": {
      "application/vnd.jupyter.widget-view+json": {
       "model_id": "d60ef58d40e643a08b29fd0c1647bc7e",
       "version_major": 2,
       "version_minor": 0
      },
      "text/plain": [
       "extract waveforms memmap multi buffer:   0%|          | 0/5194 [00:00<?, ?it/s]"
      ]
     },
     "metadata": {},
     "output_type": "display_data"
    },
    {
     "data": {
      "application/vnd.jupyter.widget-view+json": {
       "model_id": "a1191810c9194f8db3d9b846860965f7",
       "version_major": 2,
       "version_minor": 0
      },
      "text/plain": [
       "extract waveforms shared_memory multi buffer:   0%|          | 0/5194 [00:00<?, ?it/s]"
      ]
     },
     "metadata": {},
     "output_type": "display_data"
    },
    {
     "data": {
      "application/vnd.jupyter.widget-view+json": {
       "model_id": "3104a3235e4e43729d9a2e0f41ec0366",
       "version_major": 2,
       "version_minor": 0
      },
      "text/plain": [
       "extract waveforms shared_memory multi buffer:   0%|          | 0/5194 [00:00<?, ?it/s]"
      ]
     },
     "metadata": {},
     "output_type": "display_data"
    },
    {
     "data": {
      "application/vnd.jupyter.widget-view+json": {
       "model_id": "7b4c5e5d28744e85989614fb2a98a2d0",
       "version_major": 2,
       "version_minor": 0
      },
      "text/plain": [
       "extract waveforms shared_memory multi buffer:   0%|          | 0/5194 [00:00<?, ?it/s]"
      ]
     },
     "metadata": {},
     "output_type": "display_data"
    },
    {
     "data": {
      "application/vnd.jupyter.widget-view+json": {
       "model_id": "a8cc774fabf042c799bbfb23e0c29005",
       "version_major": 2,
       "version_minor": 0
      },
      "text/plain": [
       "extract waveforms memmap multi buffer:   0%|          | 0/5194 [00:00<?, ?it/s]"
      ]
     },
     "metadata": {},
     "output_type": "display_data"
    }
   ],
   "source": [
    "\n",
    "\n",
    "probe0_we_ks3 = si.extract_waveforms(probe0_preprocessed_corrected, probe0_sorting_ks3, folder=ephys_folder +'/probe0/waveform/kilosort3',\n",
    "                          sparse=True, max_spikes_per_unit=500, ms_before=1.5,ms_after=2., \n",
    "                          **job_kwargs)\n",
    "\n",
    "\n",
    "probe1_we_ks2_5 = si.extract_waveforms(probe1_preprocessed_corrected, probe1_sorting_ks2_5, folder=ephys_folder +'/probe1/waveform/kilosort2_5',\n",
    "                          sparse=True, max_spikes_per_unit=500, ms_before=1.5,ms_after=2.,\n",
    "                          **job_kwargs)\n",
    "\n",
    "\n",
    "probe1_we_ks3 = si.extract_waveforms(probe1_preprocessed_corrected, probe1_sorting_ks3, folder=ephys_folder +'/probe1/waveform/kilosort3',\n",
    "                          sparse=True, max_spikes_per_unit=500, ms_before=1.5,ms_after=2.,\n",
    "                          **job_kwargs)\n"
   ]
  },
  {
   "cell_type": "code",
   "execution_count": 9,
   "id": "9bfa55af",
   "metadata": {},
   "outputs": [
    {
     "name": "stderr",
     "output_type": "stream",
     "text": [
      "/home/lab/anaconda3/envs/si_env/lib/python3.10/site-packages/scipy/stats/_stats_mstats_common.py:182: RuntimeWarning: invalid value encountered in scalar divide\n",
      "  slope = ssxym / ssxm\n",
      "/home/lab/anaconda3/envs/si_env/lib/python3.10/site-packages/scipy/stats/_stats_mstats_common.py:196: RuntimeWarning: invalid value encountered in sqrt\n",
      "  t = r * np.sqrt(df / ((1.0 - r + TINY)*(1.0 + r + TINY)))\n",
      "/home/lab/anaconda3/envs/si_env/lib/python3.10/site-packages/scipy/stats/_stats_mstats_common.py:199: RuntimeWarning: invalid value encountered in scalar divide\n",
      "  slope_stderr = np.sqrt((1 - r**2) * ssym / ssxm / df)\n"
     ]
    },
    {
     "data": {
      "application/vnd.jupyter.widget-view+json": {
       "model_id": "f082428368e0457c8f3e76b8403353b5",
       "version_major": 2,
       "version_minor": 0
      },
      "text/plain": [
       "Fitting PCA:   0%|          | 0/500 [00:00<?, ?it/s]"
      ]
     },
     "metadata": {},
     "output_type": "display_data"
    },
    {
     "data": {
      "application/vnd.jupyter.widget-view+json": {
       "model_id": "1f85f24fc6ee41839c91fa97e25b158a",
       "version_major": 2,
       "version_minor": 0
      },
      "text/plain": [
       "Projecting waveforms:   0%|          | 0/500 [00:00<?, ?it/s]"
      ]
     },
     "metadata": {},
     "output_type": "display_data"
    },
    {
     "data": {
      "application/vnd.jupyter.widget-view+json": {
       "model_id": "cfd2b622ba3b446aa6e548b19d2332da",
       "version_major": 2,
       "version_minor": 0
      },
      "text/plain": [
       "Fitting PCA:   0%|          | 0/587 [00:00<?, ?it/s]"
      ]
     },
     "metadata": {},
     "output_type": "display_data"
    },
    {
     "data": {
      "application/vnd.jupyter.widget-view+json": {
       "model_id": "c248121b6d204a02945190a921faf259",
       "version_major": 2,
       "version_minor": 0
      },
      "text/plain": [
       "Projecting waveforms:   0%|          | 0/587 [00:00<?, ?it/s]"
      ]
     },
     "metadata": {},
     "output_type": "display_data"
    },
    {
     "data": {
      "application/vnd.jupyter.widget-view+json": {
       "model_id": "b81fe44c6fc84f199c4416bc0df46981",
       "version_major": 2,
       "version_minor": 0
      },
      "text/plain": [
       "Fitting PCA:   0%|          | 0/728 [00:00<?, ?it/s]"
      ]
     },
     "metadata": {},
     "output_type": "display_data"
    },
    {
     "data": {
      "application/vnd.jupyter.widget-view+json": {
       "model_id": "881a67072a004b959d06d198f7b26dc6",
       "version_major": 2,
       "version_minor": 0
      },
      "text/plain": [
       "Projecting waveforms:   0%|          | 0/728 [00:00<?, ?it/s]"
      ]
     },
     "metadata": {},
     "output_type": "display_data"
    },
    {
     "data": {
      "application/vnd.jupyter.widget-view+json": {
       "model_id": "342b9de2a4e94b76a277e481f93193c1",
       "version_major": 2,
       "version_minor": 0
      },
      "text/plain": [
       "Fitting PCA:   0%|          | 0/419 [00:00<?, ?it/s]"
      ]
     },
     "metadata": {},
     "output_type": "display_data"
    },
    {
     "data": {
      "application/vnd.jupyter.widget-view+json": {
       "model_id": "1e578adcdf634ca8987acb57ed96ac7d",
       "version_major": 2,
       "version_minor": 0
      },
      "text/plain": [
       "Projecting waveforms:   0%|          | 0/419 [00:00<?, ?it/s]"
      ]
     },
     "metadata": {},
     "output_type": "display_data"
    },
    {
     "data": {
      "application/vnd.jupyter.widget-view+json": {
       "model_id": "9c83451b53e44833a01965b3a34d46d2",
       "version_major": 2,
       "version_minor": 0
      },
      "text/plain": [
       "extract amplitudes:   0%|          | 0/5194 [00:00<?, ?it/s]"
      ]
     },
     "metadata": {},
     "output_type": "display_data"
    },
    {
     "data": {
      "application/vnd.jupyter.widget-view+json": {
       "model_id": "aef9de382ab34c98b58b6e49d84424ec",
       "version_major": 2,
       "version_minor": 0
      },
      "text/plain": [
       "extract amplitudes:   0%|          | 0/5194 [00:00<?, ?it/s]"
      ]
     },
     "metadata": {},
     "output_type": "display_data"
    },
    {
     "data": {
      "application/vnd.jupyter.widget-view+json": {
       "model_id": "a617d705c87b4a48820d396353ede5aa",
       "version_major": 2,
       "version_minor": 0
      },
      "text/plain": [
       "extract amplitudes:   0%|          | 0/5194 [00:00<?, ?it/s]"
      ]
     },
     "metadata": {},
     "output_type": "display_data"
    },
    {
     "data": {
      "application/vnd.jupyter.widget-view+json": {
       "model_id": "c2d88753aead42b09df1c60f2d21f44b",
       "version_major": 2,
       "version_minor": 0
      },
      "text/plain": [
       "extract amplitudes:   0%|          | 0/5194 [00:00<?, ?it/s]"
      ]
     },
     "metadata": {},
     "output_type": "display_data"
    },
    {
     "data": {
      "application/vnd.jupyter.widget-view+json": {
       "model_id": "67ccbef06270415bbd5143be593a79df",
       "version_major": 2,
       "version_minor": 0
      },
      "text/plain": [
       "localize peaks using center_of_mass:   0%|          | 0/5194 [00:00<?, ?it/s]"
      ]
     },
     "metadata": {},
     "output_type": "display_data"
    },
    {
     "data": {
      "application/vnd.jupyter.widget-view+json": {
       "model_id": "3c154e33b6474ad7808ac56159fad0e9",
       "version_major": 2,
       "version_minor": 0
      },
      "text/plain": [
       "localize peaks using center_of_mass:   0%|          | 0/5194 [00:00<?, ?it/s]"
      ]
     },
     "metadata": {},
     "output_type": "display_data"
    },
    {
     "data": {
      "application/vnd.jupyter.widget-view+json": {
       "model_id": "f665792f95b44d52baef5ad66d517e6d",
       "version_major": 2,
       "version_minor": 0
      },
      "text/plain": [
       "localize peaks using center_of_mass:   0%|          | 0/5194 [00:00<?, ?it/s]"
      ]
     },
     "metadata": {},
     "output_type": "display_data"
    },
    {
     "data": {
      "application/vnd.jupyter.widget-view+json": {
       "model_id": "e87aa798532e4b1786be337049f05eae",
       "version_major": 2,
       "version_minor": 0
      },
      "text/plain": [
       "localize peaks using center_of_mass:   0%|          | 0/5194 [00:00<?, ?it/s]"
      ]
     },
     "metadata": {},
     "output_type": "display_data"
    }
   ],
   "source": [
    "#grab extracted waveforms saved on the server\n",
    "\n",
    "probe0_we_ks2_5 = si.load_waveforms(folder = ephys_folder + 'probe0/waveform/kilosort2_5/')\n",
    "probe0_we_ks3 = si.load_waveforms(folder = ephys_folder + 'probe0/waveform/kilosort3/')\n",
    "probe1_we_ks2_5 = si.load_waveforms(folder = ephys_folder + 'probe1/waveform/kilosort2_5/')\n",
    "probe1_we_ks3 = si.load_waveforms(folder = ephys_folder + 'probe1/waveform/kilosort3/')\n",
    "\n",
    "template_metric_probe0_ks2_5 = si.compute_template_metrics(probe0_we_ks2_5)\n",
    "template_metric_probe0_ks3 = si.compute_template_metrics(probe0_we_ks3)\n",
    "template_metric_probe1_ks2_5 = si.compute_template_metrics(probe1_we_ks2_5)\n",
    "template_metric_probe1_ks3 = si.compute_template_metrics(probe1_we_ks3)\n",
    "\n",
    "noise_levels_probe0_ks2_5 = si.compute_noise_levels(probe0_we_ks2_5)\n",
    "noise_levels_probe0_ks3 = si.compute_noise_levels(probe0_we_ks3)\n",
    "noise_levels_probe1_ks2_5 = si.compute_noise_levels(probe1_we_ks2_5)\n",
    "noise_levels_probe1_ks3 = si.compute_noise_levels(probe1_we_ks3)\n",
    "\n",
    "PCA_probe0_ks2_5 = si.compute_principal_components(probe0_we_ks2_5)\n",
    "PCA_probe0_ks3 = si.compute_principal_components(probe0_we_ks3)\n",
    "PCA_probe1_ks2_5 = si.compute_principal_components(probe1_we_ks2_5)\n",
    "PCA_probe1_ks3 = si.compute_principal_components(probe1_we_ks3)\n",
    "\n",
    "template_similarity_probe0_ks2_5 = si.compute_template_similarity(probe0_we_ks2_5)\n",
    "template_similarity_probe0_ks3 = si.compute_template_similarity(probe0_we_ks3)\n",
    "template_similarity_probe1_ks2_5 = si.compute_template_similarity(probe1_we_ks2_5)\n",
    "template_similarity_probe1_ks3 = si.compute_template_similarity(probe1_we_ks3)\n",
    "\n",
    "correlograms_probe0_ks2_5 = si.compute_correlograms(probe0_we_ks2_5)\n",
    "correlograms_probe0_ks3 = si.compute_correlograms(probe0_we_ks3)\n",
    "correlograms_probe1_ks2_5 = si.compute_correlograms(probe1_we_ks2_5)\n",
    "correlograms_probe1_ks3 = si.compute_correlograms(probe1_we_ks3)\n",
    "\n",
    "amplitudes_probe0_ks2_5 = si.compute_spike_amplitudes(probe0_we_ks2_5)\n",
    "amplitudes_probe0_ks3 = si.compute_spike_amplitudes(probe0_we_ks3)\n",
    "amplitudes_probe1_ks2_5 = si.compute_spike_amplitudes(probe1_we_ks2_5)\n",
    "amplitudes_probe1_ks3 = si.compute_spike_amplitudes(probe1_we_ks3)\n",
    "\n",
    "unit_locations_probe0_ks2_5 = si.compute_unit_locations(probe0_we_ks2_5)\n",
    "unit_locations_probe0_ks3 = si.compute_unit_locations(probe0_we_ks3)\n",
    "unit_locations_probe1_ks2_5 = si.compute_unit_locations(probe1_we_ks2_5)\n",
    "unit_locations_probe1_ks3 = si.compute_unit_locations(probe1_we_ks3)\n",
    "\n",
    "spike_locations_probe0_ks2_5 = si.compute_spike_locations(probe0_we_ks2_5)\n",
    "spike_locations_probe0_ks3 = si.compute_spike_locations(probe0_we_ks3)\n",
    "spike_locations_probe1_ks2_5 = si.compute_spike_locations(probe1_we_ks2_5)\n",
    "spike_locations_probe1_ks3 = si.compute_spike_locations(probe1_we_ks3)\n"
   ]
  },
  {
   "cell_type": "code",
   "execution_count": 10,
   "id": "8b30b73f",
   "metadata": {},
   "outputs": [],
   "source": [
    "\n",
    "isi_histograms_probe0_ks2_5 = si.compute_isi_histograms(probe0_we_ks2_5)\n",
    "isi_histograms_probe0_ks3 = si.compute_isi_histograms(probe0_we_ks3)\n",
    "isi_histograms_probe1_ks2_5 = si.compute_isi_histograms(probe1_we_ks2_5)\n",
    "isi_histograms_probe1_ks3 = si.compute_isi_histograms(probe1_we_ks3)"
   ]
  },
  {
   "cell_type": "code",
   "execution_count": 11,
   "id": "368565dd",
   "metadata": {},
   "outputs": [
    {
     "name": "stderr",
     "output_type": "stream",
     "text": [
      "/home/lab/anaconda3/envs/si_env/lib/python3.10/site-packages/spikeinterface/qualitymetrics/misc_metrics.py:842: UserWarning: Units [2, 6, 7, 13, 37, 42, 80, 101, 102, 117, 118, 119, 120, 122, 123, 141, 149, 202, 230, 236, 252, 298, 301, 302, 314, 322, 348, 368, 372, 373, 374, 375, 381, 384, 386, 387, 402, 415, 439, 445, 449, 462, 464, 465, 470, 471, 481, 482, 489, 492, 495, 496, 497, 500, 507, 508] have too few spikes and amplitude_cutoff is set to NaN\n",
      "  warnings.warn(f\"Units {nan_units} have too few spikes and \" \"amplitude_cutoff is set to NaN\")\n",
      "/home/lab/anaconda3/envs/si_env/lib/python3.10/site-packages/numpy/core/_methods.py:206: RuntimeWarning: Degrees of freedom <= 0 for slice\n",
      "  ret = _var(a, axis=axis, dtype=dtype, out=out, ddof=ddof,\n",
      "/home/lab/anaconda3/envs/si_env/lib/python3.10/site-packages/numpy/core/_methods.py:163: RuntimeWarning: invalid value encountered in divide\n",
      "  arrmean = um.true_divide(arrmean, div, out=arrmean,\n",
      "/home/lab/anaconda3/envs/si_env/lib/python3.10/site-packages/numpy/core/_methods.py:198: RuntimeWarning: invalid value encountered in divide\n",
      "  ret = ret.dtype.type(ret / rcount)\n",
      "/home/lab/anaconda3/envs/si_env/lib/python3.10/site-packages/spikeinterface/qualitymetrics/misc_metrics.py:842: UserWarning: Units [3, 4, 11, 17, 18, 20, 28, 34, 35, 38, 39, 40, 41, 45, 46, 47, 49, 67, 68, 70, 72, 75, 79, 85, 86, 89, 90, 95, 96, 99, 103, 104, 107, 108, 111, 117, 119, 123, 124, 125, 127, 134, 150, 151, 152, 153, 156, 157, 158, 160, 161, 163, 164, 166, 167, 168, 169, 170, 172, 174, 175, 178, 179, 193, 212, 213, 218, 232, 243, 257, 261, 262, 264, 267, 286, 289, 290, 293, 295, 296, 297, 300, 302, 303, 309, 311, 314, 315, 316, 317, 331, 333, 334, 335, 337, 339, 340, 341, 342, 343, 345, 346, 351, 356, 360, 371, 375, 377, 387, 390, 391, 392, 394, 395, 396, 397, 399, 400, 401, 402, 409, 410, 411, 418, 420, 425, 426, 427, 429, 430, 431, 432, 433, 434, 435, 442, 443, 453, 458, 462, 464, 468, 487, 488, 491, 493, 494, 495, 496, 497, 499, 501, 504, 505, 506, 507, 514, 515, 516, 518, 533, 536, 537, 539, 546, 554, 555, 562, 570, 573, 574, 575, 577, 578, 579, 580, 581, 582, 584, 585, 588, 595, 597, 601, 609, 620, 635, 645, 646, 647, 650, 651, 665, 666, 682, 684, 686, 688] have too few spikes and amplitude_cutoff is set to NaN\n",
      "  warnings.warn(f\"Units {nan_units} have too few spikes and \" \"amplitude_cutoff is set to NaN\")\n",
      "/home/lab/anaconda3/envs/si_env/lib/python3.10/site-packages/numpy/core/_methods.py:206: RuntimeWarning: Degrees of freedom <= 0 for slice\n",
      "  ret = _var(a, axis=axis, dtype=dtype, out=out, ddof=ddof,\n",
      "/home/lab/anaconda3/envs/si_env/lib/python3.10/site-packages/numpy/core/_methods.py:163: RuntimeWarning: invalid value encountered in divide\n",
      "  arrmean = um.true_divide(arrmean, div, out=arrmean,\n",
      "/home/lab/anaconda3/envs/si_env/lib/python3.10/site-packages/numpy/core/_methods.py:198: RuntimeWarning: invalid value encountered in divide\n",
      "  ret = ret.dtype.type(ret / rcount)\n",
      "/home/lab/anaconda3/envs/si_env/lib/python3.10/site-packages/spikeinterface/qualitymetrics/misc_metrics.py:842: UserWarning: Units [2, 5, 8, 16, 19, 23, 33, 37, 41, 42, 50, 58, 84, 87, 107, 135, 136, 193, 194, 212, 219, 224, 227, 253, 255, 260, 262, 263, 270, 271, 274, 280, 283, 287, 288, 299, 309, 331, 332, 336, 343, 344, 348, 355, 358, 366, 367, 382, 383, 384, 385, 393, 396, 399, 400, 401, 414, 417, 418, 422, 424, 429, 431, 436, 438, 439, 442, 452, 459, 484, 494, 497, 498, 499, 502, 503, 504, 506, 507, 517, 518, 519, 520, 521, 525, 526, 528, 532, 537, 540, 541, 542, 544, 545, 554, 557, 561, 570, 577, 578, 579, 582, 583, 596, 597, 598, 606, 612, 614, 615, 617, 621, 622, 625, 626, 632, 635, 637, 638, 639, 640, 642, 643, 645, 646, 648, 661, 674, 675, 676, 677, 681, 689, 690, 691, 694, 698, 700, 701, 702, 703, 705, 706, 709, 710, 713, 714, 718, 722, 724, 726, 727, 728, 729, 733, 734, 735, 736] have too few spikes and amplitude_cutoff is set to NaN\n",
      "  warnings.warn(f\"Units {nan_units} have too few spikes and \" \"amplitude_cutoff is set to NaN\")\n",
      "/home/lab/anaconda3/envs/si_env/lib/python3.10/site-packages/numpy/core/_methods.py:206: RuntimeWarning: Degrees of freedom <= 0 for slice\n",
      "  ret = _var(a, axis=axis, dtype=dtype, out=out, ddof=ddof,\n",
      "/home/lab/anaconda3/envs/si_env/lib/python3.10/site-packages/numpy/core/_methods.py:163: RuntimeWarning: invalid value encountered in divide\n",
      "  arrmean = um.true_divide(arrmean, div, out=arrmean,\n",
      "/home/lab/anaconda3/envs/si_env/lib/python3.10/site-packages/numpy/core/_methods.py:198: RuntimeWarning: invalid value encountered in divide\n",
      "  ret = ret.dtype.type(ret / rcount)\n",
      "/home/lab/anaconda3/envs/si_env/lib/python3.10/site-packages/spikeinterface/qualitymetrics/misc_metrics.py:842: UserWarning: Units [5, 9, 20, 22, 23, 25, 27, 28, 29, 30, 31, 32, 33, 35, 38, 39, 41, 47, 49, 58, 59, 60, 65, 67, 68, 71, 74, 75, 76, 77, 78, 82, 83, 105, 107, 116, 117, 121, 122, 123, 126, 128, 129, 133, 134, 135, 172, 179, 186, 187, 192, 194, 208, 209, 215, 217, 220, 221, 223, 224, 235, 238, 244, 245, 258, 259, 260, 261, 263, 265, 266, 267, 268, 269, 270, 281, 284, 293, 298, 300, 303, 309, 337, 338, 347, 349, 351, 352, 354, 356, 357, 358, 359, 360, 368, 372, 377, 378, 387, 408, 420, 425, 428, 431, 432, 433, 434, 447] have too few spikes and amplitude_cutoff is set to NaN\n",
      "  warnings.warn(f\"Units {nan_units} have too few spikes and \" \"amplitude_cutoff is set to NaN\")\n",
      "/home/lab/anaconda3/envs/si_env/lib/python3.10/site-packages/numpy/core/_methods.py:206: RuntimeWarning: Degrees of freedom <= 0 for slice\n",
      "  ret = _var(a, axis=axis, dtype=dtype, out=out, ddof=ddof,\n",
      "/home/lab/anaconda3/envs/si_env/lib/python3.10/site-packages/numpy/core/_methods.py:163: RuntimeWarning: invalid value encountered in divide\n",
      "  arrmean = um.true_divide(arrmean, div, out=arrmean,\n",
      "/home/lab/anaconda3/envs/si_env/lib/python3.10/site-packages/numpy/core/_methods.py:198: RuntimeWarning: invalid value encountered in divide\n",
      "  ret = ret.dtype.type(ret / rcount)\n"
     ]
    }
   ],
   "source": [
    "qm_list = si.get_quality_metric_list()\n",
    "probe0_ks2_5_metrics = si.compute_quality_metrics(probe0_we_ks2_5, metric_names=qm_list)\n",
    "probe0_ks3_metrics = si.compute_quality_metrics(probe0_we_ks3, metric_names=qm_list)\n",
    "probe1_ks2_5_metrics = si.compute_quality_metrics(probe1_we_ks2_5, metric_names=qm_list)\n",
    "probe1_ks3_metrics = si.compute_quality_metrics(probe1_we_ks3, metric_names=qm_list)"
   ]
  }
 ],
 "metadata": {
  "kernelspec": {
   "display_name": "Python 3 (ipykernel)",
   "language": "python",
   "name": "python3"
  },
  "language_info": {
   "codemirror_mode": {
    "name": "ipython",
    "version": 3
   },
   "file_extension": ".py",
   "mimetype": "text/x-python",
   "name": "python",
   "nbconvert_exporter": "python",
   "pygments_lexer": "ipython3",
   "version": "3.10.13"
  }
 },
 "nbformat": 4,
 "nbformat_minor": 5
}
