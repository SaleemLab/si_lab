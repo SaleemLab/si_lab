{
 "cells": [
  {
   "cell_type": "code",
   "execution_count": null,
   "id": "45a9b654-e158-44ed-b1c1-b7633f13b1dc",
   "metadata": {},
   "outputs": [],
   "source": []
  },
  {
   "cell_type": "code",
   "execution_count": 1,
   "id": "d9770503-b96e-4c88-ae31-922830647187",
   "metadata": {},
   "outputs": [],
   "source": [
    "# a script to look at post-sorting steps of spike interface\n",
    "\n",
    "#import the necessary packages\n",
    "from pathlib import Path\n",
    "import platform\n",
    "import os\n",
    "import shutil\n",
    "import argparse\n",
    "import numpy as np\n",
    "import matplotlib.pyplot as plt\n",
    "import spikeinterface.sorters\n",
    "import spikeinterface.full as si\n",
    "import  scipy.signal\n",
    "import spikeinterface.extractors as se\n",
    "import spikeinterface.comparison\n",
    "import spikeinterface.exporters\n",
    "import spikeinterface.curation\n",
    "import spikeinterface.widgets \n",
    "import docker\n",
    "from datetime import datetime\n",
    "\n",
    "\n",
    "\n"
   ]
  },
  {
   "cell_type": "code",
   "execution_count": 23,
   "id": "a01318fc",
   "metadata": {},
   "outputs": [
    {
     "name": "stdout",
     "output_type": "stream",
     "text": [
      "/mnt/rds01/ibn-vision/DATA/SUBJECTS/M23034/ephys/20230804/\n"
     ]
    }
   ],
   "source": [
    "#set up the base folder\n",
    "base_folder = '/mnt/rds01/ibn-vision/DATA/SUBJECTS/'\n",
    "mouse = 'M23034'\n",
    "date = '20230804'\n",
    "# ephys folder\n",
    "ephys_folder = base_folder + mouse + '/ephys/' + date +'/'\n",
    "print(ephys_folder)\n",
    "#probe0_raw = si.read_spikeglx(ephys_folder,stream_name='imec0.ap')\n",
    "#probe1_raw = si.read_spikeglx(ephys_folder,stream_name='imec1.ap')\n",
    "#probe0_sample_frames = [probe0_raw.get_num_frames(segment_index=i) for i in range(probe0_raw.get_num_segments())]\n",
    "#probe0_start_sample_frames = [1] + [probe0_sample_frames[i] + 1 for i in range(0, len(probe0_sample_frames)-1)]\n",
    "#probe1_sample_frames = [probe1_raw.get_num_frames(segment_index=i) for i in range(probe1_raw.get_num_segments())]\n",
    "#probe1_start_sample_frames = [1] + [probe1_sample_frames[i] + 1 for i in range(0, len(probe1_sample_frames)-1)]\n",
    "\n",
    "#import pandas as pd\n",
    "#probe0_segment_frames = pd.DataFrame({'segment start frame': probe0_start_sample_frames, 'segment end frame': probe0_sample_frames})\n",
    "#probe0_segment_frames.to_csv(ephys_folder+'/probe0/sorters/segment_frames.csv', index=False)\n",
    "#probe1_segment_frames = pd.DataFrame({'segment start frame': probe1_start_sample_frames, 'segment end frame': probe1_sample_frames})\n",
    "#probe1_segment_frames.to_csv(ephys_folder+'/probe1/sorters/segment_frames.csv', index=False)"
   ]
  },
  {
   "cell_type": "code",
   "execution_count": 3,
   "id": "99d2c047",
   "metadata": {},
   "outputs": [],
   "source": [
    "#load binary recording file\n",
    "probe0_preprocessed_corrected = si.load_extractor(dst_folder + 'probe0_preprocessed')\n",
    "probe1_preprocessed_corrected = si.load_extractor(dst_folder + 'probe1_preprocessed')\n",
    "\n"
   ]
  },
  {
   "cell_type": "code",
   "execution_count": 4,
   "id": "0070f994",
   "metadata": {},
   "outputs": [
    {
     "name": "stdout",
     "output_type": "stream",
     "text": [
      "KiloSortSortingExtractor: 561 units - 1 segments - 30.0kHz\n",
      "KiloSortSortingExtractor: 253 units - 1 segments - 30.0kHz\n",
      "KiloSortSortingExtractor: 682 units - 1 segments - 30.0kHz\n",
      "KiloSortSortingExtractor: 505 units - 1 segments - 30.0kHz\n"
     ]
    }
   ],
   "source": [
    "#compare sorters\n",
    "\n",
    "#first load the sorting\n",
    "probe0_sorting_ks2_5 = si.read_sorter_folder(dst_folder+'/probe0/sorters/kilosort2_5/', register_recording=True, sorting_info=True, raise_error=True)\n",
    "probe0_sorting_ks4 = si.read_sorter_folder(dst_folder+'/probe0/sorters/kilosort4/', register_recording=True, sorting_info=True, raise_error=True)\n",
    "probe1_sorting_ks2_5 = si.read_sorter_folder(dst_folder+'/probe1/sorters/kilosort2_5/', register_recording=True, sorting_info=True, raise_error=True)\n",
    "probe1_sorting_ks3 = si.read_sorter_folder(dst_folder+'/probe1/sorters/kilosort3/', register_recording=True, sorting_info=True, raise_error=True)\n",
    "print(probe0_sorting_ks2_5)\n",
    "print(probe0_sorting_ks3)\n",
    "print(probe1_sorting_ks2_5)\n",
    "print(probe1_sorting_ks3)"
   ]
  },
  {
   "cell_type": "code",
   "execution_count": 5,
   "id": "5a0c5300",
   "metadata": {},
   "outputs": [
    {
     "name": "stdout",
     "output_type": "stream",
     "text": [
      "RemoveDuplicatedSpikesSorting: 561 units - 1 segments - 30.0kHz\n",
      "RemoveDuplicatedSpikesSorting: 253 units - 1 segments - 30.0kHz\n",
      "RemoveDuplicatedSpikesSorting: 682 units - 1 segments - 30.0kHz\n",
      "RemoveDuplicatedSpikesSorting: 505 units - 1 segments - 30.0kHz\n"
     ]
    }
   ],
   "source": [
    "\n",
    "# set up parallel processing jobs\n",
    "job_kwargs = dict(n_jobs=20, chunk_duration='1s', progress_bar=True)\n",
    "#remove duplicates\n",
    "probe0_sorting_ks2_5 = si.remove_duplicated_spikes(sorting = probe0_sorting_ks2_5, censored_period_ms=0.3,method='keep_first')\n",
    "probe0_sorting_ks3 = si.remove_duplicated_spikes(sorting = probe0_sorting_ks3, censored_period_ms=0.3,method='keep_first')\n",
    "probe1_sorting_ks2_5 = si.remove_duplicated_spikes(sorting = probe1_sorting_ks2_5, censored_period_ms=0.3,method='keep_first')\n",
    "probe1_sorting_ks3 = si.remove_duplicated_spikes(sorting = probe1_sorting_ks3, censored_period_ms=0.3,method='keep_first')\n",
    "\n",
    "print(probe0_sorting_ks2_5)\n",
    "print(probe0_sorting_ks3)\n",
    "print(probe1_sorting_ks2_5)\n",
    "print(probe1_sorting_ks3)"
   ]
  },
  {
   "cell_type": "code",
   "execution_count": 6,
   "id": "20cb496c",
   "metadata": {},
   "outputs": [
    {
     "name": "stdout",
     "output_type": "stream",
     "text": [
      "        0        1      2      3      4      5       6       7    8     9    \\\n",
      "0    9631.0   1925.0  131.0  976.0  538.0  273.0  5749.0  7348.0  3.0  19.0   \n",
      "1     150.0    334.0    0.0   12.0    7.0   14.0    67.0    32.0  2.0   7.0   \n",
      "2      83.0    412.0    0.0   19.0    3.0   28.0    32.0    35.0  4.0   1.0   \n",
      "3      11.0   8127.0    0.0    2.0  369.0  565.0    14.0    14.0  0.0   0.0   \n",
      "4      21.0  13889.0    0.0    2.0  360.0  565.0    24.0    15.0  0.0   1.0   \n",
      "..      ...      ...    ...    ...    ...    ...     ...     ...  ...   ...   \n",
      "558     2.0      8.0    0.0    0.0    1.0    1.0     0.0     2.0  0.0   0.0   \n",
      "559    31.0     30.0    0.0    4.0    8.0    7.0    36.0    21.0  1.0   2.0   \n",
      "560    37.0     51.0    0.0    5.0   16.0   16.0    56.0    12.0  0.0   1.0   \n",
      "561    61.0     40.0    0.0    4.0   16.0    9.0    55.0    35.0  0.0   0.0   \n",
      "562    27.0     16.0    1.0    0.0   24.0    4.0    85.0    13.0  0.0   1.0   \n",
      "\n",
      "     ...     250     251     252  253     254     255     256  257     258  \\\n",
      "0    ...  4583.0  4987.0  3667.0  0.0  4223.0  3902.0  2418.0  0.0  4916.0   \n",
      "1    ...   111.0    86.0    79.0  0.0    80.0    83.0    47.0  0.0   106.0   \n",
      "2    ...    74.0    35.0    31.0  0.0    21.0    26.0    14.0  0.0    34.0   \n",
      "3    ...    45.0    65.0    34.0  0.0    28.0    33.0    26.0  0.0    35.0   \n",
      "4    ...    66.0    75.0    41.0  0.0    39.0    57.0    27.0  0.0    82.0   \n",
      "..   ...     ...     ...     ...  ...     ...     ...     ...  ...     ...   \n",
      "558  ...   240.0   165.0    58.0  0.0    57.0    24.0    26.0  0.0    45.0   \n",
      "559  ...   806.0  1369.0   294.0  0.0   359.0   129.0   128.0  1.0   246.0   \n",
      "560  ...   262.0   358.0   145.0  0.0    76.0    48.0    41.0  0.0    67.0   \n",
      "561  ...  1050.0   489.0   156.0  0.0   204.0   103.0    81.0  0.0   129.0   \n",
      "562  ...   281.0   235.0   114.0  0.0   108.0    62.0    59.0  0.0    98.0   \n",
      "\n",
      "        259  \n",
      "0    6571.0  \n",
      "1     108.0  \n",
      "2      57.0  \n",
      "3      41.0  \n",
      "4      73.0  \n",
      "..      ...  \n",
      "558    45.0  \n",
      "559   307.0  \n",
      "560   115.0  \n",
      "561   200.0  \n",
      "562   201.0  \n",
      "\n",
      "[561 rows x 253 columns]\n",
      "          0         1         2         3         4         5         6    \\\n",
      "0    0.293870  0.016615  0.004348  0.031857  0.010794  0.004926  0.155102   \n",
      "1    0.009290  0.003657  0.000000  0.002185  0.000288  0.000473  0.004026   \n",
      "2    0.004698  0.004443  0.000000  0.002738  0.000117  0.000903  0.001765   \n",
      "3    0.000390  0.085144  0.000000  0.000115  0.010307  0.013808  0.000490   \n",
      "4    0.000783  0.157258  0.000000  0.000125  0.010452  0.014285  0.000882   \n",
      "..        ...       ...       ...       ...       ...       ...       ...   \n",
      "558  0.000158  0.000091  0.000000  0.000000  0.000049  0.000039  0.000000   \n",
      "559  0.002066  0.000332  0.000000  0.000943  0.000348  0.000247  0.002336   \n",
      "560  0.002646  0.000571  0.000000  0.001550  0.000728  0.000586  0.003895   \n",
      "561  0.004367  0.000448  0.000000  0.001236  0.000728  0.000330  0.003823   \n",
      "562  0.002050  0.000181  0.000947  0.000000  0.001135  0.000151  0.006285   \n",
      "\n",
      "          7         8         9    ...       250       251       252  253  \\\n",
      "0    0.234184  0.000099  0.000629  ...  0.058302  0.078477  0.073232  0.0   \n",
      "1    0.002543  0.000485  0.001696  ...  0.001948  0.002031  0.002867  0.0   \n",
      "2    0.002494  0.000718  0.000179  ...  0.001266  0.000798  0.001067  0.0   \n",
      "3    0.000571  0.000000  0.000000  ...  0.000653  0.001198  0.000861  0.0   \n",
      "4    0.000648  0.000000  0.000068  ...  0.000977  0.001418  0.001075  0.0   \n",
      "..        ...       ...       ...  ...       ...       ...       ...  ...   \n",
      "558  0.000224  0.000000  0.000000  ...  0.004513  0.004275  0.002426  0.0   \n",
      "559  0.001853  0.000350  0.000696  ...  0.014650  0.034400  0.011274  0.0   \n",
      "560  0.001162  0.000000  0.000538  ...  0.004803  0.008996  0.005751  0.0   \n",
      "561  0.003393  0.000000  0.000000  ...  0.019529  0.012326  0.006188  0.0   \n",
      "562  0.001368  0.000000  0.000965  ...  0.005232  0.006011  0.004668  0.0   \n",
      "\n",
      "          254       255       256       257       258       259  \n",
      "0    0.090644  0.082533  0.057411  0.000000  0.086894  0.109980  \n",
      "1    0.003249  0.003321  0.002557  0.000000  0.003005  0.002693  \n",
      "2    0.000803  0.000981  0.000705  0.000000  0.000924  0.001370  \n",
      "3    0.000766  0.000893  0.000858  0.000000  0.000741  0.000787  \n",
      "4    0.001108  0.001604  0.000933  0.000000  0.001789  0.001441  \n",
      "..        ...       ...       ...       ...       ...       ...  \n",
      "558  0.002717  0.001123  0.001765  0.000000  0.001421  0.001233  \n",
      "559  0.015552  0.005447  0.007513  0.000343  0.007262  0.007945  \n",
      "560  0.003400  0.002110  0.002545  0.000000  0.002028  0.003041  \n",
      "561  0.009175  0.004537  0.005037  0.000000  0.003911  0.005299  \n",
      "562  0.005024  0.002829  0.003864  0.000000  0.003045  0.005446  \n",
      "\n",
      "[561 rows x 253 columns]\n",
      "         0      1      2      4     5     6      7      8      9    10   ...  \\\n",
      "0      318.0   81.0  397.0   77.0  18.0  24.0  196.0  234.0  146.0  1.0  ...   \n",
      "1     2853.0  165.0  155.0  284.0   2.0  87.0   78.0  250.0   80.0  0.0  ...   \n",
      "2     3133.0  336.0  289.0  163.0   7.0  58.0  114.0  280.0  107.0  0.0  ...   \n",
      "3    12019.0   68.0  675.0   95.0  18.0  45.0  307.0  383.0  262.0  1.0  ...   \n",
      "4       12.0   51.0    0.0  109.0   0.0   0.0    7.0    0.0    3.0  0.0  ...   \n",
      "..       ...    ...    ...    ...   ...   ...    ...    ...    ...  ...  ...   \n",
      "689      3.0    2.0   14.0    2.0   0.0   0.0    3.0   11.0    4.0  0.0  ...   \n",
      "690      1.0    2.0    6.0    6.0   2.0   1.0    8.0    7.0    4.0  0.0  ...   \n",
      "691      2.0    1.0    4.0    2.0   0.0   0.0    3.0    4.0    3.0  0.0  ...   \n",
      "692      1.0    1.0    3.0    1.0   0.0   0.0    1.0    1.0    3.0  0.0  ...   \n",
      "693      0.0    1.0    2.0    1.0   0.0   0.0    3.0    0.0    0.0  0.0  ...   \n",
      "\n",
      "     592  593  594     595  596  597  598    599     600   601  \n",
      "0    2.0  5.0  0.0  1088.0  1.0  2.0  3.0  588.0  4086.0  68.0  \n",
      "1    1.0  1.0  0.0    74.0  0.0  0.0  0.0   38.0   221.0  21.0  \n",
      "2    0.0  2.0  1.0    64.0  1.0  0.0  0.0   36.0    85.0  17.0  \n",
      "3    1.0  3.0  1.0   171.0  0.0  1.0  0.0   95.0   103.0  41.0  \n",
      "4    0.0  0.0  0.0     3.0  0.0  0.0  0.0    3.0     4.0   2.0  \n",
      "..   ...  ...  ...     ...  ...  ...  ...    ...     ...   ...  \n",
      "689  1.0  2.0  1.0   135.0  0.0  0.0  0.0    7.0     3.0   0.0  \n",
      "690  0.0  0.0  0.0     5.0  0.0  0.0  0.0    3.0     2.0   0.0  \n",
      "691  0.0  0.0  0.0     7.0  0.0  0.0  0.0    2.0     4.0   0.0  \n",
      "692  0.0  0.0  0.0     4.0  0.0  0.0  0.0    0.0     3.0   1.0  \n",
      "693  0.0  0.0  0.0     0.0  0.0  0.0  0.0    0.0     0.0   1.0  \n",
      "\n",
      "[682 rows x 505 columns]\n",
      "          0         1         2         4         5         6         7    \\\n",
      "0    0.004940  0.001956  0.001756  0.001631  0.000986  0.000912  0.001776   \n",
      "1    0.053501  0.005030  0.000712  0.007381  0.000205  0.004904  0.000765   \n",
      "2    0.056582  0.009612  0.001314  0.003983  0.000580  0.002886  0.001093   \n",
      "3    0.223859  0.001603  0.002976  0.001971  0.000934  0.001648  0.002759   \n",
      "4    0.000235  0.001840  0.000000  0.003258  0.000000  0.000000  0.000072   \n",
      "..        ...       ...       ...       ...       ...       ...       ...   \n",
      "689  0.000059  0.000072  0.000066  0.000059  0.000000  0.000000  0.000031   \n",
      "690  0.000020  0.000072  0.000028  0.000178  0.000431  0.000079  0.000083   \n",
      "691  0.000039  0.000036  0.000019  0.000060  0.000000  0.000000  0.000031   \n",
      "692  0.000020  0.000036  0.000014  0.000030  0.000000  0.000000  0.000010   \n",
      "693  0.000000  0.000036  0.000009  0.000030  0.000000  0.000000  0.000031   \n",
      "\n",
      "          8         9         10   ...       592       593       594  \\\n",
      "0    0.001671  0.001519  0.000070  ...  0.000138  0.000337  0.000000   \n",
      "1    0.001901  0.000913  0.000000  ...  0.000168  0.000158  0.000000   \n",
      "2    0.002092  0.001189  0.000000  ...  0.000000  0.000231  0.000126   \n",
      "3    0.002718  0.002701  0.000065  ...  0.000065  0.000189  0.000066   \n",
      "4    0.000000  0.000036  0.000000  ...  0.000000  0.000000  0.000000   \n",
      "..        ...       ...       ...  ...       ...       ...       ...   \n",
      "689  0.000087  0.000048  0.000000  ...  0.001195  0.001635  0.001923   \n",
      "690  0.000055  0.000048  0.000000  ...  0.000000  0.000000  0.000000   \n",
      "691  0.000032  0.000036  0.000000  ...  0.000000  0.000000  0.000000   \n",
      "692  0.000008  0.000036  0.000000  ...  0.000000  0.000000  0.000000   \n",
      "693  0.000000  0.000000  0.000000  ...  0.000000  0.000000  0.000000   \n",
      "\n",
      "          595       596       597       598       599       600       601  \n",
      "0    0.014497  0.000070  0.000141  0.000211  0.011682  0.086559  0.002368  \n",
      "1    0.001096  0.000000  0.000000  0.000000  0.000897  0.005194  0.001037  \n",
      "2    0.000916  0.000125  0.000000  0.000000  0.000805  0.001888  0.000753  \n",
      "3    0.002221  0.000000  0.000066  0.000000  0.001833  0.001973  0.001378  \n",
      "4    0.000048  0.000000  0.000000  0.000000  0.000081  0.000106  0.000133  \n",
      "..        ...       ...       ...       ...       ...       ...       ...  \n",
      "689  0.002164  0.000000  0.000000  0.000000  0.000188  0.000080  0.000000  \n",
      "690  0.000080  0.000000  0.000000  0.000000  0.000080  0.000053  0.000000  \n",
      "691  0.000112  0.000000  0.000000  0.000000  0.000054  0.000107  0.000000  \n",
      "692  0.000064  0.000000  0.000000  0.000000  0.000000  0.000080  0.000067  \n",
      "693  0.000000  0.000000  0.000000  0.000000  0.000000  0.000000  0.000067  \n",
      "\n",
      "[682 rows x 505 columns]\n"
     ]
    },
    {
     "data": {
      "image/png": "[encoded data removed]",
      "text/plain": [
       "<Figure size 640x480 with 1 Axes>"
      ]
     },
     "metadata": {},
     "output_type": "display_data"
    },
    {
     "data": {
      "image/png": "[encoded data removed]",
      "text/plain": [
       "<Figure size 640x480 with 1 Axes>"
      ]
     },
     "metadata": {},
     "output_type": "display_data"
    }
   ],
   "source": [
    "\n",
    "#now compare the sortings\n",
    "probe0_compare_ks2_5_ks3 = spikeinterface.comparison.compare_two_sorters(sorting1=probe0_sorting_ks2_5, sorting2=probe0_sorting_ks3, sorting1_name='probe0_KS2_5',sorting2_name= 'probe0_KS3')\n",
    "probe1_compare_ks2_5_ks3 = spikeinterface.comparison.compare_two_sorters(sorting1=probe1_sorting_ks2_5, sorting2=probe1_sorting_ks3,sorting1_name= 'probe1_KS2_5', sorting2_name='probe1_KS3')\n",
    "\n",
    "\n",
    "#now plot the comparison\n",
    "si.plot_agreement_matrix(probe0_compare_ks2_5_ks3)\n",
    "plt.savefig(ephys_folder+'/probe0/sorters/compare_ks2_5_ks3.png')\n",
    "si.plot_agreement_matrix(probe1_compare_ks2_5_ks3)\n",
    "plt.savefig(ephys_folder+'/probe1/sorters/compare_ks2_5_ks3.png')\n",
    "\n",
    "\n",
    "#print the agreement scores and match_event_counts\n",
    "print(probe0_compare_ks2_5_ks3.match_event_count)\n",
    "print(probe0_compare_ks2_5_ks3.agreement_scores)\n",
    "print(probe1_compare_ks2_5_ks3.match_event_count)\n",
    "print(probe1_compare_ks2_5_ks3.agreement_scores)"
   ]
  },
  {
   "cell_type": "code",
   "execution_count": 7,
   "id": "ad401adc",
   "metadata": {},
   "outputs": [
    {
     "data": {
      "application/vnd.jupyter.widget-view+json": {
       "model_id": "dd394d727cf44fbf8a9effcd20adf1d8",
       "version_major": 2,
       "version_minor": 0
      },
      "text/plain": [
       "extract waveforms shared_memory multi buffer:   0%|          | 0/4331 [00:00<?, ?it/s]"
      ]
     },
     "metadata": {},
     "output_type": "display_data"
    },
    {
     "data": {
      "application/vnd.jupyter.widget-view+json": {
       "model_id": "4ec48ef2716441c08a657b420dc3dab0",
       "version_major": 2,
       "version_minor": 0
      },
      "text/plain": [
       "extract waveforms shared_memory multi buffer:   0%|          | 0/4331 [00:00<?, ?it/s]"
      ]
     },
     "metadata": {},
     "output_type": "display_data"
    },
    {
     "data": {
      "application/vnd.jupyter.widget-view+json": {
       "model_id": "569fc04be1284836a07b5956d2d10628",
       "version_major": 2,
       "version_minor": 0
      },
      "text/plain": [
       "extract waveforms shared_memory multi buffer:   0%|          | 0/4331 [00:00<?, ?it/s]"
      ]
     },
     "metadata": {},
     "output_type": "display_data"
    },
    {
     "data": {
      "application/vnd.jupyter.widget-view+json": {
       "model_id": "68db44f94f3f462ba6a0c3418322f4d9",
       "version_major": 2,
       "version_minor": 0
      },
      "text/plain": [
       "extract waveforms memmap multi buffer:   0%|          | 0/4331 [00:00<?, ?it/s]"
      ]
     },
     "metadata": {},
     "output_type": "display_data"
    }
   ],
   "source": [
    "#extract waveforms from duplicate removed sortings\n",
    "#extract waveforms from sorted data\n",
    "probe0_we_ks2_5 = si.extract_waveforms(probe0_preprocessed_corrected, probe0_sorting_ks2_5, folder= ephys_folder +'/probe0/waveform/kilosort2_5',\n",
    "                          sparse=True, max_spikes_per_unit=500, ms_before=1.5,ms_after=2.,\n",
    "                          **job_kwargs)\n"
   ]
  },
  {
   "cell_type": "code",
   "execution_count": 8,
   "id": "163b0e2c",
   "metadata": {},
   "outputs": [
    {
     "data": {
      "application/vnd.jupyter.widget-view+json": {
       "model_id": "8599f37435d1442ea66e9583988b9f57",
       "version_major": 2,
       "version_minor": 0
      },
      "text/plain": [
       "extract waveforms shared_memory multi buffer:   0%|          | 0/4331 [00:00<?, ?it/s]"
      ]
     },
     "metadata": {},
     "output_type": "display_data"
    },
    {
     "data": {
      "application/vnd.jupyter.widget-view+json": {
       "model_id": "8a3fe8a89b64472994b0f37a51099bdf",
       "version_major": 2,
       "version_minor": 0
      },
      "text/plain": [
       "extract waveforms shared_memory multi buffer:   0%|          | 0/4331 [00:00<?, ?it/s]"
      ]
     },
     "metadata": {},
     "output_type": "display_data"
    },
    {
     "data": {
      "application/vnd.jupyter.widget-view+json": {
       "model_id": "6ae10c8c1fd443d794da33ff1bace3cf",
       "version_major": 2,
       "version_minor": 0
      },
      "text/plain": [
       "extract waveforms memmap multi buffer:   0%|          | 0/4331 [00:00<?, ?it/s]"
      ]
     },
     "metadata": {},
     "output_type": "display_data"
    },
    {
     "data": {
      "application/vnd.jupyter.widget-view+json": {
       "model_id": "975695b96423465ea59ff6159dbe99d0",
       "version_major": 2,
       "version_minor": 0
      },
      "text/plain": [
       "extract waveforms shared_memory multi buffer:   0%|          | 0/4331 [00:00<?, ?it/s]"
      ]
     },
     "metadata": {},
     "output_type": "display_data"
    },
    {
     "data": {
      "application/vnd.jupyter.widget-view+json": {
       "model_id": "fb2d240ee066442e9a76f009b07c70d4",
       "version_major": 2,
       "version_minor": 0
      },
      "text/plain": [
       "extract waveforms shared_memory multi buffer:   0%|          | 0/4331 [00:00<?, ?it/s]"
      ]
     },
     "metadata": {},
     "output_type": "display_data"
    },
    {
     "data": {
      "application/vnd.jupyter.widget-view+json": {
       "model_id": "d979b069b2f24a3aa475af21a746fe4d",
       "version_major": 2,
       "version_minor": 0
      },
      "text/plain": [
       "extract waveforms shared_memory multi buffer:   0%|          | 0/4331 [00:00<?, ?it/s]"
      ]
     },
     "metadata": {},
     "output_type": "display_data"
    },
    {
     "data": {
      "application/vnd.jupyter.widget-view+json": {
       "model_id": "3d90fef7b1cf4f738f429fc597852103",
       "version_major": 2,
       "version_minor": 0
      },
      "text/plain": [
       "extract waveforms shared_memory multi buffer:   0%|          | 0/4331 [00:00<?, ?it/s]"
      ]
     },
     "metadata": {},
     "output_type": "display_data"
    },
    {
     "data": {
      "application/vnd.jupyter.widget-view+json": {
       "model_id": "dee81ee32d0a40c8a1b574604e7bce3f",
       "version_major": 2,
       "version_minor": 0
      },
      "text/plain": [
       "extract waveforms memmap multi buffer:   0%|          | 0/4331 [00:00<?, ?it/s]"
      ]
     },
     "metadata": {},
     "output_type": "display_data"
    },
    {
     "data": {
      "application/vnd.jupyter.widget-view+json": {
       "model_id": "12d9b7eaea2e4326a6663ec28c8f4194",
       "version_major": 2,
       "version_minor": 0
      },
      "text/plain": [
       "extract waveforms shared_memory multi buffer:   0%|          | 0/4331 [00:00<?, ?it/s]"
      ]
     },
     "metadata": {},
     "output_type": "display_data"
    },
    {
     "ename": "KeyboardInterrupt",
     "evalue": "",
     "output_type": "error",
     "traceback": [
      "\u001b[0;31m---------------------------------------------------------------------------\u001b[0m",
      "\u001b[0;31mKeyboardInterrupt\u001b[0m                         Traceback (most recent call last)",
      "Cell \u001b[0;32mIn[8], line 11\u001b[0m\n\u001b[1;32m      1\u001b[0m probe0_we_ks3 \u001b[38;5;241m=\u001b[39m si\u001b[38;5;241m.\u001b[39mextract_waveforms(probe0_preprocessed_corrected, probe0_sorting_ks3, folder\u001b[38;5;241m=\u001b[39mephys_folder \u001b[38;5;241m+\u001b[39m\u001b[38;5;124m'\u001b[39m\u001b[38;5;124m/probe0/waveform/kilosort3\u001b[39m\u001b[38;5;124m'\u001b[39m,\n\u001b[1;32m      2\u001b[0m                           sparse\u001b[38;5;241m=\u001b[39m\u001b[38;5;28;01mTrue\u001b[39;00m, max_spikes_per_unit\u001b[38;5;241m=\u001b[39m\u001b[38;5;241m500\u001b[39m, ms_before\u001b[38;5;241m=\u001b[39m\u001b[38;5;241m1.5\u001b[39m,ms_after\u001b[38;5;241m=\u001b[39m\u001b[38;5;241m2.\u001b[39m, \n\u001b[1;32m      3\u001b[0m                           \u001b[38;5;241m*\u001b[39m\u001b[38;5;241m*\u001b[39mjob_kwargs)\n\u001b[1;32m      6\u001b[0m probe1_we_ks2_5 \u001b[38;5;241m=\u001b[39m si\u001b[38;5;241m.\u001b[39mextract_waveforms(probe1_preprocessed_corrected, probe1_sorting_ks2_5, folder\u001b[38;5;241m=\u001b[39mephys_folder \u001b[38;5;241m+\u001b[39m\u001b[38;5;124m'\u001b[39m\u001b[38;5;124m/probe1/waveform/kilosort2_5\u001b[39m\u001b[38;5;124m'\u001b[39m,\n\u001b[1;32m      7\u001b[0m                           sparse\u001b[38;5;241m=\u001b[39m\u001b[38;5;28;01mTrue\u001b[39;00m, max_spikes_per_unit\u001b[38;5;241m=\u001b[39m\u001b[38;5;241m500\u001b[39m, ms_before\u001b[38;5;241m=\u001b[39m\u001b[38;5;241m1.5\u001b[39m,ms_after\u001b[38;5;241m=\u001b[39m\u001b[38;5;241m2.\u001b[39m,\n\u001b[1;32m      8\u001b[0m                           \u001b[38;5;241m*\u001b[39m\u001b[38;5;241m*\u001b[39mjob_kwargs)\n\u001b[0;32m---> 11\u001b[0m probe1_we_ks3 \u001b[38;5;241m=\u001b[39m \u001b[43msi\u001b[49m\u001b[38;5;241;43m.\u001b[39;49m\u001b[43mextract_waveforms\u001b[49m\u001b[43m(\u001b[49m\u001b[43mprobe1_preprocessed_corrected\u001b[49m\u001b[43m,\u001b[49m\u001b[43m \u001b[49m\u001b[43mprobe1_sorting_ks3\u001b[49m\u001b[43m,\u001b[49m\u001b[43m \u001b[49m\u001b[43mfolder\u001b[49m\u001b[38;5;241;43m=\u001b[39;49m\u001b[43mephys_folder\u001b[49m\u001b[43m \u001b[49m\u001b[38;5;241;43m+\u001b[39;49m\u001b[38;5;124;43m'\u001b[39;49m\u001b[38;5;124;43m/probe1/waveform/kilosort3\u001b[39;49m\u001b[38;5;124;43m'\u001b[39;49m\u001b[43m,\u001b[49m\n\u001b[1;32m     12\u001b[0m \u001b[43m                          \u001b[49m\u001b[43msparse\u001b[49m\u001b[38;5;241;43m=\u001b[39;49m\u001b[38;5;28;43;01mTrue\u001b[39;49;00m\u001b[43m,\u001b[49m\u001b[43m \u001b[49m\u001b[43mmax_spikes_per_unit\u001b[49m\u001b[38;5;241;43m=\u001b[39;49m\u001b[38;5;241;43m500\u001b[39;49m\u001b[43m,\u001b[49m\u001b[43m \u001b[49m\u001b[43mms_before\u001b[49m\u001b[38;5;241;43m=\u001b[39;49m\u001b[38;5;241;43m1.5\u001b[39;49m\u001b[43m,\u001b[49m\u001b[43mms_after\u001b[49m\u001b[38;5;241;43m=\u001b[39;49m\u001b[38;5;241;43m2.\u001b[39;49m\u001b[43m,\u001b[49m\n\u001b[1;32m     13\u001b[0m \u001b[43m                          \u001b[49m\u001b[38;5;241;43m*\u001b[39;49m\u001b[38;5;241;43m*\u001b[39;49m\u001b[43mjob_kwargs\u001b[49m\u001b[43m)\u001b[49m\n",
      "File \u001b[0;32m~/anaconda3/envs/si_env/lib/python3.10/site-packages/spikeinterface/core/waveform_extractor.py:1612\u001b[0m, in \u001b[0;36mextract_waveforms\u001b[0;34m(recording, sorting, folder, mode, precompute_template, ms_before, ms_after, max_spikes_per_unit, overwrite, return_scaled, dtype, sparse, sparsity, sparsity_temp_folder, num_spikes_for_sparsity, unit_batch_size, allow_unfiltered, use_relative_path, seed, load_if_exists, **kwargs)\u001b[0m\n\u001b[1;32m   1610\u001b[0m         \u001b[38;5;28;01massert\u001b[39;00m \u001b[38;5;28mall\u001b[39m(ch \u001b[38;5;129;01min\u001b[39;00m recording\u001b[38;5;241m.\u001b[39mchannel_ids \u001b[38;5;28;01mfor\u001b[39;00m ch \u001b[38;5;129;01min\u001b[39;00m channels), \u001b[38;5;124m\"\u001b[39m\u001b[38;5;124mInvalid channel ids in sparsity\u001b[39m\u001b[38;5;124m\"\u001b[39m\n\u001b[1;32m   1611\u001b[0m \u001b[38;5;28;01melif\u001b[39;00m sparse:\n\u001b[0;32m-> 1612\u001b[0m     sparsity \u001b[38;5;241m=\u001b[39m \u001b[43mprecompute_sparsity\u001b[49m\u001b[43m(\u001b[49m\n\u001b[1;32m   1613\u001b[0m \u001b[43m        \u001b[49m\u001b[43mrecording\u001b[49m\u001b[43m,\u001b[49m\n\u001b[1;32m   1614\u001b[0m \u001b[43m        \u001b[49m\u001b[43msorting\u001b[49m\u001b[43m,\u001b[49m\n\u001b[1;32m   1615\u001b[0m \u001b[43m        \u001b[49m\u001b[43mms_before\u001b[49m\u001b[38;5;241;43m=\u001b[39;49m\u001b[43mms_before\u001b[49m\u001b[43m,\u001b[49m\n\u001b[1;32m   1616\u001b[0m \u001b[43m        \u001b[49m\u001b[43mms_after\u001b[49m\u001b[38;5;241;43m=\u001b[39;49m\u001b[43mms_after\u001b[49m\u001b[43m,\u001b[49m\n\u001b[1;32m   1617\u001b[0m \u001b[43m        \u001b[49m\u001b[43mnum_spikes_for_sparsity\u001b[49m\u001b[38;5;241;43m=\u001b[39;49m\u001b[43mnum_spikes_for_sparsity\u001b[49m\u001b[43m,\u001b[49m\n\u001b[1;32m   1618\u001b[0m \u001b[43m        \u001b[49m\u001b[43munit_batch_size\u001b[49m\u001b[38;5;241;43m=\u001b[39;49m\u001b[43munit_batch_size\u001b[49m\u001b[43m,\u001b[49m\n\u001b[1;32m   1619\u001b[0m \u001b[43m        \u001b[49m\u001b[43mtemp_folder\u001b[49m\u001b[38;5;241;43m=\u001b[39;49m\u001b[43msparsity_temp_folder\u001b[49m\u001b[43m,\u001b[49m\n\u001b[1;32m   1620\u001b[0m \u001b[43m        \u001b[49m\u001b[43mallow_unfiltered\u001b[49m\u001b[38;5;241;43m=\u001b[39;49m\u001b[43mallow_unfiltered\u001b[49m\u001b[43m,\u001b[49m\n\u001b[1;32m   1621\u001b[0m \u001b[43m        \u001b[49m\u001b[38;5;241;43m*\u001b[39;49m\u001b[38;5;241;43m*\u001b[39;49m\u001b[43mestimate_kwargs\u001b[49m\u001b[43m,\u001b[49m\n\u001b[1;32m   1622\u001b[0m \u001b[43m        \u001b[49m\u001b[38;5;241;43m*\u001b[39;49m\u001b[38;5;241;43m*\u001b[39;49m\u001b[43mjob_kwargs\u001b[49m\u001b[43m,\u001b[49m\n\u001b[1;32m   1623\u001b[0m \u001b[43m    \u001b[49m\u001b[43m)\u001b[49m\n\u001b[1;32m   1624\u001b[0m \u001b[38;5;28;01melse\u001b[39;00m:\n\u001b[1;32m   1625\u001b[0m     sparsity \u001b[38;5;241m=\u001b[39m \u001b[38;5;28;01mNone\u001b[39;00m\n",
      "File \u001b[0;32m~/anaconda3/envs/si_env/lib/python3.10/site-packages/spikeinterface/core/waveform_extractor.py:1740\u001b[0m, in \u001b[0;36mprecompute_sparsity\u001b[0;34m(recording, sorting, num_spikes_for_sparsity, unit_batch_size, ms_before, ms_after, temp_folder, allow_unfiltered, **kwargs)\u001b[0m\n\u001b[1;32m   1738\u001b[0m local_ids \u001b[38;5;241m=\u001b[39m unit_ids[sl]\n\u001b[1;32m   1739\u001b[0m local_sorting \u001b[38;5;241m=\u001b[39m sorting\u001b[38;5;241m.\u001b[39mselect_units(local_ids)\n\u001b[0;32m-> 1740\u001b[0m local_we \u001b[38;5;241m=\u001b[39m \u001b[43mextract_waveforms\u001b[49m\u001b[43m(\u001b[49m\n\u001b[1;32m   1741\u001b[0m \u001b[43m    \u001b[49m\u001b[43mrecording\u001b[49m\u001b[43m,\u001b[49m\n\u001b[1;32m   1742\u001b[0m \u001b[43m    \u001b[49m\u001b[43mlocal_sorting\u001b[49m\u001b[43m,\u001b[49m\n\u001b[1;32m   1743\u001b[0m \u001b[43m    \u001b[49m\u001b[43mfolder\u001b[49m\u001b[38;5;241;43m=\u001b[39;49m\u001b[38;5;28;43;01mNone\u001b[39;49;00m\u001b[43m,\u001b[49m\n\u001b[1;32m   1744\u001b[0m \u001b[43m    \u001b[49m\u001b[43mmode\u001b[49m\u001b[38;5;241;43m=\u001b[39;49m\u001b[38;5;124;43m\"\u001b[39;49m\u001b[38;5;124;43mmemory\u001b[39;49m\u001b[38;5;124;43m\"\u001b[39;49m\u001b[43m,\u001b[49m\n\u001b[1;32m   1745\u001b[0m \u001b[43m    \u001b[49m\u001b[43mprecompute_template\u001b[49m\u001b[38;5;241;43m=\u001b[39;49m\u001b[43m(\u001b[49m\u001b[38;5;124;43m\"\u001b[39;49m\u001b[38;5;124;43maverage\u001b[39;49m\u001b[38;5;124;43m\"\u001b[39;49m\u001b[43m,\u001b[49m\u001b[43m)\u001b[49m\u001b[43m,\u001b[49m\n\u001b[1;32m   1746\u001b[0m \u001b[43m    \u001b[49m\u001b[43mms_before\u001b[49m\u001b[38;5;241;43m=\u001b[39;49m\u001b[43mms_before\u001b[49m\u001b[43m,\u001b[49m\n\u001b[1;32m   1747\u001b[0m \u001b[43m    \u001b[49m\u001b[43mms_after\u001b[49m\u001b[38;5;241;43m=\u001b[39;49m\u001b[43mms_after\u001b[49m\u001b[43m,\u001b[49m\n\u001b[1;32m   1748\u001b[0m \u001b[43m    \u001b[49m\u001b[43mmax_spikes_per_unit\u001b[49m\u001b[38;5;241;43m=\u001b[39;49m\u001b[43mnum_spikes_for_sparsity\u001b[49m\u001b[43m,\u001b[49m\n\u001b[1;32m   1749\u001b[0m \u001b[43m    \u001b[49m\u001b[43mreturn_scaled\u001b[49m\u001b[38;5;241;43m=\u001b[39;49m\u001b[38;5;28;43;01mFalse\u001b[39;49;00m\u001b[43m,\u001b[49m\n\u001b[1;32m   1750\u001b[0m \u001b[43m    \u001b[49m\u001b[43mallow_unfiltered\u001b[49m\u001b[38;5;241;43m=\u001b[39;49m\u001b[43mallow_unfiltered\u001b[49m\u001b[43m,\u001b[49m\n\u001b[1;32m   1751\u001b[0m \u001b[43m    \u001b[49m\u001b[43msparse\u001b[49m\u001b[38;5;241;43m=\u001b[39;49m\u001b[38;5;28;43;01mFalse\u001b[39;49;00m\u001b[43m,\u001b[49m\n\u001b[1;32m   1752\u001b[0m \u001b[43m    \u001b[49m\u001b[38;5;241;43m*\u001b[39;49m\u001b[38;5;241;43m*\u001b[39;49m\u001b[43mjob_kwargs\u001b[49m\u001b[43m,\u001b[49m\n\u001b[1;32m   1753\u001b[0m \u001b[43m\u001b[49m\u001b[43m)\u001b[49m\n\u001b[1;32m   1754\u001b[0m local_sparsity \u001b[38;5;241m=\u001b[39m compute_sparsity(local_we, \u001b[38;5;241m*\u001b[39m\u001b[38;5;241m*\u001b[39msparse_kwargs)\n\u001b[1;32m   1755\u001b[0m mask[sl, :] \u001b[38;5;241m=\u001b[39m local_sparsity\u001b[38;5;241m.\u001b[39mmask\n",
      "File \u001b[0;32m~/anaconda3/envs/si_env/lib/python3.10/site-packages/spikeinterface/core/waveform_extractor.py:1643\u001b[0m, in \u001b[0;36mextract_waveforms\u001b[0;34m(recording, sorting, folder, mode, precompute_template, ms_before, ms_after, max_spikes_per_unit, overwrite, return_scaled, dtype, sparse, sparsity, sparsity_temp_folder, num_spikes_for_sparsity, unit_batch_size, allow_unfiltered, use_relative_path, seed, load_if_exists, **kwargs)\u001b[0m\n\u001b[1;32m   1627\u001b[0m we \u001b[38;5;241m=\u001b[39m WaveformExtractor\u001b[38;5;241m.\u001b[39mcreate(\n\u001b[1;32m   1628\u001b[0m     recording,\n\u001b[1;32m   1629\u001b[0m     sorting,\n\u001b[0;32m   (...)\u001b[0m\n\u001b[1;32m   1634\u001b[0m     sparsity\u001b[38;5;241m=\u001b[39msparsity,\n\u001b[1;32m   1635\u001b[0m )\n\u001b[1;32m   1636\u001b[0m we\u001b[38;5;241m.\u001b[39mset_params(\n\u001b[1;32m   1637\u001b[0m     ms_before\u001b[38;5;241m=\u001b[39mms_before,\n\u001b[1;32m   1638\u001b[0m     ms_after\u001b[38;5;241m=\u001b[39mms_after,\n\u001b[0;32m   (...)\u001b[0m\n\u001b[1;32m   1641\u001b[0m     return_scaled\u001b[38;5;241m=\u001b[39mreturn_scaled,\n\u001b[1;32m   1642\u001b[0m )\n\u001b[0;32m-> 1643\u001b[0m \u001b[43mwe\u001b[49m\u001b[38;5;241;43m.\u001b[39;49m\u001b[43mrun_extract_waveforms\u001b[49m\u001b[43m(\u001b[49m\u001b[43mseed\u001b[49m\u001b[38;5;241;43m=\u001b[39;49m\u001b[43mseed\u001b[49m\u001b[43m,\u001b[49m\u001b[43m \u001b[49m\u001b[38;5;241;43m*\u001b[39;49m\u001b[38;5;241;43m*\u001b[39;49m\u001b[43mjob_kwargs\u001b[49m\u001b[43m)\u001b[49m\n\u001b[1;32m   1645\u001b[0m \u001b[38;5;28;01mif\u001b[39;00m precompute_template \u001b[38;5;129;01mis\u001b[39;00m \u001b[38;5;129;01mnot\u001b[39;00m \u001b[38;5;28;01mNone\u001b[39;00m:\n\u001b[1;32m   1646\u001b[0m     we\u001b[38;5;241m.\u001b[39mprecompute_templates(modes\u001b[38;5;241m=\u001b[39mprecompute_template)\n",
      "File \u001b[0;32m~/anaconda3/envs/si_env/lib/python3.10/site-packages/spikeinterface/core/waveform_extractor.py:1402\u001b[0m, in \u001b[0;36mWaveformExtractor.run_extract_waveforms\u001b[0;34m(self, seed, **job_kwargs)\u001b[0m\n\u001b[1;32m   1399\u001b[0m \u001b[38;5;28;01melse\u001b[39;00m:\n\u001b[1;32m   1400\u001b[0m     sparsity_mask \u001b[38;5;241m=\u001b[39m \u001b[38;5;28mself\u001b[39m\u001b[38;5;241m.\u001b[39msparsity\u001b[38;5;241m.\u001b[39mmask\n\u001b[0;32m-> 1402\u001b[0m wfs_arrays \u001b[38;5;241m=\u001b[39m \u001b[43mextract_waveforms_to_buffers\u001b[49m\u001b[43m(\u001b[49m\n\u001b[1;32m   1403\u001b[0m \u001b[43m    \u001b[49m\u001b[38;5;28;43mself\u001b[39;49m\u001b[38;5;241;43m.\u001b[39;49m\u001b[43mrecording\u001b[49m\u001b[43m,\u001b[49m\n\u001b[1;32m   1404\u001b[0m \u001b[43m    \u001b[49m\u001b[43mspikes\u001b[49m\u001b[43m,\u001b[49m\n\u001b[1;32m   1405\u001b[0m \u001b[43m    \u001b[49m\u001b[43munit_ids\u001b[49m\u001b[43m,\u001b[49m\n\u001b[1;32m   1406\u001b[0m \u001b[43m    \u001b[49m\u001b[43mnbefore\u001b[49m\u001b[43m,\u001b[49m\n\u001b[1;32m   1407\u001b[0m \u001b[43m    \u001b[49m\u001b[43mnafter\u001b[49m\u001b[43m,\u001b[49m\n\u001b[1;32m   1408\u001b[0m \u001b[43m    \u001b[49m\u001b[43mmode\u001b[49m\u001b[38;5;241;43m=\u001b[39;49m\u001b[43mmode\u001b[49m\u001b[43m,\u001b[49m\n\u001b[1;32m   1409\u001b[0m \u001b[43m    \u001b[49m\u001b[43mreturn_scaled\u001b[49m\u001b[38;5;241;43m=\u001b[39;49m\u001b[43mreturn_scaled\u001b[49m\u001b[43m,\u001b[49m\n\u001b[1;32m   1410\u001b[0m \u001b[43m    \u001b[49m\u001b[43mfolder\u001b[49m\u001b[38;5;241;43m=\u001b[39;49m\u001b[43mwf_folder\u001b[49m\u001b[43m,\u001b[49m\n\u001b[1;32m   1411\u001b[0m \u001b[43m    \u001b[49m\u001b[43mdtype\u001b[49m\u001b[38;5;241;43m=\u001b[39;49m\u001b[43mp\u001b[49m\u001b[43m[\u001b[49m\u001b[38;5;124;43m\"\u001b[39;49m\u001b[38;5;124;43mdtype\u001b[39;49m\u001b[38;5;124;43m\"\u001b[39;49m\u001b[43m]\u001b[49m\u001b[43m,\u001b[49m\n\u001b[1;32m   1412\u001b[0m \u001b[43m    \u001b[49m\u001b[43msparsity_mask\u001b[49m\u001b[38;5;241;43m=\u001b[39;49m\u001b[43msparsity_mask\u001b[49m\u001b[43m,\u001b[49m\n\u001b[1;32m   1413\u001b[0m \u001b[43m    \u001b[49m\u001b[43mcopy\u001b[49m\u001b[38;5;241;43m=\u001b[39;49m\u001b[43mcopy\u001b[49m\u001b[43m,\u001b[49m\n\u001b[1;32m   1414\u001b[0m \u001b[43m    \u001b[49m\u001b[38;5;241;43m*\u001b[39;49m\u001b[38;5;241;43m*\u001b[39;49m\u001b[43mjob_kwargs\u001b[49m\u001b[43m,\u001b[49m\n\u001b[1;32m   1415\u001b[0m \u001b[43m\u001b[49m\u001b[43m)\u001b[49m\n\u001b[1;32m   1416\u001b[0m \u001b[38;5;28;01mif\u001b[39;00m \u001b[38;5;28mself\u001b[39m\u001b[38;5;241m.\u001b[39mfolder \u001b[38;5;129;01mis\u001b[39;00m \u001b[38;5;28;01mNone\u001b[39;00m:\n\u001b[1;32m   1417\u001b[0m     \u001b[38;5;28mself\u001b[39m\u001b[38;5;241m.\u001b[39m_memory_objects[\u001b[38;5;124m\"\u001b[39m\u001b[38;5;124mwfs_arrays\u001b[39m\u001b[38;5;124m\"\u001b[39m] \u001b[38;5;241m=\u001b[39m wfs_arrays\n",
      "File \u001b[0;32m~/anaconda3/envs/si_env/lib/python3.10/site-packages/spikeinterface/core/waveform_tools.py:96\u001b[0m, in \u001b[0;36mextract_waveforms_to_buffers\u001b[0;34m(recording, spikes, unit_ids, nbefore, nafter, mode, return_scaled, folder, dtype, sparsity_mask, copy, **job_kwargs)\u001b[0m\n\u001b[1;32m     90\u001b[0m dtype \u001b[38;5;241m=\u001b[39m np\u001b[38;5;241m.\u001b[39mdtype(dtype)\n\u001b[1;32m     92\u001b[0m waveforms_by_units, arrays_info \u001b[38;5;241m=\u001b[39m allocate_waveforms_buffers(\n\u001b[1;32m     93\u001b[0m     recording, spikes, unit_ids, nbefore, nafter, mode\u001b[38;5;241m=\u001b[39mmode, folder\u001b[38;5;241m=\u001b[39mfolder, dtype\u001b[38;5;241m=\u001b[39mdtype, sparsity_mask\u001b[38;5;241m=\u001b[39msparsity_mask\n\u001b[1;32m     94\u001b[0m )\n\u001b[0;32m---> 96\u001b[0m \u001b[43mdistribute_waveforms_to_buffers\u001b[49m\u001b[43m(\u001b[49m\n\u001b[1;32m     97\u001b[0m \u001b[43m    \u001b[49m\u001b[43mrecording\u001b[49m\u001b[43m,\u001b[49m\n\u001b[1;32m     98\u001b[0m \u001b[43m    \u001b[49m\u001b[43mspikes\u001b[49m\u001b[43m,\u001b[49m\n\u001b[1;32m     99\u001b[0m \u001b[43m    \u001b[49m\u001b[43munit_ids\u001b[49m\u001b[43m,\u001b[49m\n\u001b[1;32m    100\u001b[0m \u001b[43m    \u001b[49m\u001b[43marrays_info\u001b[49m\u001b[43m,\u001b[49m\n\u001b[1;32m    101\u001b[0m \u001b[43m    \u001b[49m\u001b[43mnbefore\u001b[49m\u001b[43m,\u001b[49m\n\u001b[1;32m    102\u001b[0m \u001b[43m    \u001b[49m\u001b[43mnafter\u001b[49m\u001b[43m,\u001b[49m\n\u001b[1;32m    103\u001b[0m \u001b[43m    \u001b[49m\u001b[43mreturn_scaled\u001b[49m\u001b[43m,\u001b[49m\n\u001b[1;32m    104\u001b[0m \u001b[43m    \u001b[49m\u001b[43mmode\u001b[49m\u001b[38;5;241;43m=\u001b[39;49m\u001b[43mmode\u001b[49m\u001b[43m,\u001b[49m\n\u001b[1;32m    105\u001b[0m \u001b[43m    \u001b[49m\u001b[43msparsity_mask\u001b[49m\u001b[38;5;241;43m=\u001b[39;49m\u001b[43msparsity_mask\u001b[49m\u001b[43m,\u001b[49m\n\u001b[1;32m    106\u001b[0m \u001b[43m    \u001b[49m\u001b[38;5;241;43m*\u001b[39;49m\u001b[38;5;241;43m*\u001b[39;49m\u001b[43mjob_kwargs\u001b[49m\u001b[43m,\u001b[49m\n\u001b[1;32m    107\u001b[0m \u001b[43m\u001b[49m\u001b[43m)\u001b[49m\n\u001b[1;32m    109\u001b[0m \u001b[38;5;28;01mif\u001b[39;00m mode \u001b[38;5;241m==\u001b[39m \u001b[38;5;124m\"\u001b[39m\u001b[38;5;124mmemmap\u001b[39m\u001b[38;5;124m\"\u001b[39m:\n\u001b[1;32m    110\u001b[0m     \u001b[38;5;28;01mreturn\u001b[39;00m waveforms_by_units\n",
      "File \u001b[0;32m~/anaconda3/envs/si_env/lib/python3.10/site-packages/spikeinterface/core/waveform_tools.py:279\u001b[0m, in \u001b[0;36mdistribute_waveforms_to_buffers\u001b[0;34m(recording, spikes, unit_ids, arrays_info, nbefore, nafter, return_scaled, mode, sparsity_mask, job_name, **job_kwargs)\u001b[0m\n\u001b[1;32m    277\u001b[0m     job_name \u001b[38;5;241m=\u001b[39m \u001b[38;5;124mf\u001b[39m\u001b[38;5;124m\"\u001b[39m\u001b[38;5;124mextract waveforms \u001b[39m\u001b[38;5;132;01m{\u001b[39;00mmode\u001b[38;5;132;01m}\u001b[39;00m\u001b[38;5;124m multi buffer\u001b[39m\u001b[38;5;124m\"\u001b[39m\n\u001b[1;32m    278\u001b[0m processor \u001b[38;5;241m=\u001b[39m ChunkRecordingExecutor(recording, func, init_func, init_args, job_name\u001b[38;5;241m=\u001b[39mjob_name, \u001b[38;5;241m*\u001b[39m\u001b[38;5;241m*\u001b[39mjob_kwargs)\n\u001b[0;32m--> 279\u001b[0m \u001b[43mprocessor\u001b[49m\u001b[38;5;241;43m.\u001b[39;49m\u001b[43mrun\u001b[49m\u001b[43m(\u001b[49m\u001b[43m)\u001b[49m\n",
      "File \u001b[0;32m~/anaconda3/envs/si_env/lib/python3.10/site-packages/spikeinterface/core/job_tools.py:399\u001b[0m, in \u001b[0;36mChunkRecordingExecutor.run\u001b[0;34m(self)\u001b[0m\n\u001b[1;32m    396\u001b[0m \u001b[38;5;28;01mif\u001b[39;00m \u001b[38;5;28mself\u001b[39m\u001b[38;5;241m.\u001b[39mprogress_bar:\n\u001b[1;32m    397\u001b[0m     results \u001b[38;5;241m=\u001b[39m tqdm(results, desc\u001b[38;5;241m=\u001b[39m\u001b[38;5;28mself\u001b[39m\u001b[38;5;241m.\u001b[39mjob_name, total\u001b[38;5;241m=\u001b[39m\u001b[38;5;28mlen\u001b[39m(all_chunks))\n\u001b[0;32m--> 399\u001b[0m \u001b[38;5;28;01mfor\u001b[39;00m res \u001b[38;5;129;01min\u001b[39;00m results:\n\u001b[1;32m    400\u001b[0m     \u001b[38;5;28;01mif\u001b[39;00m \u001b[38;5;28mself\u001b[39m\u001b[38;5;241m.\u001b[39mhandle_returns:\n\u001b[1;32m    401\u001b[0m         returns\u001b[38;5;241m.\u001b[39mappend(res)\n",
      "File \u001b[0;32m~/anaconda3/envs/si_env/lib/python3.10/site-packages/tqdm/notebook.py:249\u001b[0m, in \u001b[0;36mtqdm_notebook.__iter__\u001b[0;34m(self)\u001b[0m\n\u001b[1;32m    247\u001b[0m \u001b[38;5;28;01mtry\u001b[39;00m:\n\u001b[1;32m    248\u001b[0m     it \u001b[38;5;241m=\u001b[39m \u001b[38;5;28msuper\u001b[39m(tqdm_notebook, \u001b[38;5;28mself\u001b[39m)\u001b[38;5;241m.\u001b[39m\u001b[38;5;21m__iter__\u001b[39m()\n\u001b[0;32m--> 249\u001b[0m     \u001b[38;5;28;01mfor\u001b[39;00m obj \u001b[38;5;129;01min\u001b[39;00m it:\n\u001b[1;32m    250\u001b[0m         \u001b[38;5;66;03m# return super(tqdm...) will not catch exception\u001b[39;00m\n\u001b[1;32m    251\u001b[0m         \u001b[38;5;28;01myield\u001b[39;00m obj\n\u001b[1;32m    252\u001b[0m \u001b[38;5;66;03m# NB: except ... [ as ...] breaks IPython async KeyboardInterrupt\u001b[39;00m\n",
      "File \u001b[0;32m~/anaconda3/envs/si_env/lib/python3.10/site-packages/tqdm/std.py:1182\u001b[0m, in \u001b[0;36mtqdm.__iter__\u001b[0;34m(self)\u001b[0m\n\u001b[1;32m   1179\u001b[0m time \u001b[38;5;241m=\u001b[39m \u001b[38;5;28mself\u001b[39m\u001b[38;5;241m.\u001b[39m_time\n\u001b[1;32m   1181\u001b[0m \u001b[38;5;28;01mtry\u001b[39;00m:\n\u001b[0;32m-> 1182\u001b[0m     \u001b[38;5;28;01mfor\u001b[39;00m obj \u001b[38;5;129;01min\u001b[39;00m iterable:\n\u001b[1;32m   1183\u001b[0m         \u001b[38;5;28;01myield\u001b[39;00m obj\n\u001b[1;32m   1184\u001b[0m         \u001b[38;5;66;03m# Update and possibly print the progressbar.\u001b[39;00m\n\u001b[1;32m   1185\u001b[0m         \u001b[38;5;66;03m# Note: does not call self.update(1) for speed optimisation.\u001b[39;00m\n",
      "File \u001b[0;32m~/anaconda3/envs/si_env/lib/python3.10/concurrent/futures/process.py:575\u001b[0m, in \u001b[0;36m_chain_from_iterable_of_lists\u001b[0;34m(iterable)\u001b[0m\n\u001b[1;32m    569\u001b[0m \u001b[38;5;28;01mdef\u001b[39;00m \u001b[38;5;21m_chain_from_iterable_of_lists\u001b[39m(iterable):\n\u001b[1;32m    570\u001b[0m \u001b[38;5;250m    \u001b[39m\u001b[38;5;124;03m\"\"\"\u001b[39;00m\n\u001b[1;32m    571\u001b[0m \u001b[38;5;124;03m    Specialized implementation of itertools.chain.from_iterable.\u001b[39;00m\n\u001b[1;32m    572\u001b[0m \u001b[38;5;124;03m    Each item in *iterable* should be a list.  This function is\u001b[39;00m\n\u001b[1;32m    573\u001b[0m \u001b[38;5;124;03m    careful not to keep references to yielded objects.\u001b[39;00m\n\u001b[1;32m    574\u001b[0m \u001b[38;5;124;03m    \"\"\"\u001b[39;00m\n\u001b[0;32m--> 575\u001b[0m     \u001b[38;5;28;01mfor\u001b[39;00m element \u001b[38;5;129;01min\u001b[39;00m iterable:\n\u001b[1;32m    576\u001b[0m         element\u001b[38;5;241m.\u001b[39mreverse()\n\u001b[1;32m    577\u001b[0m         \u001b[38;5;28;01mwhile\u001b[39;00m element:\n",
      "File \u001b[0;32m~/anaconda3/envs/si_env/lib/python3.10/concurrent/futures/_base.py:621\u001b[0m, in \u001b[0;36mExecutor.map.<locals>.result_iterator\u001b[0;34m()\u001b[0m\n\u001b[1;32m    618\u001b[0m \u001b[38;5;28;01mwhile\u001b[39;00m fs:\n\u001b[1;32m    619\u001b[0m     \u001b[38;5;66;03m# Careful not to keep a reference to the popped future\u001b[39;00m\n\u001b[1;32m    620\u001b[0m     \u001b[38;5;28;01mif\u001b[39;00m timeout \u001b[38;5;129;01mis\u001b[39;00m \u001b[38;5;28;01mNone\u001b[39;00m:\n\u001b[0;32m--> 621\u001b[0m         \u001b[38;5;28;01myield\u001b[39;00m \u001b[43m_result_or_cancel\u001b[49m\u001b[43m(\u001b[49m\u001b[43mfs\u001b[49m\u001b[38;5;241;43m.\u001b[39;49m\u001b[43mpop\u001b[49m\u001b[43m(\u001b[49m\u001b[43m)\u001b[49m\u001b[43m)\u001b[49m\n\u001b[1;32m    622\u001b[0m     \u001b[38;5;28;01melse\u001b[39;00m:\n\u001b[1;32m    623\u001b[0m         \u001b[38;5;28;01myield\u001b[39;00m _result_or_cancel(fs\u001b[38;5;241m.\u001b[39mpop(), end_time \u001b[38;5;241m-\u001b[39m time\u001b[38;5;241m.\u001b[39mmonotonic())\n",
      "File \u001b[0;32m~/anaconda3/envs/si_env/lib/python3.10/concurrent/futures/_base.py:319\u001b[0m, in \u001b[0;36m_result_or_cancel\u001b[0;34m(***failed resolving arguments***)\u001b[0m\n\u001b[1;32m    317\u001b[0m \u001b[38;5;28;01mtry\u001b[39;00m:\n\u001b[1;32m    318\u001b[0m     \u001b[38;5;28;01mtry\u001b[39;00m:\n\u001b[0;32m--> 319\u001b[0m         \u001b[38;5;28;01mreturn\u001b[39;00m \u001b[43mfut\u001b[49m\u001b[38;5;241;43m.\u001b[39;49m\u001b[43mresult\u001b[49m\u001b[43m(\u001b[49m\u001b[43mtimeout\u001b[49m\u001b[43m)\u001b[49m\n\u001b[1;32m    320\u001b[0m     \u001b[38;5;28;01mfinally\u001b[39;00m:\n\u001b[1;32m    321\u001b[0m         fut\u001b[38;5;241m.\u001b[39mcancel()\n",
      "File \u001b[0;32m~/anaconda3/envs/si_env/lib/python3.10/concurrent/futures/_base.py:453\u001b[0m, in \u001b[0;36mFuture.result\u001b[0;34m(self, timeout)\u001b[0m\n\u001b[1;32m    450\u001b[0m \u001b[38;5;28;01melif\u001b[39;00m \u001b[38;5;28mself\u001b[39m\u001b[38;5;241m.\u001b[39m_state \u001b[38;5;241m==\u001b[39m FINISHED:\n\u001b[1;32m    451\u001b[0m     \u001b[38;5;28;01mreturn\u001b[39;00m \u001b[38;5;28mself\u001b[39m\u001b[38;5;241m.\u001b[39m__get_result()\n\u001b[0;32m--> 453\u001b[0m \u001b[38;5;28;43mself\u001b[39;49m\u001b[38;5;241;43m.\u001b[39;49m\u001b[43m_condition\u001b[49m\u001b[38;5;241;43m.\u001b[39;49m\u001b[43mwait\u001b[49m\u001b[43m(\u001b[49m\u001b[43mtimeout\u001b[49m\u001b[43m)\u001b[49m\n\u001b[1;32m    455\u001b[0m \u001b[38;5;28;01mif\u001b[39;00m \u001b[38;5;28mself\u001b[39m\u001b[38;5;241m.\u001b[39m_state \u001b[38;5;129;01min\u001b[39;00m [CANCELLED, CANCELLED_AND_NOTIFIED]:\n\u001b[1;32m    456\u001b[0m     \u001b[38;5;28;01mraise\u001b[39;00m CancelledError()\n",
      "File \u001b[0;32m~/anaconda3/envs/si_env/lib/python3.10/threading.py:320\u001b[0m, in \u001b[0;36mCondition.wait\u001b[0;34m(self, timeout)\u001b[0m\n\u001b[1;32m    318\u001b[0m \u001b[38;5;28;01mtry\u001b[39;00m:    \u001b[38;5;66;03m# restore state no matter what (e.g., KeyboardInterrupt)\u001b[39;00m\n\u001b[1;32m    319\u001b[0m     \u001b[38;5;28;01mif\u001b[39;00m timeout \u001b[38;5;129;01mis\u001b[39;00m \u001b[38;5;28;01mNone\u001b[39;00m:\n\u001b[0;32m--> 320\u001b[0m         \u001b[43mwaiter\u001b[49m\u001b[38;5;241;43m.\u001b[39;49m\u001b[43macquire\u001b[49m\u001b[43m(\u001b[49m\u001b[43m)\u001b[49m\n\u001b[1;32m    321\u001b[0m         gotit \u001b[38;5;241m=\u001b[39m \u001b[38;5;28;01mTrue\u001b[39;00m\n\u001b[1;32m    322\u001b[0m     \u001b[38;5;28;01melse\u001b[39;00m:\n",
      "\u001b[0;31mKeyboardInterrupt\u001b[0m: "
     ]
    }
   ],
   "source": [
    "\n",
    "\n",
    "probe0_we_ks3 = si.extract_waveforms(probe0_preprocessed_corrected, probe0_sorting_ks3, folder=ephys_folder +'/probe0/waveform/kilosort3',\n",
    "                          sparse=True, max_spikes_per_unit=500, ms_before=1.5,ms_after=2., \n",
    "                          **job_kwargs)\n",
    "\n"
   ]
  },
  {
   "cell_type": "code",
   "execution_count": 20,
   "id": "154ecd63",
   "metadata": {},
   "outputs": [
    {
     "data": {
      "application/vnd.jupyter.widget-view+json": {
       "model_id": "219e72cd06064e2ba892e03e14890e3a",
       "version_major": 2,
       "version_minor": 0
      },
      "text/plain": [
       "extract waveforms shared_memory multi buffer:   0%|          | 0/4331 [00:00<?, ?it/s]"
      ]
     },
     "metadata": {},
     "output_type": "display_data"
    },
    {
     "data": {
      "application/vnd.jupyter.widget-view+json": {
       "model_id": "e2022d9ee85b4c5bbfde31dbeec7012c",
       "version_major": 2,
       "version_minor": 0
      },
      "text/plain": [
       "extract waveforms shared_memory multi buffer:   0%|          | 0/4331 [00:00<?, ?it/s]"
      ]
     },
     "metadata": {},
     "output_type": "display_data"
    },
    {
     "data": {
      "application/vnd.jupyter.widget-view+json": {
       "model_id": "4fe10fef9d024f858cccbf0cfaa9bbf4",
       "version_major": 2,
       "version_minor": 0
      },
      "text/plain": [
       "extract waveforms shared_memory multi buffer:   0%|          | 0/4331 [00:00<?, ?it/s]"
      ]
     },
     "metadata": {},
     "output_type": "display_data"
    },
    {
     "data": {
      "application/vnd.jupyter.widget-view+json": {
       "model_id": "4231b0e1ab2a477bb68c99b4dbbb4cdd",
       "version_major": 2,
       "version_minor": 0
      },
      "text/plain": [
       "extract waveforms shared_memory multi buffer:   0%|          | 0/4331 [00:00<?, ?it/s]"
      ]
     },
     "metadata": {},
     "output_type": "display_data"
    },
    {
     "data": {
      "application/vnd.jupyter.widget-view+json": {
       "model_id": "fd895cfa1a894893b8c9ff9b5352581e",
       "version_major": 2,
       "version_minor": 0
      },
      "text/plain": [
       "extract waveforms memmap multi buffer:   0%|          | 0/4331 [00:00<?, ?it/s]"
      ]
     },
     "metadata": {},
     "output_type": "display_data"
    },
    {
     "data": {
      "application/vnd.jupyter.widget-view+json": {
       "model_id": "b9b59c804fa64c1eb0941060229a16e3",
       "version_major": 2,
       "version_minor": 0
      },
      "text/plain": [
       "extract waveforms shared_memory multi buffer:   0%|          | 0/4331 [00:00<?, ?it/s]"
      ]
     },
     "metadata": {},
     "output_type": "display_data"
    },
    {
     "data": {
      "application/vnd.jupyter.widget-view+json": {
       "model_id": "fe706ef362bb467a8e729421a85c75eb",
       "version_major": 2,
       "version_minor": 0
      },
      "text/plain": [
       "extract waveforms shared_memory multi buffer:   0%|          | 0/4331 [00:00<?, ?it/s]"
      ]
     },
     "metadata": {},
     "output_type": "display_data"
    },
    {
     "data": {
      "application/vnd.jupyter.widget-view+json": {
       "model_id": "9748d63d410f4fd2b6208ab71761eea2",
       "version_major": 2,
       "version_minor": 0
      },
      "text/plain": [
       "extract waveforms shared_memory multi buffer:   0%|          | 0/4331 [00:00<?, ?it/s]"
      ]
     },
     "metadata": {},
     "output_type": "display_data"
    },
    {
     "data": {
      "application/vnd.jupyter.widget-view+json": {
       "model_id": "c631011ffa3c4b3ab57ddc2f17c2be2e",
       "version_major": 2,
       "version_minor": 0
      },
      "text/plain": [
       "extract waveforms memmap multi buffer:   0%|          | 0/4331 [00:00<?, ?it/s]"
      ]
     },
     "metadata": {},
     "output_type": "display_data"
    }
   ],
   "source": [
    "\n",
    "probe1_we_ks2_5 = si.extract_waveforms(probe1_preprocessed_corrected, probe1_sorting_ks2_5, folder=ephys_folder +'/probe1/waveform/kilosort2_5',\n",
    "                          sparse=True, max_spikes_per_unit=500, ms_before=1.5,ms_after=2.,\n",
    "                          **job_kwargs)\n",
    "\n",
    "\n",
    "probe1_we_ks3 = si.extract_waveforms(probe1_preprocessed_corrected, probe1_sorting_ks3, folder=ephys_folder +'/probe1/waveform/kilosort3',\n",
    "                          sparse=True, max_spikes_per_unit=500, ms_before=1.5,ms_after=2.,\n",
    "                          **job_kwargs)\n"
   ]
  },
  {
   "cell_type": "code",
   "execution_count": 24,
   "id": "9bfa55af",
   "metadata": {},
   "outputs": [
    {
     "name": "stderr",
     "output_type": "stream",
     "text": [
      "/home/lab/anaconda3/envs/si_env/lib/python3.10/site-packages/scipy/stats/_stats_mstats_common.py:182: RuntimeWarning: invalid value encountered in scalar divide\n",
      "  slope = ssxym / ssxm\n",
      "/home/lab/anaconda3/envs/si_env/lib/python3.10/site-packages/scipy/stats/_stats_mstats_common.py:196: RuntimeWarning: invalid value encountered in sqrt\n",
      "  t = r * np.sqrt(df / ((1.0 - r + TINY)*(1.0 + r + TINY)))\n",
      "/home/lab/anaconda3/envs/si_env/lib/python3.10/site-packages/scipy/stats/_stats_mstats_common.py:199: RuntimeWarning: invalid value encountered in scalar divide\n",
      "  slope_stderr = np.sqrt((1 - r**2) * ssym / ssxm / df)\n",
      "/home/lab/anaconda3/envs/si_env/lib/python3.10/site-packages/scipy/stats/_stats_mstats_common.py:182: RuntimeWarning: invalid value encountered in scalar divide\n",
      "  slope = ssxym / ssxm\n",
      "/home/lab/anaconda3/envs/si_env/lib/python3.10/site-packages/scipy/stats/_stats_mstats_common.py:196: RuntimeWarning: invalid value encountered in sqrt\n",
      "  t = r * np.sqrt(df / ((1.0 - r + TINY)*(1.0 + r + TINY)))\n",
      "/home/lab/anaconda3/envs/si_env/lib/python3.10/site-packages/scipy/stats/_stats_mstats_common.py:199: RuntimeWarning: invalid value encountered in scalar divide\n",
      "  slope_stderr = np.sqrt((1 - r**2) * ssym / ssxm / df)\n"
     ]
    },
    {
     "data": {
      "application/vnd.jupyter.widget-view+json": {
       "model_id": "74d49c363e774fafb964442d4189b7fc",
       "version_major": 2,
       "version_minor": 0
      },
      "text/plain": [
       "Fitting PCA:   0%|          | 0/561 [00:00<?, ?it/s]"
      ]
     },
     "metadata": {},
     "output_type": "display_data"
    },
    {
     "data": {
      "application/vnd.jupyter.widget-view+json": {
       "model_id": "7ecc312579f946d680daddc084f50bf4",
       "version_major": 2,
       "version_minor": 0
      },
      "text/plain": [
       "Projecting waveforms:   0%|          | 0/561 [00:00<?, ?it/s]"
      ]
     },
     "metadata": {},
     "output_type": "display_data"
    },
    {
     "data": {
      "application/vnd.jupyter.widget-view+json": {
       "model_id": "20f51bf4d9674a3fbfbaf155fa5bda0a",
       "version_major": 2,
       "version_minor": 0
      },
      "text/plain": [
       "Fitting PCA:   0%|          | 0/253 [00:00<?, ?it/s]"
      ]
     },
     "metadata": {},
     "output_type": "display_data"
    },
    {
     "data": {
      "application/vnd.jupyter.widget-view+json": {
       "model_id": "e978a24888674ba8baaaca1071d380d7",
       "version_major": 2,
       "version_minor": 0
      },
      "text/plain": [
       "Projecting waveforms:   0%|          | 0/253 [00:00<?, ?it/s]"
      ]
     },
     "metadata": {},
     "output_type": "display_data"
    },
    {
     "data": {
      "application/vnd.jupyter.widget-view+json": {
       "model_id": "a76bc786e89646618d62716fde47c427",
       "version_major": 2,
       "version_minor": 0
      },
      "text/plain": [
       "Fitting PCA:   0%|          | 0/682 [00:00<?, ?it/s]"
      ]
     },
     "metadata": {},
     "output_type": "display_data"
    },
    {
     "data": {
      "application/vnd.jupyter.widget-view+json": {
       "model_id": "33b839768b73459e9e800869020dce8f",
       "version_major": 2,
       "version_minor": 0
      },
      "text/plain": [
       "Projecting waveforms:   0%|          | 0/682 [00:00<?, ?it/s]"
      ]
     },
     "metadata": {},
     "output_type": "display_data"
    },
    {
     "data": {
      "application/vnd.jupyter.widget-view+json": {
       "model_id": "c1b2c500f35148708c948e7701d5cb14",
       "version_major": 2,
       "version_minor": 0
      },
      "text/plain": [
       "Fitting PCA:   0%|          | 0/505 [00:00<?, ?it/s]"
      ]
     },
     "metadata": {},
     "output_type": "display_data"
    },
    {
     "data": {
      "application/vnd.jupyter.widget-view+json": {
       "model_id": "ef8ef9795d36417b80f3a74dfffb53af",
       "version_major": 2,
       "version_minor": 0
      },
      "text/plain": [
       "Projecting waveforms:   0%|          | 0/505 [00:00<?, ?it/s]"
      ]
     },
     "metadata": {},
     "output_type": "display_data"
    },
    {
     "data": {
      "application/vnd.jupyter.widget-view+json": {
       "model_id": "59982692e0de46ad82ea9ce2dfb9dbb9",
       "version_major": 2,
       "version_minor": 0
      },
      "text/plain": [
       "extract amplitudes:   0%|          | 0/4331 [00:00<?, ?it/s]"
      ]
     },
     "metadata": {},
     "output_type": "display_data"
    },
    {
     "data": {
      "application/vnd.jupyter.widget-view+json": {
       "model_id": "5d3ab3f0a4804d189c6505abc597a168",
       "version_major": 2,
       "version_minor": 0
      },
      "text/plain": [
       "extract amplitudes:   0%|          | 0/4331 [00:00<?, ?it/s]"
      ]
     },
     "metadata": {},
     "output_type": "display_data"
    },
    {
     "data": {
      "application/vnd.jupyter.widget-view+json": {
       "model_id": "5721d9915844417e908c16ba074ad561",
       "version_major": 2,
       "version_minor": 0
      },
      "text/plain": [
       "extract amplitudes:   0%|          | 0/4331 [00:00<?, ?it/s]"
      ]
     },
     "metadata": {},
     "output_type": "display_data"
    },
    {
     "data": {
      "application/vnd.jupyter.widget-view+json": {
       "model_id": "429c061a388c4ec38d76563c9acb69bd",
       "version_major": 2,
       "version_minor": 0
      },
      "text/plain": [
       "extract amplitudes:   0%|          | 0/4331 [00:00<?, ?it/s]"
      ]
     },
     "metadata": {},
     "output_type": "display_data"
    },
    {
     "ename": "TypeError",
     "evalue": "compute_monopolar_triangulation() got an unexpected keyword argument 'n_jobs'",
     "output_type": "error",
     "traceback": [
      "\u001b[0;31m---------------------------------------------------------------------------\u001b[0m",
      "\u001b[0;31mTypeError\u001b[0m                                 Traceback (most recent call last)",
      "Cell \u001b[0;32mIn[24], line 38\u001b[0m\n\u001b[1;32m     35\u001b[0m amplitudes_probe1_ks2_5 \u001b[38;5;241m=\u001b[39m si\u001b[38;5;241m.\u001b[39mcompute_spike_amplitudes(probe1_we_ks2_5,\u001b[38;5;241m*\u001b[39m\u001b[38;5;241m*\u001b[39mjob_kwargs)\n\u001b[1;32m     36\u001b[0m amplitudes_probe1_ks3 \u001b[38;5;241m=\u001b[39m si\u001b[38;5;241m.\u001b[39mcompute_spike_amplitudes(probe1_we_ks3,\u001b[38;5;241m*\u001b[39m\u001b[38;5;241m*\u001b[39mjob_kwargs)\n\u001b[0;32m---> 38\u001b[0m unit_locations_probe0_ks2_5 \u001b[38;5;241m=\u001b[39m \u001b[43msi\u001b[49m\u001b[38;5;241;43m.\u001b[39;49m\u001b[43mcompute_unit_locations\u001b[49m\u001b[43m(\u001b[49m\u001b[43mprobe0_we_ks2_5\u001b[49m\u001b[43m,\u001b[49m\u001b[38;5;241;43m*\u001b[39;49m\u001b[38;5;241;43m*\u001b[39;49m\u001b[43mjob_kwargs\u001b[49m\u001b[43m)\u001b[49m\n\u001b[1;32m     39\u001b[0m unit_locations_probe0_ks3 \u001b[38;5;241m=\u001b[39m si\u001b[38;5;241m.\u001b[39mcompute_unit_locations(probe0_we_ks3,\u001b[38;5;241m*\u001b[39m\u001b[38;5;241m*\u001b[39mjob_kwargs)\n\u001b[1;32m     40\u001b[0m unit_locations_probe1_ks2_5 \u001b[38;5;241m=\u001b[39m si\u001b[38;5;241m.\u001b[39mcompute_unit_locations(probe1_we_ks2_5,\u001b[38;5;241m*\u001b[39m\u001b[38;5;241m*\u001b[39mjob_kwargs)\n",
      "File \u001b[0;32m~/anaconda3/envs/si_env/lib/python3.10/site-packages/spikeinterface/postprocessing/unit_localization.py:127\u001b[0m, in \u001b[0;36mcompute_unit_locations\u001b[0;34m(waveform_extractor, load_if_exists, method, outputs, **method_kwargs)\u001b[0m\n\u001b[1;32m    125\u001b[0m     ulc \u001b[38;5;241m=\u001b[39m UnitLocationsCalculator(waveform_extractor)\n\u001b[1;32m    126\u001b[0m     ulc\u001b[38;5;241m.\u001b[39mset_params(method\u001b[38;5;241m=\u001b[39mmethod, method_kwargs\u001b[38;5;241m=\u001b[39mmethod_kwargs)\n\u001b[0;32m--> 127\u001b[0m     \u001b[43mulc\u001b[49m\u001b[38;5;241;43m.\u001b[39;49m\u001b[43mrun\u001b[49m\u001b[43m(\u001b[49m\u001b[43m)\u001b[49m\n\u001b[1;32m    129\u001b[0m unit_locations \u001b[38;5;241m=\u001b[39m ulc\u001b[38;5;241m.\u001b[39mget_data(outputs\u001b[38;5;241m=\u001b[39moutputs)\n\u001b[1;32m    130\u001b[0m \u001b[38;5;28;01mreturn\u001b[39;00m unit_locations\n",
      "File \u001b[0;32m~/anaconda3/envs/si_env/lib/python3.10/site-packages/spikeinterface/core/waveform_extractor.py:1956\u001b[0m, in \u001b[0;36mBaseWaveformExtractorExtension.run\u001b[0;34m(self, **kwargs)\u001b[0m\n\u001b[1;32m   1955\u001b[0m \u001b[38;5;28;01mdef\u001b[39;00m \u001b[38;5;21mrun\u001b[39m(\u001b[38;5;28mself\u001b[39m, \u001b[38;5;241m*\u001b[39m\u001b[38;5;241m*\u001b[39mkwargs):\n\u001b[0;32m-> 1956\u001b[0m     \u001b[38;5;28;43mself\u001b[39;49m\u001b[38;5;241;43m.\u001b[39;49m\u001b[43m_run\u001b[49m\u001b[43m(\u001b[49m\u001b[38;5;241;43m*\u001b[39;49m\u001b[38;5;241;43m*\u001b[39;49m\u001b[43mkwargs\u001b[49m\u001b[43m)\u001b[49m\n\u001b[1;32m   1957\u001b[0m     \u001b[38;5;28mself\u001b[39m\u001b[38;5;241m.\u001b[39m_save(\u001b[38;5;241m*\u001b[39m\u001b[38;5;241m*\u001b[39mkwargs)\n",
      "File \u001b[0;32m~/anaconda3/envs/si_env/lib/python3.10/site-packages/spikeinterface/postprocessing/unit_localization.py:63\u001b[0m, in \u001b[0;36mUnitLocationsCalculator._run\u001b[0;34m(self, **job_kwargs)\u001b[0m\n\u001b[1;32m     61\u001b[0m     unit_location \u001b[38;5;241m=\u001b[39m compute_grid_convolution(\u001b[38;5;28mself\u001b[39m\u001b[38;5;241m.\u001b[39mwaveform_extractor, \u001b[38;5;241m*\u001b[39m\u001b[38;5;241m*\u001b[39mmethod_kwargs)\n\u001b[1;32m     62\u001b[0m \u001b[38;5;28;01melif\u001b[39;00m method \u001b[38;5;241m==\u001b[39m \u001b[38;5;124m\"\u001b[39m\u001b[38;5;124mmonopolar_triangulation\u001b[39m\u001b[38;5;124m\"\u001b[39m:\n\u001b[0;32m---> 63\u001b[0m     unit_location \u001b[38;5;241m=\u001b[39m \u001b[43mcompute_monopolar_triangulation\u001b[49m\u001b[43m(\u001b[49m\u001b[38;5;28;43mself\u001b[39;49m\u001b[38;5;241;43m.\u001b[39;49m\u001b[43mwaveform_extractor\u001b[49m\u001b[43m,\u001b[49m\u001b[43m \u001b[49m\u001b[38;5;241;43m*\u001b[39;49m\u001b[38;5;241;43m*\u001b[39;49m\u001b[43mmethod_kwargs\u001b[49m\u001b[43m)\u001b[49m\n\u001b[1;32m     64\u001b[0m \u001b[38;5;28mself\u001b[39m\u001b[38;5;241m.\u001b[39m_extension_data[\u001b[38;5;124m\"\u001b[39m\u001b[38;5;124munit_locations\u001b[39m\u001b[38;5;124m\"\u001b[39m] \u001b[38;5;241m=\u001b[39m unit_location\n",
      "\u001b[0;31mTypeError\u001b[0m: compute_monopolar_triangulation() got an unexpected keyword argument 'n_jobs'"
     ]
    }
   ],
   "source": [
    "#grab extracted waveforms saved on the server\n",
    "\n",
    "probe0_we_ks2_5 = si.load_waveforms(folder = dst_folder + 'probe0/waveform/kilosort2_5/')\n",
    "probe0_we_ks3 = si.load_waveforms(folder = dst_folder + 'probe0/waveform/kilosort3/')\n",
    "probe1_we_ks2_5 = si.load_waveforms(folder = ephys_folder + 'probe1/waveform/kilosort2_5/')\n",
    "probe1_we_ks3 = si.load_waveforms(folder = ephys_folder + 'probe1/waveform/kilosort3/')\n",
    "\n",
    "template_metric_probe0_ks2_5 = si.compute_template_metrics(probe0_we_ks2_5)\n",
    "template_metric_probe0_ks3 = si.compute_template_metrics(probe0_we_ks3)\n",
    "template_metric_probe1_ks2_5 = si.compute_template_metrics(probe1_we_ks2_5)\n",
    "template_metric_probe1_ks3 = si.compute_template_metrics(probe1_we_ks3)\n",
    "\n",
    "noise_levels_probe0_ks2_5 = si.compute_noise_levels(probe0_we_ks2_5)\n",
    "noise_levels_probe0_ks3 = si.compute_noise_levels(probe0_we_ks3)\n",
    "noise_levels_probe1_ks2_5 = si.compute_noise_levels(probe1_we_ks2_5)\n",
    "noise_levels_probe1_ks3 = si.compute_noise_levels(probe1_we_ks3)\n",
    "\n",
    "PCA_probe0_ks2_5 = si.compute_principal_components(probe0_we_ks2_5,**job_kwargs)\n",
    "PCA_probe0_ks3 = si.compute_principal_components(probe0_we_ks3,**job_kwargs)\n",
    "PCA_probe1_ks2_5 = si.compute_principal_components(probe1_we_ks2_5,**job_kwargs)\n",
    "PCA_probe1_ks3 = si.compute_principal_components(probe1_we_ks3,**job_kwargs)\n",
    "\n",
    "template_similarity_probe0_ks2_5 = si.compute_template_similarity(probe0_we_ks2_5)\n",
    "template_similarity_probe0_ks3 = si.compute_template_similarity(probe0_we_ks3)\n",
    "template_similarity_probe1_ks2_5 = si.compute_template_similarity(probe1_we_ks2_5)\n",
    "template_similarity_probe1_ks3 = si.compute_template_similarity(probe1_we_ks3)\n",
    "\n",
    "correlograms_probe0_ks2_5 = si.compute_correlograms(probe0_we_ks2_5)\n",
    "correlograms_probe0_ks3 = si.compute_correlograms(probe0_we_ks3)\n",
    "correlograms_probe1_ks2_5 = si.compute_correlograms(probe1_we_ks2_5)\n",
    "correlograms_probe1_ks3 = si.compute_correlograms(probe1_we_ks3)\n",
    "\n",
    "amplitudes_probe0_ks2_5 = si.compute_spike_amplitudes(probe0_we_ks2_5,**job_kwargs)\n",
    "amplitudes_probe0_ks3 = si.compute_spike_amplitudes(probe0_we_ks3,**job_kwargs)\n",
    "amplitudes_probe1_ks2_5 = si.compute_spike_amplitudes(probe1_we_ks2_5,**job_kwargs)\n",
    "amplitudes_probe1_ks3 = si.compute_spike_amplitudes(probe1_we_ks3,**job_kwargs)\n"
   ]
  },
  {
   "cell_type": "code",
   "execution_count": 25,
   "id": "cf73c563",
   "metadata": {},
   "outputs": [
    {
     "data": {
      "application/vnd.jupyter.widget-view+json": {
       "model_id": "860899397ba74fef872b4c377c6b5525",
       "version_major": 2,
       "version_minor": 0
      },
      "text/plain": [
       "localize peaks using center_of_mass:   0%|          | 0/4331 [00:00<?, ?it/s]"
      ]
     },
     "metadata": {},
     "output_type": "display_data"
    },
    {
     "data": {
      "application/vnd.jupyter.widget-view+json": {
       "model_id": "fcdbb7aa3c094992a0ac9e996c09f6db",
       "version_major": 2,
       "version_minor": 0
      },
      "text/plain": [
       "localize peaks using center_of_mass:   0%|          | 0/4331 [00:00<?, ?it/s]"
      ]
     },
     "metadata": {},
     "output_type": "display_data"
    },
    {
     "data": {
      "application/vnd.jupyter.widget-view+json": {
       "model_id": "6377f9a89c4c4a37a00ff1728afce477",
       "version_major": 2,
       "version_minor": 0
      },
      "text/plain": [
       "localize peaks using center_of_mass:   0%|          | 0/4331 [00:00<?, ?it/s]"
      ]
     },
     "metadata": {},
     "output_type": "display_data"
    },
    {
     "data": {
      "application/vnd.jupyter.widget-view+json": {
       "model_id": "81fc9a95f9db4c6ca0a065372e630991",
       "version_major": 2,
       "version_minor": 0
      },
      "text/plain": [
       "localize peaks using center_of_mass:   0%|          | 0/4331 [00:00<?, ?it/s]"
      ]
     },
     "metadata": {},
     "output_type": "display_data"
    }
   ],
   "source": [
    "\n",
    "unit_locations_probe0_ks2_5 = si.compute_unit_locations(probe0_we_ks2_5)\n",
    "unit_locations_probe0_ks3 = si.compute_unit_locations(probe0_we_ks3)\n",
    "unit_locations_probe1_ks2_5 = si.compute_unit_locations(probe1_we_ks2_5)\n",
    "unit_locations_probe1_ks3 = si.compute_unit_locations(probe1_we_ks3)\n",
    "\n",
    "spike_locations_probe0_ks2_5 = si.compute_spike_locations(probe0_we_ks2_5)\n",
    "spike_locations_probe0_ks3 = si.compute_spike_locations(probe0_we_ks3)\n",
    "spike_locations_probe1_ks2_5 = si.compute_spike_locations(probe1_we_ks2_5)\n",
    "spike_locations_probe1_ks3 = si.compute_spike_locations(probe1_we_ks3)\n"
   ]
  },
  {
   "cell_type": "code",
   "execution_count": 26,
   "id": "8b30b73f",
   "metadata": {},
   "outputs": [],
   "source": [
    "\n",
    "isi_histograms_probe0_ks2_5 = si.compute_isi_histograms(probe0_we_ks2_5)\n",
    "isi_histograms_probe0_ks3 = si.compute_isi_histograms(probe0_we_ks3)\n",
    "isi_histograms_probe1_ks2_5 = si.compute_isi_histograms(probe1_we_ks2_5)\n",
    "isi_histograms_probe1_ks3 = si.compute_isi_histograms(probe1_we_ks3)"
   ]
  },
  {
   "cell_type": "code",
   "execution_count": 27,
   "id": "368565dd",
   "metadata": {},
   "outputs": [
    {
     "name": "stdout",
     "output_type": "stream",
     "text": [
      "['num_spikes', 'firing_rate', 'presence_ratio', 'snr', 'isi_violation', 'rp_violation', 'sliding_rp_violation', 'amplitude_cutoff', 'amplitude_median', 'amplitude_cv', 'synchrony', 'firing_range', 'drift']\n"
     ]
    },
    {
     "name": "stderr",
     "output_type": "stream",
     "text": [
      "/home/lab/anaconda3/envs/si_env/lib/python3.10/site-packages/spikeinterface/qualitymetrics/misc_metrics.py:842: UserWarning: Units [6, 56, 79, 103, 128, 141, 163, 184, 208, 233, 235, 239, 243, 247, 249, 260, 265, 269, 273, 276, 277, 278, 281, 282, 284, 288, 291, 293, 297, 298, 309, 315, 317, 323, 327, 337, 340, 349, 353, 354, 357, 358, 359, 372, 378, 386, 402, 405, 410, 413, 420, 421, 422, 423, 426, 428, 439, 440, 446, 448, 451, 460, 463, 464, 468, 469, 470, 472, 474, 476, 487, 491, 495, 496, 501, 502, 507, 512, 524, 527, 533, 538, 541, 542, 543, 546, 550, 552, 553, 556, 558] have too few spikes and amplitude_cutoff is set to NaN\n",
      "  warnings.warn(f\"Units {nan_units} have too few spikes and \" \"amplitude_cutoff is set to NaN\")\n",
      "/home/lab/anaconda3/envs/si_env/lib/python3.10/site-packages/numpy/core/_methods.py:206: RuntimeWarning: Degrees of freedom <= 0 for slice\n",
      "  ret = _var(a, axis=axis, dtype=dtype, out=out, ddof=ddof,\n",
      "/home/lab/anaconda3/envs/si_env/lib/python3.10/site-packages/numpy/core/_methods.py:163: RuntimeWarning: invalid value encountered in divide\n",
      "  arrmean = um.true_divide(arrmean, div, out=arrmean,\n",
      "/home/lab/anaconda3/envs/si_env/lib/python3.10/site-packages/numpy/core/_methods.py:198: RuntimeWarning: invalid value encountered in divide\n",
      "  ret = ret.dtype.type(ret / rcount)\n",
      "/home/lab/anaconda3/envs/si_env/lib/python3.10/site-packages/spikeinterface/qualitymetrics/misc_metrics.py:842: UserWarning: Units [2, 8, 9, 10, 13, 17, 19, 21, 23, 24, 38, 44, 47, 67, 68, 71, 77, 79, 80, 81, 87, 102, 104, 108, 109, 110, 111, 113, 116, 117, 118, 119, 120, 121, 128, 129, 134, 136, 137, 145, 146, 154, 156, 157, 159, 164, 168, 169, 174, 178, 181, 186, 187, 197, 201, 202, 203, 204, 205, 206, 207, 208, 214, 216, 217, 218, 219, 221, 232, 238, 242, 253, 257] have too few spikes and amplitude_cutoff is set to NaN\n",
      "  warnings.warn(f\"Units {nan_units} have too few spikes and \" \"amplitude_cutoff is set to NaN\")\n",
      "/home/lab/anaconda3/envs/si_env/lib/python3.10/site-packages/numpy/core/_methods.py:206: RuntimeWarning: Degrees of freedom <= 0 for slice\n",
      "  ret = _var(a, axis=axis, dtype=dtype, out=out, ddof=ddof,\n",
      "/home/lab/anaconda3/envs/si_env/lib/python3.10/site-packages/numpy/core/_methods.py:163: RuntimeWarning: invalid value encountered in divide\n",
      "  arrmean = um.true_divide(arrmean, div, out=arrmean,\n",
      "/home/lab/anaconda3/envs/si_env/lib/python3.10/site-packages/numpy/core/_methods.py:198: RuntimeWarning: invalid value encountered in divide\n",
      "  ret = ret.dtype.type(ret / rcount)\n",
      "/home/lab/anaconda3/envs/si_env/lib/python3.10/site-packages/spikeinterface/qualitymetrics/misc_metrics.py:842: UserWarning: Units [4, 10, 20, 44, 70, 79, 98, 103, 104, 105, 106, 107, 108, 126, 129, 140, 171, 224, 243, 281, 288, 312, 324, 346, 357, 360, 364, 366, 369, 371, 372, 376, 406, 412, 443, 465, 466, 483, 489, 490, 492, 498, 509, 515, 518, 520, 521, 529, 530, 531, 534, 540, 550, 562, 565, 571, 573, 586, 595, 602, 603, 605, 606, 608, 618, 623, 624, 625, 629, 637, 638, 642, 647, 649, 652, 661, 664, 666, 670, 671, 672, 674, 675, 679, 680, 682, 686, 687, 688, 689, 690, 691, 692, 693] have too few spikes and amplitude_cutoff is set to NaN\n",
      "  warnings.warn(f\"Units {nan_units} have too few spikes and \" \"amplitude_cutoff is set to NaN\")\n",
      "/home/lab/anaconda3/envs/si_env/lib/python3.10/site-packages/numpy/core/_methods.py:206: RuntimeWarning: Degrees of freedom <= 0 for slice\n",
      "  ret = _var(a, axis=axis, dtype=dtype, out=out, ddof=ddof,\n",
      "/home/lab/anaconda3/envs/si_env/lib/python3.10/site-packages/numpy/core/_methods.py:163: RuntimeWarning: invalid value encountered in divide\n",
      "  arrmean = um.true_divide(arrmean, div, out=arrmean,\n",
      "/home/lab/anaconda3/envs/si_env/lib/python3.10/site-packages/numpy/core/_methods.py:198: RuntimeWarning: invalid value encountered in divide\n",
      "  ret = ret.dtype.type(ret / rcount)\n",
      "/home/lab/anaconda3/envs/si_env/lib/python3.10/site-packages/spikeinterface/qualitymetrics/misc_metrics.py:842: UserWarning: Units [10, 13, 32, 33, 34, 37, 42, 43, 52, 53, 56, 58, 59, 60, 65, 72, 73, 80, 85, 88, 89, 91, 94, 95, 96, 99, 100, 101, 103, 107, 108, 109, 110, 111, 112, 116, 117, 118, 120, 127, 129, 130, 131, 132, 133, 134, 141, 152, 156, 167, 169, 170, 171, 174, 175, 183, 184, 185, 194, 202, 203, 205, 207, 208, 211, 223, 235, 236, 239, 242, 243, 244, 246, 247, 248, 251, 252, 253, 254, 261, 268, 271, 274, 276, 279, 280, 281, 282, 288, 302, 305, 307, 308, 310, 311, 312, 322, 324, 328, 332, 336, 338, 345, 346, 347, 348, 349, 350, 380, 385, 395, 404, 425, 426, 427, 429, 437, 439, 442, 449, 454, 457, 474, 476, 484, 485, 487, 490, 502, 503, 504, 508, 517, 523, 530, 534, 535, 536, 564, 583, 594, 596, 597, 598] have too few spikes and amplitude_cutoff is set to NaN\n",
      "  warnings.warn(f\"Units {nan_units} have too few spikes and \" \"amplitude_cutoff is set to NaN\")\n",
      "/home/lab/anaconda3/envs/si_env/lib/python3.10/site-packages/numpy/core/_methods.py:206: RuntimeWarning: Degrees of freedom <= 0 for slice\n",
      "  ret = _var(a, axis=axis, dtype=dtype, out=out, ddof=ddof,\n",
      "/home/lab/anaconda3/envs/si_env/lib/python3.10/site-packages/numpy/core/_methods.py:163: RuntimeWarning: invalid value encountered in divide\n",
      "  arrmean = um.true_divide(arrmean, div, out=arrmean,\n",
      "/home/lab/anaconda3/envs/si_env/lib/python3.10/site-packages/numpy/core/_methods.py:198: RuntimeWarning: invalid value encountered in divide\n",
      "  ret = ret.dtype.type(ret / rcount)\n"
     ]
    }
   ],
   "source": [
    "qm_list = si.get_quality_metric_list()\n",
    "print(qm_list)\n",
    "probe0_ks2_5_metrics = si.compute_quality_metrics(probe0_we_ks2_5, metric_names=qm_list,**job_kwargs)\n",
    "probe0_ks3_metrics = si.compute_quality_metrics(probe0_we_ks3, metric_names=qm_list,**job_kwargs)\n",
    "probe1_ks2_5_metrics = si.compute_quality_metrics(probe1_we_ks2_5, metric_names=qm_list,**job_kwargs)\n",
    "probe1_ks3_metrics = si.compute_quality_metrics(probe1_we_ks3, metric_names=qm_list,**job_kwargs)"
   ]
  },
  {
   "cell_type": "code",
   "execution_count": 39,
   "id": "846e66af",
   "metadata": {},
   "outputs": [
    {
     "data": {
      "application/vnd.jupyter.widget-view+json": {
       "model_id": "6d2ffbe75843446481b2df3b26b0a6c9",
       "version_major": 2,
       "version_minor": 0
      },
      "text/plain": [
       "extract PCs:   0%|          | 0/4331 [00:00<?, ?it/s]"
      ]
     },
     "metadata": {},
     "output_type": "display_data"
    },
    {
     "name": "stdout",
     "output_type": "stream",
     "text": [
      "Run:\n",
      "phy template-gui  /mnt/rds01/ibn-vision/DATA/SUBJECTS/M23034/ephys/20230804/probe1/phy/ks2_5/params.py\n"
     ]
    },
    {
     "data": {
      "application/vnd.jupyter.widget-view+json": {
       "model_id": "03393be320c946d7a4d45c77cdf34e1e",
       "version_major": 2,
       "version_minor": 0
      },
      "text/plain": [
       "extract PCs:   0%|          | 0/4331 [00:00<?, ?it/s]"
      ]
     },
     "metadata": {},
     "output_type": "display_data"
    },
    {
     "name": "stdout",
     "output_type": "stream",
     "text": [
      "Run:\n",
      "phy template-gui  /mnt/rds01/ibn-vision/DATA/SUBJECTS/M23034/ephys/20230804/probe1/phy/ks3/params.py\n"
     ]
    }
   ],
   "source": [
    "#export to phy\n",
    "#si.export_to_phy(waveform_extractor=probe0_we_ks2_5, output_folder=ephys_folder + 'probe0/phy/ks2_5',copy_binary = False, **job_kwargs)\n",
    "#si.export_to_phy(waveform_extractor=probe0_we_ks3, output_folder=ephys_folder + 'probe0/phy/ks3',copy_binary = False,**job_kwargs)\n",
    "si.export_to_phy(waveform_extractor=probe1_we_ks2_5, output_folder=ephys_folder + 'probe1/phy/ks2_5',copy_binary = False,**job_kwargs)\n",
    "si.export_to_phy(waveform_extractor=probe1_we_ks3, output_folder=ephys_folder + 'probe1/phy/ks3',copy_binary = False,**job_kwargs)\n"
   ]
  },
  {
   "cell_type": "code",
   "execution_count": 38,
   "id": "5acbc877",
   "metadata": {},
   "outputs": [
    {
     "name": "stdout",
     "output_type": "stream",
     "text": [
      "WaveformPrincipalComponent: 297 channels - 1 segments\n",
      "  mode: by_channel_local n_components: 5\n",
      "['template_metrics', 'similarity', 'principal_components', 'spike_amplitudes', 'correlograms', 'isi_histograms', 'spike_locations', 'unit_locations', 'noise_levels', 'quality_metrics']\n"
     ]
    }
   ],
   "source": [
    "print(PCA_probe0_ks3)\n",
    "print(probe0_we_ks3.get_available_extension_names())"
   ]
  },
  {
   "cell_type": "code",
   "execution_count": 19,
   "id": "1e177303",
   "metadata": {},
   "outputs": [
    {
     "name": "stdout",
     "output_type": "stream",
     "text": [
      "(500,)\n",
      "[(   93, 0) (  140, 0) (  149, 0) (  166, 0) (  190, 0) (  226, 0)\n",
      " (  294, 0) (  300, 0) (  323, 0) (  330, 0) (  339, 0) (  508, 0)\n",
      " (  510, 0) (  511, 0) (  575, 0) (  578, 0) (  602, 0) (  709, 0)\n",
      " (  918, 0) (  976, 0) ( 1030, 0) ( 1033, 0) ( 1075, 0) ( 1091, 0)\n",
      " ( 1095, 0) ( 1134, 0) ( 1154, 0) ( 1185, 0) ( 1249, 0) ( 1298, 0)\n",
      " ( 1325, 0) ( 1395, 0) ( 1404, 0) ( 1411, 0) ( 1442, 0) ( 1456, 0)\n",
      " ( 1527, 0) ( 1532, 0) ( 1570, 0) ( 1696, 0) ( 1724, 0) ( 1813, 0)\n",
      " ( 1815, 0) ( 1836, 0) ( 1848, 0) ( 1859, 0) ( 1874, 0) ( 1919, 0)\n",
      " ( 1963, 0) ( 2013, 0) ( 2043, 0) ( 2049, 0) ( 2060, 0) ( 2145, 0)\n",
      " ( 2175, 0) ( 2288, 0) ( 2304, 0) ( 2455, 0) ( 2465, 0) ( 2469, 0)\n",
      " ( 2519, 0) ( 2632, 0) ( 2635, 0) ( 2662, 0) ( 2665, 0) ( 2746, 0)\n",
      " ( 2755, 0) ( 2805, 0) ( 2896, 0) ( 2927, 0) ( 2987, 0) ( 3005, 0)\n",
      " ( 3022, 0) ( 3026, 0) ( 3041, 0) ( 3109, 0) ( 3243, 0) ( 3321, 0)\n",
      " ( 3348, 0) ( 3368, 0) ( 3513, 0) ( 3520, 0) ( 3523, 0) ( 3745, 0)\n",
      " ( 3763, 0) ( 3779, 0) ( 3952, 0) ( 3996, 0) ( 4184, 0) ( 4208, 0)\n",
      " ( 4293, 0) ( 4322, 0) ( 4333, 0) ( 4366, 0) ( 4374, 0) ( 4438, 0)\n",
      " ( 4577, 0) ( 4595, 0) ( 4603, 0) ( 4616, 0) ( 4649, 0) ( 4694, 0)\n",
      " ( 4733, 0) ( 4737, 0) ( 4841, 0) ( 4906, 0) ( 5060, 0) ( 5072, 0)\n",
      " ( 5074, 0) ( 5107, 0) ( 5128, 0) ( 5145, 0) ( 5157, 0) ( 5191, 0)\n",
      " ( 5205, 0) ( 5373, 0) ( 5470, 0) ( 5498, 0) ( 5617, 0) ( 5641, 0)\n",
      " ( 5783, 0) ( 5809, 0) ( 5862, 0) ( 5900, 0) ( 5913, 0) ( 5997, 0)\n",
      " ( 6063, 0) ( 6085, 0) ( 6148, 0) ( 6159, 0) ( 6166, 0) ( 6213, 0)\n",
      " ( 6236, 0) ( 6254, 0) ( 6292, 0) ( 6345, 0) ( 6358, 0) ( 6559, 0)\n",
      " ( 6573, 0) ( 6579, 0) ( 6594, 0) ( 6638, 0) ( 6672, 0) ( 6693, 0)\n",
      " ( 6745, 0) ( 6769, 0) ( 6783, 0) ( 6803, 0) ( 6845, 0) ( 6861, 0)\n",
      " ( 6897, 0) ( 6901, 0) ( 6920, 0) ( 7007, 0) ( 7024, 0) ( 7097, 0)\n",
      " ( 7112, 0) ( 7116, 0) ( 7120, 0) ( 7347, 0) ( 7388, 0) ( 7389, 0)\n",
      " ( 7458, 0) ( 7478, 0) ( 7521, 0) ( 7536, 0) ( 7551, 0) ( 7619, 0)\n",
      " ( 7680, 0) ( 7692, 0) ( 7702, 0) ( 7751, 0) ( 7791, 0) ( 7840, 0)\n",
      " ( 7843, 0) ( 7931, 0) ( 8005, 0) ( 8011, 0) ( 8023, 0) ( 8044, 0)\n",
      " ( 8104, 0) ( 8147, 0) ( 8156, 0) ( 8157, 0) ( 8204, 0) ( 8500, 0)\n",
      " ( 8589, 0) ( 8602, 0) ( 8646, 0) ( 8667, 0) ( 8707, 0) ( 8729, 0)\n",
      " ( 8762, 0) ( 8861, 0) ( 8889, 0) ( 8903, 0) ( 8910, 0) ( 8932, 0)\n",
      " ( 9108, 0) ( 9110, 0) ( 9193, 0) ( 9223, 0) ( 9238, 0) ( 9308, 0)\n",
      " ( 9310, 0) ( 9386, 0) ( 9421, 0) ( 9439, 0) ( 9489, 0) ( 9504, 0)\n",
      " ( 9526, 0) ( 9726, 0) ( 9777, 0) ( 9819, 0) ( 9881, 0) ( 9927, 0)\n",
      " (10012, 0) (10095, 0) (10099, 0) (10113, 0) (10138, 0) (10205, 0)\n",
      " (10214, 0) (10275, 0) (10294, 0) (10376, 0) (10429, 0) (10444, 0)\n",
      " (10461, 0) (10472, 0) (10496, 0) (10521, 0) (10544, 0) (10755, 0)\n",
      " (10799, 0) (10833, 0) (10835, 0) (10844, 0) (10869, 0) (10874, 0)\n",
      " (10984, 0) (10987, 0) (10999, 0) (11006, 0) (11079, 0) (11082, 0)\n",
      " (11088, 0) (11119, 0) (11123, 0) (11167, 0) (11281, 0) (11330, 0)\n",
      " (11332, 0) (11346, 0) (11350, 0) (11363, 0) (11411, 0) (11425, 0)\n",
      " (11461, 0) (11471, 0) (11510, 0) (11518, 0) (11534, 0) (11539, 0)\n",
      " (11594, 0) (11681, 0) (11691, 0) (11710, 0) (11822, 0) (11824, 0)\n",
      " (11943, 0) (12032, 0) (12041, 0) (12069, 0) (12093, 0) (12100, 0)\n",
      " (12101, 0) (12165, 0) (12184, 0) (12304, 0) (12361, 0) (12370, 0)\n",
      " (12414, 0) (12415, 0) (12465, 0) (12486, 0) (12603, 0) (12762, 0)\n",
      " (13016, 0) (13017, 0) (13038, 0) (13106, 0) (13131, 0) (13142, 0)\n",
      " (13154, 0) (13201, 0) (13211, 0) (13258, 0) (13273, 0) (13286, 0)\n",
      " (13297, 0) (13386, 0) (13435, 0) (13451, 0) (13500, 0) (13544, 0)\n",
      " (13682, 0) (13899, 0) (13912, 0) (13933, 0) (13958, 0) (14025, 0)\n",
      " (14075, 0) (14077, 0) (14163, 0) (14172, 0) (14200, 0) (14235, 0)\n",
      " (14239, 0) (14309, 0) (14319, 0) (14338, 0) (14357, 0) (14397, 0)\n",
      " (14405, 0) (14414, 0) (14422, 0) (14449, 0) (14533, 0) (14581, 0)\n",
      " (14587, 0) (14692, 0) (14709, 0) (14736, 0) (14749, 0) (14762, 0)\n",
      " (14875, 0) (14894, 0) (14906, 0) (14934, 0) (14953, 0) (15024, 0)\n",
      " (15086, 0) (15517, 0) (15554, 0) (15653, 0) (15669, 0) (15695, 0)\n",
      " (15729, 0) (15740, 0) (15833, 0) (15899, 0) (15981, 0) (15988, 0)\n",
      " (16142, 0) (16146, 0) (16156, 0) (16280, 0) (16284, 0) (16322, 0)\n",
      " (16513, 0) (16657, 0) (16697, 0) (16727, 0) (16922, 0) (16923, 0)\n",
      " (16932, 0) (16979, 0) (17048, 0) (17150, 0) (17184, 0) (17209, 0)\n",
      " (17218, 0) (17310, 0) (17318, 0) (17401, 0) (17458, 0) (17472, 0)\n",
      " (17487, 0) (17513, 0) (17695, 0) (17699, 0) (17714, 0) (17760, 0)\n",
      " (17813, 0) (17843, 0) (17895, 0) (17907, 0) (17913, 0) (17940, 0)\n",
      " (18030, 0) (18042, 0) (18107, 0) (18169, 0) (18176, 0) (18295, 0)\n",
      " (18312, 0) (18426, 0) (18427, 0) (18503, 0) (18598, 0) (18624, 0)\n",
      " (18686, 0) (18857, 0) (18902, 0) (18913, 0) (18940, 0) (19036, 0)\n",
      " (19096, 0) (19119, 0) (19143, 0) (19219, 0) (19232, 0) (19240, 0)\n",
      " (19379, 0) (19411, 0) (19413, 0) (19450, 0) (19492, 0) (19621, 0)\n",
      " (19638, 0) (19696, 0) (19883, 0) (20025, 0) (20098, 0) (20114, 0)\n",
      " (20209, 0) (20286, 0) (20322, 0) (20350, 0) (20390, 0) (20434, 0)\n",
      " (20617, 0) (20628, 0) (20633, 0) (20636, 0) (20699, 0) (20704, 0)\n",
      " (20777, 0) (20934, 0) (20990, 0) (20998, 0) (21013, 0) (21021, 0)\n",
      " (21113, 0) (21164, 0) (21198, 0) (21309, 0) (21414, 0) (21423, 0)\n",
      " (21436, 0) (21509, 0) (21545, 0) (21563, 0) (21589, 0) (21646, 0)\n",
      " (21647, 0) (21658, 0) (21735, 0) (21771, 0) (21793, 0) (21800, 0)\n",
      " (21809, 0) (21835, 0) (21885, 0) (22033, 0) (22040, 0) (22081, 0)\n",
      " (22102, 0) (22238, 0) (22265, 0) (22271, 0) (22275, 0) (22332, 0)\n",
      " (22364, 0) (22370, 0) (22371, 0) (22375, 0) (22407, 0) (22508, 0)\n",
      " (22566, 0) (22607, 0) (22618, 0) (22668, 0) (22695, 0) (22741, 0)\n",
      " (22795, 0) (22825, 0) (22839, 0) (22913, 0) (22927, 0) (23127, 0)\n",
      " (23134, 0) (23208, 0) (23214, 0) (23233, 0) (23245, 0) (23308, 0)\n",
      " (23325, 0) (23381, 0)]\n"
     ]
    }
   ],
   "source": [
    "import numpy as np\n",
    "\n",
    "data = np.load(r\"Z:\\ibn-vision\\DATA\\SUBJECTS\\M23034\\ephys\\20230805\\probe0\\waveform\\kilosort3\\waveforms\\sampled_index_0.npy\")\n",
    "print(data.shape)\n",
    "print(data)"
   ]
  },
  {
   "cell_type": "code",
   "execution_count": 20,
   "id": "75443060",
   "metadata": {},
   "outputs": [
    {
     "name": "stdout",
     "output_type": "stream",
     "text": [
      "(500, 105, 10)\n",
      "[[[  9.375     0.        0.      ...   0.        2.34375  -2.34375]\n",
      "  [  0.        0.       -2.34375 ...  -9.375    -2.34375   0.     ]\n",
      "  [ 11.71875  -2.34375   4.6875  ...   2.34375   4.6875   -2.34375]\n",
      "  ...\n",
      "  [  9.375   -11.71875   0.      ...   9.375     0.        9.375  ]\n",
      "  [  4.6875  -16.40625   0.      ...   0.        0.        7.03125]\n",
      "  [  2.34375  -7.03125  11.71875 ...   7.03125  -7.03125  11.71875]]\n",
      "\n",
      " [[  7.03125  -2.34375  11.71875 ...   0.      -11.71875   0.     ]\n",
      "  [ -2.34375   0.        4.6875  ...   7.03125  -2.34375   7.03125]\n",
      "  [  2.34375   4.6875    0.      ...   0.        2.34375  11.71875]\n",
      "  ...\n",
      "  [  0.        2.34375   0.      ...  16.40625   9.375     0.     ]\n",
      "  [  0.        0.       -2.34375 ...   7.03125   0.        0.     ]\n",
      "  [ 11.71875   2.34375   9.375   ...   7.03125  -7.03125  -2.34375]]\n",
      "\n",
      " [[ -7.03125  -2.34375   2.34375 ...  16.40625   9.375     9.375  ]\n",
      "  [  0.        0.        0.      ...  21.09375   9.375     7.03125]\n",
      "  [  0.       -7.03125   0.      ...   9.375     0.        0.     ]\n",
      "  ...\n",
      "  [  9.375   -14.0625    0.      ...   0.       -4.6875    0.     ]\n",
      "  [  4.6875  -21.09375  -9.375   ...   2.34375  -2.34375  -4.6875 ]\n",
      "  [  0.        9.375     0.      ...   0.        0.        0.     ]]\n",
      "\n",
      " ...\n",
      "\n",
      " [[ -9.375    -9.375   -14.0625  ... -14.0625  -18.75     -9.375  ]\n",
      "  [-21.09375 -21.09375 -14.0625  ... -14.0625  -14.0625  -18.75   ]\n",
      "  [-14.0625   -9.375    -9.375   ...  -7.03125 -11.71875 -14.0625 ]\n",
      "  ...\n",
      "  [ -7.03125  -2.34375  -9.375   ...   0.        2.34375   2.34375]\n",
      "  [-11.71875 -11.71875 -11.71875 ...  -2.34375  -2.34375  -2.34375]\n",
      "  [-18.75    -16.40625 -16.40625 ...  -9.375    -4.6875   -7.03125]]\n",
      "\n",
      " [[-11.71875 -21.09375 -16.40625 ... -21.09375  -7.03125 -18.75   ]\n",
      "  [-11.71875 -11.71875 -18.75    ... -25.78125 -11.71875 -32.8125 ]\n",
      "  [-23.4375  -21.09375 -28.125   ... -35.15625 -18.75    -35.15625]\n",
      "  ...\n",
      "  [  9.375    18.75     14.0625  ...  23.4375   16.40625  11.71875]\n",
      "  [ 23.4375   25.78125  18.75    ...  21.09375  18.75      4.6875 ]\n",
      "  [ 16.40625  16.40625  14.0625  ...   7.03125   9.375     7.03125]]\n",
      "\n",
      " [[  4.6875    7.03125   7.03125 ...   2.34375   2.34375  -4.6875 ]\n",
      "  [  4.6875    0.       18.75    ...   4.6875    0.        2.34375]\n",
      "  [ -9.375    -7.03125  -2.34375 ...   4.6875   -9.375    -2.34375]\n",
      "  ...\n",
      "  [  4.6875    2.34375   2.34375 ...   0.       -4.6875   -7.03125]\n",
      "  [  9.375     9.375     0.      ...  -2.34375  -2.34375   0.     ]\n",
      "  [  0.        0.        0.      ...  -4.6875  -11.71875  -4.6875 ]]]\n"
     ]
    }
   ],
   "source": [
    "waveform = np.load(r\"Z:\\ibn-vision\\DATA\\SUBJECTS\\M23034\\ephys\\20230805\\probe0\\waveform\\kilosort3\\waveforms\\waveforms_0.npy\")\n",
    "print(waveform.shape)\n",
    "print(waveform)"
   ]
  }
 ],
 "metadata": {
  "kernelspec": {
   "display_name": "Python 3 (ipykernel)",
   "language": "python",
   "name": "python3"
  },
  "language_info": {
   "codemirror_mode": {
    "name": "ipython",
    "version": 3
   },
   "file_extension": ".py",
   "mimetype": "text/x-python",
   "name": "python",
   "nbconvert_exporter": "python",
   "pygments_lexer": "ipython3",
   "version": "3.10.13"
  }
 },
 "nbformat": 4,
 "nbformat_minor": 5
}
