{
 "cells": [
  {
   "cell_type": "code",
   "execution_count": null,
   "metadata": {
    "vscode": {
     "languageId": "plaintext"
    }
   },
   "outputs": [],
   "source": [
    "from pathlib import Path\n",
    "\n",
    "import os\n",
    "import shutil\n",
    "\n",
    "import numpy as np\n",
    "\n",
    "import spikeinterface.sorters\n",
    "import spikeinterface.full as si\n",
    "import  scipy.signal\n",
    "import spikeinterface.extractors as se\n",
    "import spikeinterface.comparison\n",
    "import spikeinterface.exporters\n",
    "import spikeinterface.curation\n",
    "import spikeinterface.widgets \n",
    "import docker\n",
    "from datetime import datetime\n",
    "import itertools\n",
    "\n",
    "import scipy.io as sio\n",
    "\n",
    "base_folder = '/home/saleem_lab/spikeinterface_sorting/temp_data/'\n",
    "recording_folder = '20240709/20240709_0'\n",
    "dst_folder =    base_folder + recording_folder\n",
    "stream_names, stream_ids = si.get_neo_streams('spikeglx',dst_folder)\n",
    "print(stream_names)\n",
    "print(stream_ids)\n",
    "\n",
    "probe0_raw = si.read_spikeglx(dst_folder,stream_name='imec0.ap')\n",
    "print(probe0_raw)\n",
    "probe1_raw = si.read_spikeglx(dst_folder,stream_name = 'imec1.ap')\n",
    "print(probe1_raw)"
   ]
  },
  {
   "cell_type": "code",
   "execution_count": null,
   "metadata": {
    "vscode": {
     "languageId": "plaintext"
    }
   },
   "outputs": [],
   "source": [
    "from wavpack_numcodecs import WavPack\n",
    "\n",
    "\n",
    "compressor_wv = WavPack(level=3, bps=None)\n",
    "\n",
    "\n",
    "probe0_raw_compressed = probe0_raw.save(format=\"zarr\", folder=dst_folder + '/probe0_raw_compressed', compressor=compressor_wv, n_jobs=16, chunk_duration=\"1s\")\n",
    "probe1_raw_compressed = probe1_raw.save(format=\"zarr\", folder=dst_folder + '/probe1_raw_compressed', compressor=compressor_wv, n_jobs=16, chunk_duration=\"1s\")"
   ]
  }
 ],
 "metadata": {
  "language_info": {
   "name": "python"
  }
 },
 "nbformat": 4,
 "nbformat_minor": 2
}
