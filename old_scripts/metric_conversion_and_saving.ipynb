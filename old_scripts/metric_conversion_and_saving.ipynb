{
 "cells": [
  {
   "cell_type": "code",
   "execution_count": null,
   "metadata": {},
   "outputs": [],
   "source": [
    "import numpy as np\n",
    "\n",
    "\n",
    "mouse = 'M23034'\n",
    "date = '20230804'\n",
    "base_folder = ['Z:\\\\ibn-vision\\\\DATA\\\\SUBJECTS\\\\']\n",
    "ephys_folder = base_folder + 'mouse' + '\\\\' + date\n",
    "waveform_folder = [ ephys_folder + '\\\\probe0\\\\waveform\\\\'+'kilosort2_5\\\\',\n",
    "                    ephys_folder + '\\\\probe0\\\\waveform\\\\'+'kilosort3\\\\',\n",
    "                    ephys_folder + '\\\\probe1\\\\waveform\\\\'+'kilosort2_5\\\\',\n",
    "                    ephys_folder + '\\\\probe1\\\\waveform\\\\'+'kilosort3\\\\']\n",
    "\n",
    "\n"
   ]
  }
 ],
 "metadata": {
  "kernelspec": {
   "display_name": "si_env",
   "language": "python",
   "name": "python3"
  },
  "language_info": {
   "name": "python",
   "version": "3.10.13"
  }
 },
 "nbformat": 4,
 "nbformat_minor": 2
}
