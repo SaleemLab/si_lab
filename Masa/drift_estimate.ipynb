{
 "cells": [
  {
   "cell_type": "code",
   "execution_count": 1,
   "metadata": {},
   "outputs": [
    {
     "name": "stdout",
     "output_type": "stream",
     "text": [
      "Start Time:08/30/2024, 17:01:31\n",
      "copying ephys data from:/mnt/rds01/ibn-vision/DATA/SUBJECTS/M23038/ephys/20230817/\n",
      "SpikeGLXRecordingExtractor: 384 channels - 30.0kHz - 4 segments - 163,220,917 samples \n",
      "                            5,440.70s (1.51 hours) - int16 dtype - 116.74 GiB\n",
      "Segments:\n",
      "Samples:   127,940,244 | 4,387,152 | 18,366,648 | 12,526,873\n",
      "Durations: 4,264.67s (1.18 hours) | 146.24s (2.44 minutes) | 612.22s (10.20 minutes) | 417.56s (6.96 minutes)\n",
      "Memory:    91.51 GiB | 3.14 GiB | 13.14 GiB | 8.96 GiB\n",
      "probe0_bad_channel_ids ['imec0.ap#AP28' 'imec0.ap#AP191' 'imec0.ap#AP354']\n",
      "probe0_preprocessed CommonReferenceRecording: 381 channels - 30.0kHz - 4 segments - 163,220,917 samples \n",
      "                          5,440.70s (1.51 hours) - int16 dtype - 115.83 GiB\n",
      "Segments:\n",
      "Samples:   127,940,244 | 4,387,152 | 18,366,648 | 12,526,873\n",
      "Durations: 4,264.67s (1.18 hours) | 146.24s (2.44 minutes) | 612.22s (10.20 minutes) | 417.56s (6.96 minutes)\n",
      "Memory:    90.80 GiB | 3.11 GiB | 13.03 GiB | 8.89 GiB\n",
      "probe0 concatenated ConcatenateSegmentRecording: 381 channels - 30.0kHz - 1 segments - 163,220,917 samples \n",
      "                             5,440.70s (1.51 hours) - int16 dtype - 115.83 GiB\n"
     ]
    },
    {
     "ename": "AssertionError",
     "evalue": "output_motion is not a valid job keyword argument. Available keyword arguments are: ['n_jobs', 'total_memory', 'chunk_size', 'chunk_memory', 'chunk_duration', 'progress_bar', 'mp_context', 'verbose', 'max_threads_per_process']",
     "output_type": "error",
     "traceback": [
      "\u001b[0;31m---------------------------------------------------------------------------\u001b[0m",
      "\u001b[0;31mAssertionError\u001b[0m                            Traceback (most recent call last)",
      "Cell \u001b[0;32mIn[1], line 52\u001b[0m\n\u001b[1;32m     49\u001b[0m \u001b[38;5;28mprint\u001b[39m(\u001b[38;5;124m'\u001b[39m\u001b[38;5;124mprobe0_preprocessed\u001b[39m\u001b[38;5;124m'\u001b[39m,probe0_preprocessed)\n\u001b[1;32m     50\u001b[0m \u001b[38;5;28mprint\u001b[39m(\u001b[38;5;124m'\u001b[39m\u001b[38;5;124mprobe0 concatenated\u001b[39m\u001b[38;5;124m'\u001b[39m,probe0_cat)\n\u001b[0;32m---> 52\u001b[0m recording_corrected, motion, motion_info \u001b[38;5;241m=\u001b[39m si\u001b[38;5;241m.\u001b[39mcorrect_motion(\n\u001b[1;32m     53\u001b[0m         recording\u001b[38;5;241m=\u001b[39mprobe0_cat, preset\u001b[38;5;241m=\u001b[39m\u001b[38;5;124m\"\u001b[39m\u001b[38;5;124mnonrigid_accurate\u001b[39m\u001b[38;5;124m\"\u001b[39m, folder\u001b[38;5;241m=\u001b[39mephys_folder \u001b[38;5;241m+\u001b[39m \u001b[38;5;124m'\u001b[39m\u001b[38;5;124mprobe0_motion\u001b[39m\u001b[38;5;124m'\u001b[39m, output_motion\u001b[38;5;241m=\u001b[39m\u001b[38;5;28;01mTrue\u001b[39;00m, output_motion_info\u001b[38;5;241m=\u001b[39m\u001b[38;5;28;01mTrue\u001b[39;00m, \u001b[38;5;241m*\u001b[39m\u001b[38;5;241m*\u001b[39mjob_kwargs\n\u001b[1;32m     54\u001b[0m     )\n\u001b[1;32m     56\u001b[0m \u001b[38;5;66;03m# load\u001b[39;00m\n\u001b[1;32m     57\u001b[0m folder \u001b[38;5;241m=\u001b[39m ephys_folder \u001b[38;5;241m+\u001b[39m \u001b[38;5;124m'\u001b[39m\u001b[38;5;124mprobe0_motion\u001b[39m\u001b[38;5;124m'\u001b[39m\n",
      "File \u001b[0;32m~/anaconda3/lib/python3.11/site-packages/spikeinterface/preprocessing/motion.py:329\u001b[0m, in \u001b[0;36mcorrect_motion\u001b[0;34m(recording, preset, folder, output_motion_info, detect_kwargs, select_kwargs, localize_peaks_kwargs, estimate_motion_kwargs, interpolate_motion_kwargs, **job_kwargs)\u001b[0m\n\u001b[1;32m    326\u001b[0m \u001b[38;5;28;01melse\u001b[39;00m:\n\u001b[1;32m    327\u001b[0m     motion_info \u001b[38;5;241m=\u001b[39m \u001b[38;5;28;01mNone\u001b[39;00m\n\u001b[0;32m--> 329\u001b[0m job_kwargs \u001b[38;5;241m=\u001b[39m fix_job_kwargs(job_kwargs)\n\u001b[1;32m    330\u001b[0m noise_levels \u001b[38;5;241m=\u001b[39m get_noise_levels(recording, return_scaled\u001b[38;5;241m=\u001b[39m\u001b[38;5;28;01mFalse\u001b[39;00m)\n\u001b[1;32m    332\u001b[0m \u001b[38;5;28;01mif\u001b[39;00m folder \u001b[38;5;129;01mis\u001b[39;00m \u001b[38;5;129;01mnot\u001b[39;00m \u001b[38;5;28;01mNone\u001b[39;00m:\n",
      "File \u001b[0;32m~/anaconda3/lib/python3.11/site-packages/spikeinterface/core/job_tools.py:68\u001b[0m, in \u001b[0;36mfix_job_kwargs\u001b[0;34m(runtime_job_kwargs)\u001b[0m\n\u001b[1;32m     65\u001b[0m job_kwargs \u001b[38;5;241m=\u001b[39m get_global_job_kwargs()\n\u001b[1;32m     67\u001b[0m \u001b[38;5;28;01mfor\u001b[39;00m k \u001b[38;5;129;01min\u001b[39;00m runtime_job_kwargs:\n\u001b[0;32m---> 68\u001b[0m     \u001b[38;5;28;01massert\u001b[39;00m k \u001b[38;5;129;01min\u001b[39;00m job_keys, (\n\u001b[1;32m     69\u001b[0m         \u001b[38;5;124mf\u001b[39m\u001b[38;5;124m\"\u001b[39m\u001b[38;5;132;01m{\u001b[39;00mk\u001b[38;5;132;01m}\u001b[39;00m\u001b[38;5;124m is not a valid job keyword argument. \u001b[39m\u001b[38;5;124m\"\u001b[39m \u001b[38;5;124mf\u001b[39m\u001b[38;5;124m\"\u001b[39m\u001b[38;5;124mAvailable keyword arguments are: \u001b[39m\u001b[38;5;132;01m{\u001b[39;00m\u001b[38;5;28mlist\u001b[39m(job_keys)\u001b[38;5;132;01m}\u001b[39;00m\u001b[38;5;124m\"\u001b[39m\n\u001b[1;32m     70\u001b[0m     )\n\u001b[1;32m     72\u001b[0m \u001b[38;5;66;03m# remove mutually exclusive from global job kwargs\u001b[39;00m\n\u001b[1;32m     73\u001b[0m \u001b[38;5;28;01mfor\u001b[39;00m k, v \u001b[38;5;129;01min\u001b[39;00m runtime_job_kwargs\u001b[38;5;241m.\u001b[39mitems():\n",
      "\u001b[0;31mAssertionError\u001b[0m: output_motion is not a valid job keyword argument. Available keyword arguments are: ['n_jobs', 'total_memory', 'chunk_size', 'chunk_memory', 'chunk_duration', 'progress_bar', 'mp_context', 'verbose', 'max_threads_per_process']"
     ]
    }
   ],
   "source": [
    "\n",
    "# get all the recordings on that day\n",
    "mouse = 'M23038'\n",
    "date = '20230817'\n",
    "import os\n",
    "import subprocess\n",
    "subprocess.run('ulimit -n 4096',shell=True)\n",
    "#grab recordings from the server to local machine (Beast)\n",
    "base_folder = '/mnt/rds01/ibn-vision/DATA/SUBJECTS/'\n",
    "job_kwargs = dict(n_jobs=32, chunk_duration='1s', progress_bar=True)\n",
    "\n",
    "ephys_folder = base_folder + mouse + '/ephys/' + date +'/'\n",
    "# allocate destination folder and move the ephys folder on the server to Beast lab user\n",
    "from pathlib import Path\n",
    "import platform\n",
    "import os\n",
    "import shutil\n",
    "import argparse\n",
    "import numpy as np\n",
    "import matplotlib.pyplot as plt\n",
    "import spikeinterface.sorters\n",
    "import spikeinterface.full as si\n",
    "import  scipy.signal\n",
    "import spikeinterface.extractors as se\n",
    "import spikeinterface.comparison\n",
    "import spikeinterface.exporters\n",
    "import spikeinterface.curation\n",
    "import spikeinterface.widgets \n",
    "\n",
    "\n",
    "\n",
    "from datetime import datetime\n",
    "startTime = datetime.now()\n",
    "print('Start Time:' + startTime.strftime(\"%m/%d/%Y, %H:%M:%S\"))\n",
    "''' this section defines the animal and dates and fetch the recordings from the server to Beast'''\n",
    "print('copying ephys data from:' + ephys_folder)\n",
    "\n",
    "#load first probe from beast folder - MEC probe for Diao\n",
    "probe0_raw = si.read_spikeglx(ephys_folder,stream_name='imec0.ap')\n",
    "print(probe0_raw)\n",
    "\n",
    "probe0_highpass = si.highpass_filter(probe0_raw,freq_min=300.)\n",
    "bad_channel_ids, channel_labels = si.detect_bad_channels(probe0_highpass)\n",
    "probe0_remove_channels = probe0_highpass.remove_channels(bad_channel_ids)\n",
    "print('probe0_bad_channel_ids',bad_channel_ids)\n",
    "probe0_phase_shift = si.phase_shift(probe0_remove_channels)\n",
    "probe0_common_reference = si.common_reference(probe0_phase_shift,operator='median',reference='global')\n",
    "probe0_preprocessed = probe0_common_reference\n",
    "probe0_cat = si.concatenate_recordings([probe0_preprocessed])\n",
    "print('probe0_preprocessed',probe0_preprocessed)\n",
    "print('probe0 concatenated',probe0_cat)\n"
   ]
  },
  {
   "cell_type": "code",
   "execution_count": 3,
   "metadata": {},
   "outputs": [
    {
     "data": {
      "application/vnd.jupyter.widget-view+json": {
       "model_id": "52e39c273888454c8b2e559e4ad0945e",
       "version_major": 2,
       "version_minor": 0
      },
      "text/plain": [
       "detect and localize:   0%|          | 0/5441 [00:00<?, ?it/s]"
      ]
     },
     "metadata": {},
     "output_type": "display_data"
    },
    {
     "ename": "ValueError",
     "evalue": "not enough values to unpack (expected 3, got 2)",
     "output_type": "error",
     "traceback": [
      "\u001b[0;31m---------------------------------------------------------------------------\u001b[0m",
      "\u001b[0;31mValueError\u001b[0m                                Traceback (most recent call last)",
      "Cell \u001b[0;32mIn[3], line 1\u001b[0m\n\u001b[0;32m----> 1\u001b[0m probe0_recording_corrected, probe0_motion, probe0_motion_info \u001b[38;5;241m=\u001b[39m si\u001b[38;5;241m.\u001b[39mcorrect_motion(\n\u001b[1;32m      2\u001b[0m         recording\u001b[38;5;241m=\u001b[39mprobe0_cat, preset\u001b[38;5;241m=\u001b[39m\u001b[38;5;124m\"\u001b[39m\u001b[38;5;124mnonrigid_accurate\u001b[39m\u001b[38;5;124m\"\u001b[39m,\n\u001b[1;32m      3\u001b[0m     folder\u001b[38;5;241m=\u001b[39mephys_folder \u001b[38;5;241m+\u001b[39m \u001b[38;5;124m'\u001b[39m\u001b[38;5;124mprobe0_motion\u001b[39m\u001b[38;5;124m'\u001b[39m,output_motion_info\u001b[38;5;241m=\u001b[39m\u001b[38;5;28;01mTrue\u001b[39;00m, \u001b[38;5;241m*\u001b[39m\u001b[38;5;241m*\u001b[39mjob_kwargs)\n\u001b[1;32m      5\u001b[0m \u001b[38;5;66;03m# load\u001b[39;00m\n\u001b[1;32m      6\u001b[0m folder \u001b[38;5;241m=\u001b[39m ephys_folder \u001b[38;5;241m+\u001b[39m \u001b[38;5;124m'\u001b[39m\u001b[38;5;124mprobe0_motion\u001b[39m\u001b[38;5;124m'\u001b[39m\n",
      "\u001b[0;31mValueError\u001b[0m: not enough values to unpack (expected 3, got 2)"
     ]
    }
   ],
   "source": [
    "\n",
    "probe0_recording_corrected, probe0_motion, probe0_motion_info = si.correct_motion(\n",
    "        recording=probe0_cat, preset=\"nonrigid_accurate\",\n",
    "    folder=ephys_folder + 'probe0_motion',output_motion_info=True, **job_kwargs)\n",
    "\n",
    "# load\n",
    "folder = ephys_folder + 'probe0_motion'\n",
    "motion_info = si.load_motion_info(folder)\n",
    "\n",
    "# and plot\n",
    "fig = plt.figure(figsize=(14, 8))\n",
    "si.plot_motion_info(\n",
    "    motion_info, probe0_cat,\n",
    "    figure=fig,\n",
    "    depth_lim=(400, 600),\n",
    "    color_amplitude=True,\n",
    "    amplitude_cmap=\"inferno\",\n",
    "    scatter_decimate=10,\n",
    ")\n"
   ]
  },
  {
   "cell_type": "code",
   "execution_count": 4,
   "metadata": {},
   "outputs": [
    {
     "ename": "NameError",
     "evalue": "name 'probe0_recording_corrected' is not defined",
     "output_type": "error",
     "traceback": [
      "\u001b[0;31m---------------------------------------------------------------------------\u001b[0m",
      "\u001b[0;31mNameError\u001b[0m                                 Traceback (most recent call last)",
      "Cell \u001b[0;32mIn[4], line 1\u001b[0m\n\u001b[0;32m----> 1\u001b[0m \u001b[38;5;28mprint\u001b[39m(probe0_recording_corrected)\n",
      "\u001b[0;31mNameError\u001b[0m: name 'probe0_recording_corrected' is not defined"
     ]
    }
   ],
   "source": [
    "print(probe0_recording_corrected)"
   ]
  },
  {
   "cell_type": "code",
   "execution_count": 5,
   "metadata": {},
   "outputs": [
    {
     "name": "stdout",
     "output_type": "stream",
     "text": [
      "SpikeGLXRecordingExtractor: 384 channels - 30.0kHz - 4 segments - 163,222,057 samples \n",
      "                            5,440.74s (1.51 hours) - int16 dtype - 116.75 GiB\n",
      "Segments:\n",
      "Samples:   127,940,532 | 4,387,440 | 18,366,912 | 12,527,173\n",
      "Durations: 4,264.68s (1.18 hours) | 146.25s (2.44 minutes) | 612.23s (10.20 minutes) | 417.57s (6.96 minutes)\n",
      "Memory:    91.51 GiB | 3.14 GiB | 13.14 GiB | 8.96 GiB\n",
      "probe1_bad_channel_ids ['imec1.ap#AP191' 'imec1.ap#AP362' 'imec1.ap#AP363' 'imec1.ap#AP364'\n",
      " 'imec1.ap#AP365' 'imec1.ap#AP366' 'imec1.ap#AP367' 'imec1.ap#AP368'\n",
      " 'imec1.ap#AP369' 'imec1.ap#AP370' 'imec1.ap#AP371' 'imec1.ap#AP372'\n",
      " 'imec1.ap#AP373' 'imec1.ap#AP374' 'imec1.ap#AP375' 'imec1.ap#AP376'\n",
      " 'imec1.ap#AP377' 'imec1.ap#AP378' 'imec1.ap#AP379' 'imec1.ap#AP380'\n",
      " 'imec1.ap#AP381' 'imec1.ap#AP382' 'imec1.ap#AP383']\n",
      "probe1_preprocessed CommonReferenceRecording: 361 channels - 30.0kHz - 4 segments - 163,222,057 samples \n",
      "                          5,440.74s (1.51 hours) - int16 dtype - 109.75 GiB\n",
      "Segments:\n",
      "Samples:   127,940,532 | 4,387,440 | 18,366,912 | 12,527,173\n",
      "Durations: 4,264.68s (1.18 hours) | 146.25s (2.44 minutes) | 612.23s (10.20 minutes) | 417.57s (6.96 minutes)\n",
      "Memory:    86.03 GiB | 2.95 GiB | 12.35 GiB | 8.42 GiB\n",
      "probe1 concatenated ConcatenateSegmentRecording: 361 channels - 30.0kHz - 1 segments - 163,222,057 samples \n",
      "                             5,440.74s (1.51 hours) - int16 dtype - 109.75 GiB\n"
     ]
    },
    {
     "data": {
      "application/vnd.jupyter.widget-view+json": {
       "model_id": "8176188369704b0fbbfdb7f679d0e6cd",
       "version_major": 2,
       "version_minor": 0
      },
      "text/plain": [
       "detect and localize:   0%|          | 0/5441 [00:00<?, ?it/s]"
      ]
     },
     "metadata": {},
     "output_type": "display_data"
    },
    {
     "ename": "AttributeError",
     "evalue": "module 'spikeinterface.full' has no attribute 'plot_motion_info'",
     "output_type": "error",
     "traceback": [
      "\u001b[0;31m---------------------------------------------------------------------------\u001b[0m",
      "\u001b[0;31mAttributeError\u001b[0m                            Traceback (most recent call last)",
      "Cell \u001b[0;32mIn[5], line 27\u001b[0m\n\u001b[1;32m     25\u001b[0m \u001b[38;5;66;03m# and plot\u001b[39;00m\n\u001b[1;32m     26\u001b[0m fig \u001b[38;5;241m=\u001b[39m plt\u001b[38;5;241m.\u001b[39mfigure(figsize\u001b[38;5;241m=\u001b[39m(\u001b[38;5;241m14\u001b[39m, \u001b[38;5;241m8\u001b[39m))\n\u001b[0;32m---> 27\u001b[0m si\u001b[38;5;241m.\u001b[39mplot_motion_info(\n\u001b[1;32m     28\u001b[0m     motion_info, probe1_cat,\n\u001b[1;32m     29\u001b[0m     figure\u001b[38;5;241m=\u001b[39mfig,\n\u001b[1;32m     30\u001b[0m     depth_lim\u001b[38;5;241m=\u001b[39m(\u001b[38;5;241m400\u001b[39m, \u001b[38;5;241m600\u001b[39m),\n\u001b[1;32m     31\u001b[0m     color_amplitude\u001b[38;5;241m=\u001b[39m\u001b[38;5;28;01mTrue\u001b[39;00m,\n\u001b[1;32m     32\u001b[0m     amplitude_cmap\u001b[38;5;241m=\u001b[39m\u001b[38;5;124m\"\u001b[39m\u001b[38;5;124minferno\u001b[39m\u001b[38;5;124m\"\u001b[39m,\n\u001b[1;32m     33\u001b[0m     scatter_decimate\u001b[38;5;241m=\u001b[39m\u001b[38;5;241m10\u001b[39m,\n\u001b[1;32m     34\u001b[0m )\n",
      "\u001b[0;31mAttributeError\u001b[0m: module 'spikeinterface.full' has no attribute 'plot_motion_info'"
     ]
    },
    {
     "data": {
      "text/plain": [
       "<Figure size 1400x800 with 0 Axes>"
      ]
     },
     "metadata": {},
     "output_type": "display_data"
    }
   ],
   "source": [
    "#load second probe from beast folder - LEC probe for Diao\n",
    "probe1_raw = si.read_spikeglx(ephys_folder,stream_name='imec1.ap')\n",
    "print(probe1_raw)\n",
    "\n",
    "probe1_highpass = si.highpass_filter(probe1_raw,freq_min=300.)\n",
    "bad_channel_ids, channel_labels = si.detect_bad_channels(probe1_highpass)\n",
    "probe1_remove_channels = probe1_highpass.remove_channels(bad_channel_ids)\n",
    "print('probe1_bad_channel_ids',bad_channel_ids)\n",
    "probe1_phase_shift = si.phase_shift(probe1_remove_channels)\n",
    "probe1_common_reference = si.common_reference(probe1_phase_shift,operator='median',reference='global')\n",
    "probe1_preprocessed = probe1_common_reference\n",
    "probe1_cat = si.concatenate_recordings([probe1_preprocessed])\n",
    "print('probe1_preprocessed',probe1_preprocessed)\n",
    "print('probe1 concatenated',probe1_cat)\n",
    "\n",
    "si.correct_motion(\n",
    "    recording=probe1_cat, preset=\"nonrigid_accurate\", folder=ephys_folder + 'probe1_motion',\n",
    "    output_motion_info=True, **job_kwargs\n",
    "    )\n",
    "\n",
    "# load\n",
    "folder = ephys_folder + 'probe1_motion'\n",
    "motion_info = si.load_motion_info(folder)\n",
    "\n",
    "# and plot\n",
    "fig = plt.figure(figsize=(14, 8))\n",
    "si.plot_motion_info(\n",
    "    motion_info, probe1_cat,\n",
    "    figure=fig,\n",
    "    depth_lim=(400, 600),\n",
    "    color_amplitude=True,\n",
    "    amplitude_cmap=\"inferno\",\n",
    "    scatter_decimate=10,\n",
    ")"
   ]
  },
  {
   "cell_type": "code",
   "execution_count": null,
   "metadata": {},
   "outputs": [],
   "source": [
    "\n",
    "\n",
    "\n",
    "\n",
    "\n",
    "# allocate destination folder and move the ephys folder on the server to Beast lab user\n",
    "from pathlib import Path\n",
    "import platform\n",
    "import os\n",
    "import shutil\n",
    "import argparse\n",
    "import numpy as np\n",
    "import matplotlib.pyplot as plt\n",
    "import spikeinterface.sorters\n",
    "import spikeinterface.full as si\n",
    "import  scipy.signal\n",
    "import spikeinterface.extractors as se\n",
    "import spikeinterface.comparison\n",
    "import spikeinterface.exporters\n",
    "import spikeinterface.curation\n",
    "import spikeinterface.widgets \n",
    "\n",
    "mice = ['M23032','M23034', 'M23037', 'M23038']\n",
    "all_dates = [['20230718','20230719','20230720','20230721','20230722'],\n",
    "              ['20230804','20230805','2023806'], \n",
    "              ['2023810','2023811','2023812','2023813'],\n",
    "              ['2023816','2023817']]\n",
    "\n",
    "base_folder = '/mnt/rds01/ibn-vision/DATA/SUBJECTS/'\n",
    "job_kwargs = dict(n_jobs=32, chunk_duration='1s', progress_bar=True)\n",
    "mouse_number = 0\n",
    "for mouse in mice:\n",
    "    dates = all_dates[mouse_number]\n",
    "    mouse_number += 1\n",
    "    for date in dates:\n",
    "        ephys_folder = base_folder + mouse + '/ephys/' + date +'/'\n",
    "        from datetime import datetime\n",
    "        startTime = datetime.now()\n",
    "        print('Start Time:' + startTime.strftime(\"%m/%d/%Y, %H:%M:%S\"))\n",
    "        ''' this section defines the animal and dates and fetch the recordings from the server to Beast'''\n",
    "        print('copying ephys data from:' + ephys_folder)\n",
    "\n",
    "        #load first probe from beast folder - MEC probe for Diao\n",
    "        probe0_raw = si.read_spikeglx(ephys_folder,stream_name='imec0.ap')\n",
    "        print(probe0_raw)\n",
    "\n",
    "        probe0_highpass = si.highpass_filter(probe0_raw,freq_min=300.)\n",
    "        bad_channel_ids, channel_labels = si.detect_bad_channels(probe0_highpass)\n",
    "        probe0_remove_channels = probe0_highpass.remove_channels(bad_channel_ids)\n",
    "        print('probe0_bad_channel_ids',bad_channel_ids)\n",
    "        probe0_phase_shift = si.phase_shift(probe0_remove_channels)\n",
    "        probe0_common_reference = si.common_reference(probe0_phase_shift,operator='median',reference='global')\n",
    "        probe0_preprocessed = probe0_common_reference\n",
    "        probe0_cat = si.concatenate_recordings([probe0_preprocessed])\n",
    "        print('probe0_preprocessed',probe0_preprocessed)\n",
    "        print('probe0 concatenated',probe0_cat)\n",
    "\n",
    "        si.correct_motion(\n",
    "                recording=probe0_cat, preset=\"nonrigid_accurate\", folder=ephys_folder + 'probe0_motion',\n",
    "                output_motion_info=True, **job_kwargs\n",
    "            )\n",
    "\n",
    "        # load\n",
    "        folder = ephys_folder + 'probe0_motion'\n",
    "        motion_info = si.load_motion_info(folder)\n",
    "\n",
    "        # and plot\n",
    "        fig = plt.figure(figsize=(14, 8))\n",
    "        si.plot_motion_info(\n",
    "            motion_info, probe0_cat,\n",
    "            figure=fig,\n",
    "            depth_lim=(400, 600),\n",
    "            color_amplitude=True,\n",
    "            amplitude_cmap=\"inferno\",\n",
    "            scatter_decimate=10,\n",
    "        )\n",
    "        plt.suptitle(f\"Motion correction for {mouse} {date} probe0\")\n",
    "        #load second probe from beast folder - LEC probe for Diao\n",
    "        probe1_raw = si.read_spikeglx(ephys_folder,stream_name='imec1.ap')\n",
    "        print(probe1_raw)\n",
    "\n",
    "        probe1_highpass = si.highpass_filter(probe1_raw,freq_min=300.)\n",
    "        bad_channel_ids, channel_labels = si.detect_bad_channels(probe1_highpass)\n",
    "        probe1_remove_channels = probe1_highpass.remove_channels(bad_channel_ids)\n",
    "        print('probe1_bad_channel_ids',bad_channel_ids)\n",
    "        probe1_phase_shift = si.phase_shift(probe1_remove_channels)\n",
    "        probe1_common_reference = si.common_reference(probe1_phase_shift,operator='median',reference='global')\n",
    "        probe1_preprocessed = probe1_common_reference\n",
    "        probe1_cat = si.concatenate_recordings([probe1_preprocessed])\n",
    "        print('probe1_preprocessed',probe1_preprocessed)\n",
    "        print('probe1 concatenated',probe1_cat)\n",
    "\n",
    "        si.correct_motion(\n",
    "            recording=probe1_cat, preset=\"nonrigid_accurate\", folder=ephys_folder + 'probe1_motion',\n",
    "            output_motion_info=True, **job_kwargs\n",
    "            )\n",
    "\n",
    "        # load\n",
    "        folder = ephys_folder + 'probe1_motion'\n",
    "        motion_info = si.load_motion_info(folder)\n",
    "\n",
    "        # and plot\n",
    "        fig = plt.figure(figsize=(14, 8))\n",
    "        si.plot_motion_info(\n",
    "            motion_info, probe1_cat,\n",
    "            figure=fig,\n",
    "            depth_lim=(400, 600),\n",
    "            color_amplitude=True,\n",
    "            amplitude_cmap=\"inferno\",\n",
    "            scatter_decimate=10,\n",
    "        )\n",
    "        plt.suptitle(f\"Motion correction for {mouse} {date} probe1\")\n",
    "\n",
    "\n"
   ]
  },
  {
   "cell_type": "code",
   "execution_count": 7,
   "metadata": {},
   "outputs": [
    {
     "name": "stdout",
     "output_type": "stream",
     "text": [
      "Start Time:08/31/2024, 16:47:36\n",
      "copying ephys data from:/mnt/rds01/ibn-vision/DATA/SUBJECTS/M23032/ephys/20230718/\n",
      "SpikeGLXRecordingExtractor: 384 channels - 30.0kHz - 5 segments - 112,798,213 samples \n",
      "                            3,759.94s (1.04 hours) - int16 dtype - 80.68 GiB\n",
      "Segments:\n",
      "Samples:   11,119,669 | 66,708,444 | 4,003,680 | 18,327,348 | 12,639,072\n",
      "Durations: 370.66s (6.18 minutes) | 2,223.61s (37.06 minutes) | 133.46s (2.22 minutes) | 610.91s (10.18 minutes) | 421.30s (7.02 minutes)\n",
      "Memory:    7.95 GiB | 47.71 GiB | 2.86 GiB | 13.11 GiB | 9.04 GiB\n",
      "probe0_bad_channel_ids ['imec0.ap#AP191' 'imec0.ap#AP352' 'imec0.ap#AP353' 'imec0.ap#AP354'\n",
      " 'imec0.ap#AP355' 'imec0.ap#AP356' 'imec0.ap#AP357' 'imec0.ap#AP358'\n",
      " 'imec0.ap#AP359' 'imec0.ap#AP360' 'imec0.ap#AP361' 'imec0.ap#AP362'\n",
      " 'imec0.ap#AP363' 'imec0.ap#AP364' 'imec0.ap#AP365' 'imec0.ap#AP366'\n",
      " 'imec0.ap#AP367' 'imec0.ap#AP368' 'imec0.ap#AP369' 'imec0.ap#AP370'\n",
      " 'imec0.ap#AP371' 'imec0.ap#AP372' 'imec0.ap#AP373' 'imec0.ap#AP374'\n",
      " 'imec0.ap#AP375' 'imec0.ap#AP376' 'imec0.ap#AP377' 'imec0.ap#AP378'\n",
      " 'imec0.ap#AP379' 'imec0.ap#AP380' 'imec0.ap#AP381' 'imec0.ap#AP382'\n",
      " 'imec0.ap#AP383']\n",
      "probe0_preprocessed CommonReferenceRecording: 351 channels - 30.0kHz - 5 segments - 112,798,213 samples \n",
      "                          3,759.94s (1.04 hours) - int16 dtype - 73.75 GiB\n",
      "Segments:\n",
      "Samples:   11,119,669 | 66,708,444 | 4,003,680 | 18,327,348 | 12,639,072\n",
      "Durations: 370.66s (6.18 minutes) | 2,223.61s (37.06 minutes) | 133.46s (2.22 minutes) | 610.91s (10.18 minutes) | 421.30s (7.02 minutes)\n",
      "Memory:    7.27 GiB | 43.61 GiB | 2.62 GiB | 11.98 GiB | 8.26 GiB\n",
      "probe0 concatenated ConcatenateSegmentRecording: 351 channels - 30.0kHz - 1 segments - 112,798,213 samples \n",
      "                             3,759.94s (1.04 hours) - int16 dtype - 73.75 GiB\n"
     ]
    },
    {
     "data": {
      "application/vnd.jupyter.widget-view+json": {
       "model_id": "910cf89902904745adadec8b22965246",
       "version_major": 2,
       "version_minor": 0
      },
      "text/plain": [
       "detect and localize:   0%|          | 0/3760 [00:00<?, ?it/s]"
      ]
     },
     "metadata": {},
     "output_type": "display_data"
    },
    {
     "name": "stdout",
     "output_type": "stream",
     "text": [
      "SpikeGLXRecordingExtractor: 384 channels - 30.0kHz - 5 segments - 112,799,137 samples \n",
      "                            3,759.97s (1.04 hours) - int16 dtype - 80.68 GiB\n",
      "Segments:\n",
      "Samples:   11,119,801 | 66,708,624 | 4,003,872 | 18,327,540 | 12,639,300\n",
      "Durations: 370.66s (6.18 minutes) | 2,223.62s (37.06 minutes) | 133.46s (2.22 minutes) | 610.92s (10.18 minutes) | 421.31s (7.02 minutes)\n",
      "Memory:    7.95 GiB | 47.71 GiB | 2.86 GiB | 13.11 GiB | 9.04 GiB\n",
      "probe1_bad_channel_ids ['imec1.ap#AP191' 'imec1.ap#AP290' 'imec1.ap#AP367' 'imec1.ap#AP368'\n",
      " 'imec1.ap#AP369' 'imec1.ap#AP370' 'imec1.ap#AP371' 'imec1.ap#AP372'\n",
      " 'imec1.ap#AP373' 'imec1.ap#AP374' 'imec1.ap#AP375' 'imec1.ap#AP376'\n",
      " 'imec1.ap#AP377' 'imec1.ap#AP378' 'imec1.ap#AP379' 'imec1.ap#AP380'\n",
      " 'imec1.ap#AP381' 'imec1.ap#AP382' 'imec1.ap#AP383']\n",
      "probe1_preprocessed CommonReferenceRecording: 365 channels - 30.0kHz - 5 segments - 112,799,137 samples \n",
      "                          3,759.97s (1.04 hours) - int16 dtype - 76.69 GiB\n",
      "Segments:\n",
      "Samples:   11,119,801 | 66,708,624 | 4,003,872 | 18,327,540 | 12,639,300\n",
      "Durations: 370.66s (6.18 minutes) | 2,223.62s (37.06 minutes) | 133.46s (2.22 minutes) | 610.92s (10.18 minutes) | 421.31s (7.02 minutes)\n",
      "Memory:    7.56 GiB | 45.35 GiB | 2.72 GiB | 12.46 GiB | 8.59 GiB\n",
      "probe1 concatenated ConcatenateSegmentRecording: 365 channels - 30.0kHz - 1 segments - 112,799,137 samples \n",
      "                             3,759.97s (1.04 hours) - int16 dtype - 76.69 GiB\n"
     ]
    },
    {
     "data": {
      "application/vnd.jupyter.widget-view+json": {
       "model_id": "ddca4bdaadc141d5b4b68c4f6828054c",
       "version_major": 2,
       "version_minor": 0
      },
      "text/plain": [
       "detect and localize:   0%|          | 0/3760 [00:00<?, ?it/s]"
      ]
     },
     "metadata": {},
     "output_type": "display_data"
    },
    {
     "name": "stdout",
     "output_type": "stream",
     "text": [
      "Start Time:09/01/2024, 00:13:33\n",
      "copying ephys data from:/mnt/rds01/ibn-vision/DATA/SUBJECTS/M23032/ephys/20230719/\n",
      "SpikeGLXRecordingExtractor: 384 channels - 30.0kHz - 5 segments - 102,247,308 samples \n",
      "                            3,408.24s (56.80 minutes) - int16 dtype - 73.13 GiB\n",
      "Segments:\n",
      "Samples:   1,241,760 | 61,691,868 | 8,089,404 | 18,304,656 | 12,919,620\n",
      "Durations: 41.39s | 2,056.40s (34.27 minutes) | 269.65s (4.49 minutes) | 610.16s (10.17 minutes) | 430.65s (7.18 minutes)\n",
      "Memory:    909.49 MiB | 44.13 GiB | 5.79 GiB | 13.09 GiB | 9.24 GiB\n",
      "probe0_bad_channel_ids ['imec0.ap#AP191' 'imec0.ap#AP359' 'imec0.ap#AP360' 'imec0.ap#AP361'\n",
      " 'imec0.ap#AP362' 'imec0.ap#AP363' 'imec0.ap#AP364' 'imec0.ap#AP365'\n",
      " 'imec0.ap#AP366' 'imec0.ap#AP367' 'imec0.ap#AP368' 'imec0.ap#AP369'\n",
      " 'imec0.ap#AP370' 'imec0.ap#AP371' 'imec0.ap#AP372' 'imec0.ap#AP373'\n",
      " 'imec0.ap#AP374' 'imec0.ap#AP375' 'imec0.ap#AP376' 'imec0.ap#AP377'\n",
      " 'imec0.ap#AP378' 'imec0.ap#AP379' 'imec0.ap#AP380' 'imec0.ap#AP381'\n",
      " 'imec0.ap#AP382' 'imec0.ap#AP383']\n",
      "probe0_preprocessed CommonReferenceRecording: 358 channels - 30.0kHz - 5 segments - 102,247,308 samples \n",
      "                          3,408.24s (56.80 minutes) - int16 dtype - 68.18 GiB\n",
      "Segments:\n",
      "Samples:   1,241,760 | 61,691,868 | 8,089,404 | 18,304,656 | 12,919,620\n",
      "Durations: 41.39s | 2,056.40s (34.27 minutes) | 269.65s (4.49 minutes) | 610.16s (10.17 minutes) | 430.65s (7.18 minutes)\n",
      "Memory:    847.91 MiB | 41.14 GiB | 5.39 GiB | 12.21 GiB | 8.62 GiB\n",
      "probe0 concatenated ConcatenateSegmentRecording: 358 channels - 30.0kHz - 1 segments - 102,247,308 samples \n",
      "                             3,408.24s (56.80 minutes) - int16 dtype - 68.18 GiB\n"
     ]
    },
    {
     "data": {
      "application/vnd.jupyter.widget-view+json": {
       "model_id": "b54956dc293a4797af9d5fa158199722",
       "version_major": 2,
       "version_minor": 0
      },
      "text/plain": [
       "detect and localize:   0%|          | 0/3409 [00:00<?, ?it/s]"
      ]
     },
     "metadata": {},
     "output_type": "display_data"
    },
    {
     "name": "stdout",
     "output_type": "stream",
     "text": [
      "SpikeGLXRecordingExtractor: 384 channels - 30.0kHz - 5 segments - 102,248,760 samples \n",
      "                            3,408.29s (56.80 minutes) - int16 dtype - 73.13 GiB\n",
      "Segments:\n",
      "Samples:   1,242,000 | 61,692,120 | 8,089,692 | 18,305,016 | 12,919,932\n",
      "Durations: 41.40s | 2,056.40s (34.27 minutes) | 269.66s (4.49 minutes) | 610.17s (10.17 minutes) | 430.66s (7.18 minutes)\n",
      "Memory:    909.67 MiB | 44.13 GiB | 5.79 GiB | 13.09 GiB | 9.24 GiB\n",
      "probe1_bad_channel_ids ['imec1.ap#AP191' 'imec1.ap#AP290' 'imec1.ap#AP318' 'imec1.ap#AP319'\n",
      " 'imec1.ap#AP320' 'imec1.ap#AP321' 'imec1.ap#AP322' 'imec1.ap#AP323'\n",
      " 'imec1.ap#AP324' 'imec1.ap#AP325' 'imec1.ap#AP326' 'imec1.ap#AP327'\n",
      " 'imec1.ap#AP328' 'imec1.ap#AP329' 'imec1.ap#AP330' 'imec1.ap#AP331'\n",
      " 'imec1.ap#AP332' 'imec1.ap#AP333' 'imec1.ap#AP334' 'imec1.ap#AP335'\n",
      " 'imec1.ap#AP336' 'imec1.ap#AP337' 'imec1.ap#AP338' 'imec1.ap#AP339'\n",
      " 'imec1.ap#AP340' 'imec1.ap#AP341' 'imec1.ap#AP342' 'imec1.ap#AP343'\n",
      " 'imec1.ap#AP344' 'imec1.ap#AP345' 'imec1.ap#AP346' 'imec1.ap#AP347'\n",
      " 'imec1.ap#AP348' 'imec1.ap#AP349' 'imec1.ap#AP350' 'imec1.ap#AP351'\n",
      " 'imec1.ap#AP352' 'imec1.ap#AP353' 'imec1.ap#AP354' 'imec1.ap#AP355'\n",
      " 'imec1.ap#AP356' 'imec1.ap#AP357' 'imec1.ap#AP358' 'imec1.ap#AP359'\n",
      " 'imec1.ap#AP360' 'imec1.ap#AP361' 'imec1.ap#AP362' 'imec1.ap#AP363'\n",
      " 'imec1.ap#AP364' 'imec1.ap#AP365' 'imec1.ap#AP366' 'imec1.ap#AP367'\n",
      " 'imec1.ap#AP368' 'imec1.ap#AP369' 'imec1.ap#AP370' 'imec1.ap#AP371'\n",
      " 'imec1.ap#AP372' 'imec1.ap#AP373' 'imec1.ap#AP374' 'imec1.ap#AP375'\n",
      " 'imec1.ap#AP376' 'imec1.ap#AP377' 'imec1.ap#AP378' 'imec1.ap#AP379'\n",
      " 'imec1.ap#AP380' 'imec1.ap#AP381' 'imec1.ap#AP382' 'imec1.ap#AP383']\n",
      "probe1_preprocessed CommonReferenceRecording: 316 channels - 30.0kHz - 5 segments - 102,248,760 samples \n",
      "                          3,408.29s (56.80 minutes) - int16 dtype - 60.18 GiB\n",
      "Segments:\n",
      "Samples:   1,242,000 | 61,692,120 | 8,089,692 | 18,305,016 | 12,919,932\n",
      "Durations: 41.40s | 2,056.40s (34.27 minutes) | 269.66s (4.49 minutes) | 610.17s (10.17 minutes) | 430.66s (7.18 minutes)\n",
      "Memory:    748.58 MiB | 36.31 GiB | 4.76 GiB | 10.77 GiB | 7.60 GiB\n",
      "probe1 concatenated ConcatenateSegmentRecording: 316 channels - 30.0kHz - 1 segments - 102,248,760 samples \n",
      "                             3,408.29s (56.80 minutes) - int16 dtype - 60.18 GiB\n"
     ]
    },
    {
     "data": {
      "application/vnd.jupyter.widget-view+json": {
       "model_id": "b22da67176d5435aa64cf36a4f180135",
       "version_major": 2,
       "version_minor": 0
      },
      "text/plain": [
       "detect and localize:   0%|          | 0/3409 [00:00<?, ?it/s]"
      ]
     },
     "metadata": {},
     "output_type": "display_data"
    },
    {
     "name": "stdout",
     "output_type": "stream",
     "text": [
      "Start Time:09/01/2024, 05:02:33\n",
      "copying ephys data from:/mnt/rds01/ibn-vision/DATA/SUBJECTS/M23032/ephys/20230720/\n",
      "SpikeGLXRecordingExtractor: 384 channels - 30.0kHz - 4 segments - 121,159,442 samples \n",
      "                            4,038.65s (1.12 hours) - int16 dtype - 86.66 GiB\n",
      "Segments:\n",
      "Samples:   79,214,676 | 4,063,033 | 18,343,296 | 19,538,437\n",
      "Durations: 2,640.49s (44.01 minutes) | 135.43s (2.26 minutes) | 611.44s (10.19 minutes) | 651.28s (10.85 minutes)\n",
      "Memory:    56.66 GiB | 2.91 GiB | 13.12 GiB | 13.97 GiB\n",
      "probe0_bad_channel_ids ['imec0.ap#AP5' 'imec0.ap#AP7' 'imec0.ap#AP9' 'imec0.ap#AP191']\n",
      "probe0_preprocessed CommonReferenceRecording: 380 channels - 30.0kHz - 4 segments - 121,159,442 samples \n",
      "                          4,038.65s (1.12 hours) - int16 dtype - 85.76 GiB\n",
      "Segments:\n",
      "Samples:   79,214,676 | 4,063,033 | 18,343,296 | 19,538,437\n",
      "Durations: 2,640.49s (44.01 minutes) | 135.43s (2.26 minutes) | 611.44s (10.19 minutes) | 651.28s (10.85 minutes)\n",
      "Memory:    56.07 GiB | 2.88 GiB | 12.98 GiB | 13.83 GiB\n",
      "probe0 concatenated ConcatenateSegmentRecording: 380 channels - 30.0kHz - 1 segments - 121,159,442 samples \n",
      "                             4,038.65s (1.12 hours) - int16 dtype - 85.76 GiB\n"
     ]
    },
    {
     "data": {
      "application/vnd.jupyter.widget-view+json": {
       "model_id": "5b0b34aa246049be84a47ae5b3f3e4ac",
       "version_major": 2,
       "version_minor": 0
      },
      "text/plain": [
       "detect and localize:   0%|          | 0/4039 [00:00<?, ?it/s]"
      ]
     },
     "metadata": {},
     "output_type": "display_data"
    },
    {
     "name": "stdout",
     "output_type": "stream",
     "text": [
      "SpikeGLXRecordingExtractor: 384 channels - 30.0kHz - 4 segments - 121,160,270 samples \n",
      "                            4,038.68s (1.12 hours) - int16 dtype - 86.66 GiB\n",
      "Segments:\n",
      "Samples:   79,214,880 | 4,063,237 | 18,343,488 | 19,538,665\n",
      "Durations: 2,640.50s (44.01 minutes) | 135.44s (2.26 minutes) | 611.45s (10.19 minutes) | 651.29s (10.85 minutes)\n",
      "Memory:    56.66 GiB | 2.91 GiB | 13.12 GiB | 13.98 GiB\n",
      "probe1_bad_channel_ids ['imec1.ap#AP191' 'imec1.ap#AP290' 'imec1.ap#AP326' 'imec1.ap#AP327'\n",
      " 'imec1.ap#AP328' 'imec1.ap#AP329' 'imec1.ap#AP330' 'imec1.ap#AP331'\n",
      " 'imec1.ap#AP332' 'imec1.ap#AP333' 'imec1.ap#AP334' 'imec1.ap#AP335'\n",
      " 'imec1.ap#AP336' 'imec1.ap#AP337' 'imec1.ap#AP338' 'imec1.ap#AP339'\n",
      " 'imec1.ap#AP340' 'imec1.ap#AP341' 'imec1.ap#AP342' 'imec1.ap#AP343'\n",
      " 'imec1.ap#AP344' 'imec1.ap#AP345' 'imec1.ap#AP346' 'imec1.ap#AP347'\n",
      " 'imec1.ap#AP348' 'imec1.ap#AP349' 'imec1.ap#AP350' 'imec1.ap#AP351'\n",
      " 'imec1.ap#AP352' 'imec1.ap#AP353' 'imec1.ap#AP354' 'imec1.ap#AP355'\n",
      " 'imec1.ap#AP356' 'imec1.ap#AP357' 'imec1.ap#AP358' 'imec1.ap#AP359'\n",
      " 'imec1.ap#AP360' 'imec1.ap#AP361' 'imec1.ap#AP362' 'imec1.ap#AP363'\n",
      " 'imec1.ap#AP364' 'imec1.ap#AP365' 'imec1.ap#AP366' 'imec1.ap#AP367'\n",
      " 'imec1.ap#AP368' 'imec1.ap#AP369' 'imec1.ap#AP370' 'imec1.ap#AP371'\n",
      " 'imec1.ap#AP372' 'imec1.ap#AP373' 'imec1.ap#AP374' 'imec1.ap#AP375'\n",
      " 'imec1.ap#AP376' 'imec1.ap#AP377' 'imec1.ap#AP378' 'imec1.ap#AP379'\n",
      " 'imec1.ap#AP380' 'imec1.ap#AP381' 'imec1.ap#AP382' 'imec1.ap#AP383']\n",
      "probe1_preprocessed CommonReferenceRecording: 324 channels - 30.0kHz - 4 segments - 121,160,270 samples \n",
      "                          4,038.68s (1.12 hours) - int16 dtype - 73.12 GiB\n",
      "Segments:\n",
      "Samples:   79,214,880 | 4,063,237 | 18,343,488 | 19,538,665\n",
      "Durations: 2,640.50s (44.01 minutes) | 135.44s (2.26 minutes) | 611.45s (10.19 minutes) | 651.29s (10.85 minutes)\n",
      "Memory:    47.81 GiB | 2.45 GiB | 11.07 GiB | 11.79 GiB\n",
      "probe1 concatenated ConcatenateSegmentRecording: 324 channels - 30.0kHz - 1 segments - 121,160,270 samples \n",
      "                             4,038.68s (1.12 hours) - int16 dtype - 73.12 GiB\n"
     ]
    },
    {
     "data": {
      "application/vnd.jupyter.widget-view+json": {
       "model_id": "67841d8adbb949369f8a9e5e3808b105",
       "version_major": 2,
       "version_minor": 0
      },
      "text/plain": [
       "detect and localize:   0%|          | 0/4039 [00:00<?, ?it/s]"
      ]
     },
     "metadata": {},
     "output_type": "display_data"
    },
    {
     "name": "stdout",
     "output_type": "stream",
     "text": [
      "Start Time:09/01/2024, 11:49:04\n",
      "copying ephys data from:/mnt/rds01/ibn-vision/DATA/SUBJECTS/M23032/ephys/20230721/\n",
      "SpikeGLXRecordingExtractor: 384 channels - 30.0kHz - 5 segments - 113,922,086 samples \n",
      "                            3,797.40s (1.05 hours) - int16 dtype - 81.48 GiB\n",
      "Segments:\n",
      "Samples:   348,516 | 77,902,752 | 4,523,328 | 18,232,286 | 12,915,204\n",
      "Durations: 11.62s | 2,596.76s (43.28 minutes) | 150.78s (2.51 minutes) | 607.74s (10.13 minutes) | 430.51s (7.18 minutes)\n",
      "Memory:    255.26 MiB | 55.72 GiB | 3.24 GiB | 13.04 GiB | 9.24 GiB\n",
      "probe0_bad_channel_ids ['imec0.ap#AP191' 'imec0.ap#AP348']\n",
      "probe0_preprocessed CommonReferenceRecording: 382 channels - 30.0kHz - 5 segments - 113,922,086 samples \n",
      "                          3,797.40s (1.05 hours) - int16 dtype - 81.06 GiB\n",
      "Segments:\n",
      "Samples:   348,516 | 77,902,752 | 4,523,328 | 18,232,286 | 12,915,204\n",
      "Durations: 11.62s | 2,596.76s (43.28 minutes) | 150.78s (2.51 minutes) | 607.74s (10.13 minutes) | 430.51s (7.18 minutes)\n",
      "Memory:    253.93 MiB | 55.43 GiB | 3.22 GiB | 12.97 GiB | 9.19 GiB\n",
      "probe0 concatenated ConcatenateSegmentRecording: 382 channels - 30.0kHz - 1 segments - 113,922,086 samples \n",
      "                             3,797.40s (1.05 hours) - int16 dtype - 81.06 GiB\n"
     ]
    },
    {
     "data": {
      "application/vnd.jupyter.widget-view+json": {
       "model_id": "550cd3bf01c4489fb42308c79aaa83e0",
       "version_major": 2,
       "version_minor": 0
      },
      "text/plain": [
       "detect and localize:   0%|          | 0/3798 [00:00<?, ?it/s]"
      ]
     },
     "metadata": {},
     "output_type": "display_data"
    },
    {
     "name": "stdout",
     "output_type": "stream",
     "text": [
      "SpikeGLXRecordingExtractor: 384 channels - 30.0kHz - 5 segments - 113,914,466 samples \n",
      "                            3,797.15s (1.05 hours) - int16 dtype - 81.48 GiB\n",
      "Segments:\n",
      "Samples:   346,944 | 77,901,240 | 4,521,816 | 18,230,762 | 12,913,704\n",
      "Durations: 11.56s | 2,596.71s (43.28 minutes) | 150.73s (2.51 minutes) | 607.69s (10.13 minutes) | 430.46s (7.17 minutes)\n",
      "Memory:    254.11 MiB | 55.72 GiB | 3.23 GiB | 13.04 GiB | 9.24 GiB\n",
      "probe1_bad_channel_ids ['imec1.ap#AP191' 'imec1.ap#AP358' 'imec1.ap#AP359' 'imec1.ap#AP360'\n",
      " 'imec1.ap#AP361' 'imec1.ap#AP362' 'imec1.ap#AP363' 'imec1.ap#AP364'\n",
      " 'imec1.ap#AP365' 'imec1.ap#AP366' 'imec1.ap#AP367' 'imec1.ap#AP368'\n",
      " 'imec1.ap#AP369' 'imec1.ap#AP370' 'imec1.ap#AP371' 'imec1.ap#AP372'\n",
      " 'imec1.ap#AP373' 'imec1.ap#AP374' 'imec1.ap#AP375' 'imec1.ap#AP376'\n",
      " 'imec1.ap#AP377' 'imec1.ap#AP378' 'imec1.ap#AP379' 'imec1.ap#AP380'\n",
      " 'imec1.ap#AP381' 'imec1.ap#AP382' 'imec1.ap#AP383']\n",
      "probe1_preprocessed CommonReferenceRecording: 357 channels - 30.0kHz - 5 segments - 113,914,466 samples \n",
      "                          3,797.15s (1.05 hours) - int16 dtype - 75.75 GiB\n",
      "Segments:\n",
      "Samples:   346,944 | 77,901,240 | 4,521,816 | 18,230,762 | 12,913,704\n",
      "Durations: 11.56s | 2,596.71s (43.28 minutes) | 150.73s (2.51 minutes) | 607.69s (10.13 minutes) | 430.46s (7.17 minutes)\n",
      "Memory:    236.24 MiB | 51.80 GiB | 3.01 GiB | 12.12 GiB | 8.59 GiB\n",
      "probe1 concatenated ConcatenateSegmentRecording: 357 channels - 30.0kHz - 1 segments - 113,914,466 samples \n",
      "                             3,797.15s (1.05 hours) - int16 dtype - 75.75 GiB\n"
     ]
    },
    {
     "data": {
      "application/vnd.jupyter.widget-view+json": {
       "model_id": "5c258b3ab57f4f98b40d7ec874a0f211",
       "version_major": 2,
       "version_minor": 0
      },
      "text/plain": [
       "detect and localize:   0%|          | 0/3798 [00:00<?, ?it/s]"
      ]
     },
     "metadata": {},
     "output_type": "display_data"
    },
    {
     "name": "stdout",
     "output_type": "stream",
     "text": [
      "Start Time:09/01/2024, 18:12:43\n",
      "copying ephys data from:/mnt/rds01/ibn-vision/DATA/SUBJECTS/M23032/ephys/20230722/\n",
      "SpikeGLXRecordingExtractor: 384 channels - 30.0kHz - 4 segments - 121,030,456 samples \n",
      "                            4,034.35s (1.12 hours) - int16 dtype - 86.57 GiB\n",
      "Segments:\n",
      "Samples:   85,685,725 | 4,345,922 | 18,260,880 | 12,737,929\n",
      "Durations: 2,856.19s (47.60 minutes) | 144.86s (2.41 minutes) | 608.70s (10.14 minutes) | 424.60s (7.08 minutes)\n",
      "Memory:    61.29 GiB | 3.11 GiB | 13.06 GiB | 9.11 GiB\n",
      "probe0_bad_channel_ids ['imec0.ap#AP135' 'imec0.ap#AP158' 'imec0.ap#AP160' 'imec0.ap#AP166'\n",
      " 'imec0.ap#AP184' 'imec0.ap#AP191' 'imec0.ap#AP200' 'imec0.ap#AP320'\n",
      " 'imec0.ap#AP322' 'imec0.ap#AP326' 'imec0.ap#AP329' 'imec0.ap#AP333'\n",
      " 'imec0.ap#AP337' 'imec0.ap#AP348' 'imec0.ap#AP349' 'imec0.ap#AP350'\n",
      " 'imec0.ap#AP351' 'imec0.ap#AP352' 'imec0.ap#AP353' 'imec0.ap#AP354'\n",
      " 'imec0.ap#AP355' 'imec0.ap#AP356' 'imec0.ap#AP357' 'imec0.ap#AP358'\n",
      " 'imec0.ap#AP359' 'imec0.ap#AP360' 'imec0.ap#AP361' 'imec0.ap#AP362'\n",
      " 'imec0.ap#AP363' 'imec0.ap#AP364' 'imec0.ap#AP365' 'imec0.ap#AP366'\n",
      " 'imec0.ap#AP367' 'imec0.ap#AP368' 'imec0.ap#AP369' 'imec0.ap#AP370'\n",
      " 'imec0.ap#AP371' 'imec0.ap#AP372' 'imec0.ap#AP373' 'imec0.ap#AP374'\n",
      " 'imec0.ap#AP375' 'imec0.ap#AP376' 'imec0.ap#AP377' 'imec0.ap#AP378'\n",
      " 'imec0.ap#AP379' 'imec0.ap#AP380' 'imec0.ap#AP381' 'imec0.ap#AP382'\n",
      " 'imec0.ap#AP383']\n",
      "probe0_preprocessed CommonReferenceRecording: 335 channels - 30.0kHz - 4 segments - 121,030,456 samples \n",
      "                          4,034.35s (1.12 hours) - int16 dtype - 75.52 GiB\n",
      "Segments:\n",
      "Samples:   85,685,725 | 4,345,922 | 18,260,880 | 12,737,929\n",
      "Durations: 2,856.19s (47.60 minutes) | 144.86s (2.41 minutes) | 608.70s (10.14 minutes) | 424.60s (7.08 minutes)\n",
      "Memory:    53.47 GiB | 2.71 GiB | 11.39 GiB | 7.95 GiB\n",
      "probe0 concatenated ConcatenateSegmentRecording: 335 channels - 30.0kHz - 1 segments - 121,030,456 samples \n",
      "                             4,034.35s (1.12 hours) - int16 dtype - 75.52 GiB\n"
     ]
    },
    {
     "data": {
      "application/vnd.jupyter.widget-view+json": {
       "model_id": "e5bdaa011e164ad6b9c383a52f5b7c88",
       "version_major": 2,
       "version_minor": 0
      },
      "text/plain": [
       "detect and localize:   0%|          | 0/4035 [00:00<?, ?it/s]"
      ]
     },
     "metadata": {},
     "output_type": "display_data"
    },
    {
     "name": "stdout",
     "output_type": "stream",
     "text": [
      "SpikeGLXRecordingExtractor: 384 channels - 30.0kHz - 4 segments - 121,031,620 samples \n",
      "                            4,034.39s (1.12 hours) - int16 dtype - 86.57 GiB\n",
      "Segments:\n",
      "Samples:   85,685,989 | 4,346,222 | 18,261,192 | 12,738,217\n",
      "Durations: 2,856.20s (47.60 minutes) | 144.87s (2.41 minutes) | 608.71s (10.15 minutes) | 424.61s (7.08 minutes)\n",
      "Memory:    61.29 GiB | 3.11 GiB | 13.06 GiB | 9.11 GiB\n",
      "probe1_bad_channel_ids ['imec1.ap#AP191' 'imec1.ap#AP304' 'imec1.ap#AP305' 'imec1.ap#AP306'\n",
      " 'imec1.ap#AP307' 'imec1.ap#AP308' 'imec1.ap#AP309' 'imec1.ap#AP310'\n",
      " 'imec1.ap#AP311' 'imec1.ap#AP312' 'imec1.ap#AP313' 'imec1.ap#AP314'\n",
      " 'imec1.ap#AP315' 'imec1.ap#AP316' 'imec1.ap#AP317' 'imec1.ap#AP318'\n",
      " 'imec1.ap#AP319' 'imec1.ap#AP320' 'imec1.ap#AP321' 'imec1.ap#AP322'\n",
      " 'imec1.ap#AP323' 'imec1.ap#AP324' 'imec1.ap#AP325' 'imec1.ap#AP326'\n",
      " 'imec1.ap#AP327' 'imec1.ap#AP328' 'imec1.ap#AP329' 'imec1.ap#AP330'\n",
      " 'imec1.ap#AP331' 'imec1.ap#AP332' 'imec1.ap#AP333' 'imec1.ap#AP334'\n",
      " 'imec1.ap#AP335' 'imec1.ap#AP336' 'imec1.ap#AP337' 'imec1.ap#AP338'\n",
      " 'imec1.ap#AP339' 'imec1.ap#AP340' 'imec1.ap#AP341' 'imec1.ap#AP342'\n",
      " 'imec1.ap#AP343' 'imec1.ap#AP344' 'imec1.ap#AP345' 'imec1.ap#AP346'\n",
      " 'imec1.ap#AP347' 'imec1.ap#AP348' 'imec1.ap#AP349' 'imec1.ap#AP350'\n",
      " 'imec1.ap#AP351' 'imec1.ap#AP352' 'imec1.ap#AP353' 'imec1.ap#AP354'\n",
      " 'imec1.ap#AP355' 'imec1.ap#AP356' 'imec1.ap#AP357' 'imec1.ap#AP358'\n",
      " 'imec1.ap#AP359' 'imec1.ap#AP360' 'imec1.ap#AP361' 'imec1.ap#AP362'\n",
      " 'imec1.ap#AP363' 'imec1.ap#AP364' 'imec1.ap#AP365' 'imec1.ap#AP366'\n",
      " 'imec1.ap#AP367' 'imec1.ap#AP368' 'imec1.ap#AP369' 'imec1.ap#AP370'\n",
      " 'imec1.ap#AP371' 'imec1.ap#AP372' 'imec1.ap#AP373' 'imec1.ap#AP374'\n",
      " 'imec1.ap#AP375' 'imec1.ap#AP376' 'imec1.ap#AP377' 'imec1.ap#AP378'\n",
      " 'imec1.ap#AP379' 'imec1.ap#AP380' 'imec1.ap#AP381' 'imec1.ap#AP382'\n",
      " 'imec1.ap#AP383']\n",
      "probe1_preprocessed CommonReferenceRecording: 303 channels - 30.0kHz - 4 segments - 121,031,620 samples \n",
      "                          4,034.39s (1.12 hours) - int16 dtype - 68.31 GiB\n",
      "Segments:\n",
      "Samples:   85,685,989 | 4,346,222 | 18,261,192 | 12,738,217\n",
      "Durations: 2,856.20s (47.60 minutes) | 144.87s (2.41 minutes) | 608.71s (10.15 minutes) | 424.61s (7.08 minutes)\n",
      "Memory:    48.36 GiB | 2.45 GiB | 10.31 GiB | 7.19 GiB\n",
      "probe1 concatenated ConcatenateSegmentRecording: 303 channels - 30.0kHz - 1 segments - 121,031,620 samples \n",
      "                             4,034.39s (1.12 hours) - int16 dtype - 68.31 GiB\n"
     ]
    },
    {
     "data": {
      "application/vnd.jupyter.widget-view+json": {
       "model_id": "c30b275e9da543a69ae0489a4c650a81",
       "version_major": 2,
       "version_minor": 0
      },
      "text/plain": [
       "detect and localize:   0%|          | 0/4035 [00:00<?, ?it/s]"
      ]
     },
     "metadata": {},
     "output_type": "display_data"
    },
    {
     "name": "stdout",
     "output_type": "stream",
     "text": [
      "Start Time:09/02/2024, 01:21:30\n",
      "copying ephys data from:/mnt/rds01/ibn-vision/DATA/SUBJECTS/M23034/ephys/20230804/\n",
      "SpikeGLXRecordingExtractor: 384 channels - 30.0kHz - 4 segments - 129,901,046 samples \n",
      "                            4,330.03s (1.20 hours) - int16 dtype - 92.91 GiB\n",
      "Segments:\n",
      "Samples:   83,387,294 | 4,078,056 | 18,264,744 | 24,170,952\n",
      "Durations: 2,779.58s (46.33 minutes) | 135.94s (2.27 minutes) | 608.82s (10.15 minutes) | 805.70s (13.43 minutes)\n",
      "Memory:    59.64 GiB | 2.92 GiB | 13.06 GiB | 17.29 GiB\n",
      "probe0_bad_channel_ids ['imec0.ap#AP23' 'imec0.ap#AP27' 'imec0.ap#AP49' 'imec0.ap#AP108'\n",
      " 'imec0.ap#AP134' 'imec0.ap#AP139' 'imec0.ap#AP147' 'imec0.ap#AP191'\n",
      " 'imec0.ap#AP342' 'imec0.ap#AP343' 'imec0.ap#AP344' 'imec0.ap#AP345'\n",
      " 'imec0.ap#AP346' 'imec0.ap#AP347' 'imec0.ap#AP348' 'imec0.ap#AP349'\n",
      " 'imec0.ap#AP350' 'imec0.ap#AP351' 'imec0.ap#AP352' 'imec0.ap#AP353'\n",
      " 'imec0.ap#AP354' 'imec0.ap#AP355' 'imec0.ap#AP356' 'imec0.ap#AP357'\n",
      " 'imec0.ap#AP358' 'imec0.ap#AP359' 'imec0.ap#AP360' 'imec0.ap#AP361'\n",
      " 'imec0.ap#AP362' 'imec0.ap#AP363' 'imec0.ap#AP364' 'imec0.ap#AP365'\n",
      " 'imec0.ap#AP366' 'imec0.ap#AP367' 'imec0.ap#AP368' 'imec0.ap#AP369'\n",
      " 'imec0.ap#AP370' 'imec0.ap#AP371' 'imec0.ap#AP372' 'imec0.ap#AP373'\n",
      " 'imec0.ap#AP374' 'imec0.ap#AP375' 'imec0.ap#AP376' 'imec0.ap#AP377'\n",
      " 'imec0.ap#AP378' 'imec0.ap#AP379' 'imec0.ap#AP380' 'imec0.ap#AP381'\n",
      " 'imec0.ap#AP382' 'imec0.ap#AP383']\n",
      "probe0_preprocessed CommonReferenceRecording: 334 channels - 30.0kHz - 4 segments - 129,901,046 samples \n",
      "                          4,330.03s (1.20 hours) - int16 dtype - 80.81 GiB\n",
      "Segments:\n",
      "Samples:   83,387,294 | 4,078,056 | 18,264,744 | 24,170,952\n",
      "Durations: 2,779.58s (46.33 minutes) | 135.94s (2.27 minutes) | 608.82s (10.15 minutes) | 805.70s (13.43 minutes)\n",
      "Memory:    51.88 GiB | 2.54 GiB | 11.36 GiB | 15.04 GiB\n",
      "probe0 concatenated ConcatenateSegmentRecording: 334 channels - 30.0kHz - 1 segments - 129,901,046 samples \n",
      "                             4,330.03s (1.20 hours) - int16 dtype - 80.81 GiB\n"
     ]
    },
    {
     "data": {
      "application/vnd.jupyter.widget-view+json": {
       "model_id": "fb35783930b34d1db72c9c279983f7b2",
       "version_major": 2,
       "version_minor": 0
      },
      "text/plain": [
       "detect and localize:   0%|          | 0/4331 [00:00<?, ?it/s]"
      ]
     },
     "metadata": {},
     "output_type": "display_data"
    },
    {
     "name": "stdout",
     "output_type": "stream",
     "text": [
      "SpikeGLXRecordingExtractor: 384 channels - 30.0kHz - 4 segments - 129,902,198 samples \n",
      "                            4,330.07s (1.20 hours) - int16 dtype - 92.91 GiB\n",
      "Segments:\n",
      "Samples:   83,387,546 | 4,078,344 | 18,265,020 | 24,171,288\n",
      "Durations: 2,779.58s (46.33 minutes) | 135.94s (2.27 minutes) | 608.83s (10.15 minutes) | 805.71s (13.43 minutes)\n",
      "Memory:    59.64 GiB | 2.92 GiB | 13.06 GiB | 17.29 GiB\n",
      "probe1_bad_channel_ids ['imec1.ap#AP44' 'imec1.ap#AP46' 'imec1.ap#AP48' 'imec1.ap#AP191'\n",
      " 'imec1.ap#AP355' 'imec1.ap#AP356' 'imec1.ap#AP357' 'imec1.ap#AP358'\n",
      " 'imec1.ap#AP359' 'imec1.ap#AP360' 'imec1.ap#AP361' 'imec1.ap#AP362'\n",
      " 'imec1.ap#AP363' 'imec1.ap#AP364' 'imec1.ap#AP365' 'imec1.ap#AP366'\n",
      " 'imec1.ap#AP367' 'imec1.ap#AP368' 'imec1.ap#AP369' 'imec1.ap#AP370'\n",
      " 'imec1.ap#AP371' 'imec1.ap#AP372' 'imec1.ap#AP373' 'imec1.ap#AP374'\n",
      " 'imec1.ap#AP375' 'imec1.ap#AP376' 'imec1.ap#AP377' 'imec1.ap#AP378'\n",
      " 'imec1.ap#AP379' 'imec1.ap#AP380' 'imec1.ap#AP381' 'imec1.ap#AP382'\n",
      " 'imec1.ap#AP383']\n",
      "probe1_preprocessed CommonReferenceRecording: 351 channels - 30.0kHz - 4 segments - 129,902,198 samples \n",
      "                          4,330.07s (1.20 hours) - int16 dtype - 84.93 GiB\n",
      "Segments:\n",
      "Samples:   83,387,546 | 4,078,344 | 18,265,020 | 24,171,288\n",
      "Durations: 2,779.58s (46.33 minutes) | 135.94s (2.27 minutes) | 608.83s (10.15 minutes) | 805.71s (13.43 minutes)\n",
      "Memory:    54.52 GiB | 2.67 GiB | 11.94 GiB | 15.80 GiB\n",
      "probe1 concatenated ConcatenateSegmentRecording: 351 channels - 30.0kHz - 1 segments - 129,902,198 samples \n",
      "                             4,330.07s (1.20 hours) - int16 dtype - 84.93 GiB\n"
     ]
    },
    {
     "data": {
      "application/vnd.jupyter.widget-view+json": {
       "model_id": "030bb7a7ee1b4ab698d752a714e5b580",
       "version_major": 2,
       "version_minor": 0
      },
      "text/plain": [
       "detect and localize:   0%|          | 0/4331 [00:00<?, ?it/s]"
      ]
     },
     "metadata": {},
     "output_type": "display_data"
    },
    {
     "name": "stdout",
     "output_type": "stream",
     "text": [
      "Start Time:09/02/2024, 08:43:15\n",
      "copying ephys data from:/mnt/rds01/ibn-vision/DATA/SUBJECTS/M23034/ephys/20230805/\n",
      "SpikeGLXRecordingExtractor: 384 channels - 30.0kHz - 5 segments - 142,502,592 samples \n",
      "                            4,750.09s (1.32 hours) - int16 dtype - 101.93 GiB\n",
      "Segments:\n",
      "Samples:   12,753,996 | 94,116,756 | 4,059,252 | 18,467,124 | 13,105,464\n",
      "Durations: 425.13s (7.09 minutes) | 3,137.23s (52.29 minutes) | 135.31s (2.26 minutes) | 615.57s (10.26 minutes) | 436.85s (7.28 minutes)\n",
      "Memory:    9.12 GiB | 67.32 GiB | 2.90 GiB | 13.21 GiB | 9.37 GiB\n",
      "probe0_bad_channel_ids ['imec0.ap#AP108' 'imec0.ap#AP134' 'imec0.ap#AP138' 'imec0.ap#AP142'\n",
      " 'imec0.ap#AP146' 'imec0.ap#AP191']\n",
      "probe0_preprocessed CommonReferenceRecording: 378 channels - 30.0kHz - 5 segments - 142,502,592 samples \n",
      "                          4,750.09s (1.32 hours) - int16 dtype - 100.33 GiB\n",
      "Segments:\n",
      "Samples:   12,753,996 | 94,116,756 | 4,059,252 | 18,467,124 | 13,105,464\n",
      "Durations: 425.13s (7.09 minutes) | 3,137.23s (52.29 minutes) | 135.31s (2.26 minutes) | 615.57s (10.26 minutes) | 436.85s (7.28 minutes)\n",
      "Memory:    8.98 GiB | 66.27 GiB | 2.86 GiB | 13.00 GiB | 9.23 GiB\n",
      "probe0 concatenated ConcatenateSegmentRecording: 378 channels - 30.0kHz - 1 segments - 142,502,592 samples \n",
      "                             4,750.09s (1.32 hours) - int16 dtype - 100.33 GiB\n"
     ]
    },
    {
     "data": {
      "application/vnd.jupyter.widget-view+json": {
       "model_id": "11aaf6266bb9433f8ec32145216512f5",
       "version_major": 2,
       "version_minor": 0
      },
      "text/plain": [
       "detect and localize:   0%|          | 0/4751 [00:00<?, ?it/s]"
      ]
     },
     "metadata": {},
     "output_type": "display_data"
    },
    {
     "ename": "KeyboardInterrupt",
     "evalue": "",
     "output_type": "error",
     "traceback": [
      "\u001b[0;31m---------------------------------------------------------------------------\u001b[0m",
      "\u001b[0;31mKeyboardInterrupt\u001b[0m                         Traceback (most recent call last)",
      "Cell \u001b[0;32mIn[7], line 53\u001b[0m\n\u001b[1;32m     50\u001b[0m \u001b[38;5;28mprint\u001b[39m(\u001b[38;5;124m'\u001b[39m\u001b[38;5;124mprobe0_preprocessed\u001b[39m\u001b[38;5;124m'\u001b[39m,probe0_preprocessed)\n\u001b[1;32m     51\u001b[0m \u001b[38;5;28mprint\u001b[39m(\u001b[38;5;124m'\u001b[39m\u001b[38;5;124mprobe0 concatenated\u001b[39m\u001b[38;5;124m'\u001b[39m,probe0_cat)\n\u001b[0;32m---> 53\u001b[0m si\u001b[38;5;241m.\u001b[39mcorrect_motion(\n\u001b[1;32m     54\u001b[0m         recording\u001b[38;5;241m=\u001b[39mprobe0_cat, preset\u001b[38;5;241m=\u001b[39m\u001b[38;5;124m\"\u001b[39m\u001b[38;5;124mnonrigid_accurate\u001b[39m\u001b[38;5;124m\"\u001b[39m, folder\u001b[38;5;241m=\u001b[39mephys_folder \u001b[38;5;241m+\u001b[39m \u001b[38;5;124m'\u001b[39m\u001b[38;5;124mprobe0_motion\u001b[39m\u001b[38;5;124m'\u001b[39m,\n\u001b[1;32m     55\u001b[0m         output_motion_info\u001b[38;5;241m=\u001b[39m\u001b[38;5;28;01mTrue\u001b[39;00m, \u001b[38;5;241m*\u001b[39m\u001b[38;5;241m*\u001b[39mjob_kwargs\n\u001b[1;32m     56\u001b[0m     )\n\u001b[1;32m     58\u001b[0m \u001b[38;5;66;03m# load\u001b[39;00m\n\u001b[1;32m     59\u001b[0m folder \u001b[38;5;241m=\u001b[39m ephys_folder \u001b[38;5;241m+\u001b[39m \u001b[38;5;124m'\u001b[39m\u001b[38;5;124mprobe0_motion\u001b[39m\u001b[38;5;124m'\u001b[39m\n",
      "File \u001b[0;32m~/anaconda3/lib/python3.11/site-packages/spikeinterface/preprocessing/motion.py:394\u001b[0m, in \u001b[0;36mcorrect_motion\u001b[0;34m(recording, preset, folder, output_motion_info, detect_kwargs, select_kwargs, localize_peaks_kwargs, estimate_motion_kwargs, interpolate_motion_kwargs, **job_kwargs)\u001b[0m\n\u001b[1;32m    391\u001b[0m     np\u001b[38;5;241m.\u001b[39msave(folder \u001b[38;5;241m/\u001b[39m \u001b[38;5;124m\"\u001b[39m\u001b[38;5;124mpeak_locations.npy\u001b[39m\u001b[38;5;124m\"\u001b[39m, peak_locations)\n\u001b[1;32m    393\u001b[0m t0 \u001b[38;5;241m=\u001b[39m time\u001b[38;5;241m.\u001b[39mperf_counter()\n\u001b[0;32m--> 394\u001b[0m motion, temporal_bins, spatial_bins \u001b[38;5;241m=\u001b[39m estimate_motion(recording, peaks, peak_locations, \u001b[38;5;241m*\u001b[39m\u001b[38;5;241m*\u001b[39mestimate_motion_kwargs)\n\u001b[1;32m    395\u001b[0m t1 \u001b[38;5;241m=\u001b[39m time\u001b[38;5;241m.\u001b[39mperf_counter()\n\u001b[1;32m    396\u001b[0m run_times[\u001b[38;5;124m\"\u001b[39m\u001b[38;5;124mestimate_motion\u001b[39m\u001b[38;5;124m\"\u001b[39m] \u001b[38;5;241m=\u001b[39m t1 \u001b[38;5;241m-\u001b[39m t0\n",
      "File \u001b[0;32m~/anaconda3/lib/python3.11/site-packages/spikeinterface/sortingcomponents/motion_estimation.py:152\u001b[0m, in \u001b[0;36mestimate_motion\u001b[0;34m(recording, peaks, peak_locations, direction, bin_duration_s, bin_um, margin_um, rigid, win_shape, win_step_um, win_sigma_um, post_clean, speed_threshold, sigma_smooth_s, method, output_extra_check, progress_bar, upsample_to_histogram_bin, verbose, **method_kwargs)\u001b[0m\n\u001b[1;32m    150\u001b[0m \u001b[38;5;66;03m# run method\u001b[39;00m\n\u001b[1;32m    151\u001b[0m method_class \u001b[38;5;241m=\u001b[39m estimate_motion_methods[method]\n\u001b[0;32m--> 152\u001b[0m motion, temporal_bins \u001b[38;5;241m=\u001b[39m method_class\u001b[38;5;241m.\u001b[39mrun(\n\u001b[1;32m    153\u001b[0m     recording,\n\u001b[1;32m    154\u001b[0m     peaks,\n\u001b[1;32m    155\u001b[0m     peak_locations,\n\u001b[1;32m    156\u001b[0m     direction,\n\u001b[1;32m    157\u001b[0m     bin_duration_s,\n\u001b[1;32m    158\u001b[0m     bin_um,\n\u001b[1;32m    159\u001b[0m     spatial_bin_edges,\n\u001b[1;32m    160\u001b[0m     non_rigid_windows,\n\u001b[1;32m    161\u001b[0m     verbose,\n\u001b[1;32m    162\u001b[0m     progress_bar,\n\u001b[1;32m    163\u001b[0m     extra_check,\n\u001b[1;32m    164\u001b[0m     \u001b[38;5;241m*\u001b[39m\u001b[38;5;241m*\u001b[39mmethod_kwargs,\n\u001b[1;32m    165\u001b[0m )\n\u001b[1;32m    167\u001b[0m \u001b[38;5;66;03m# replace nan by zeros\u001b[39;00m\n\u001b[1;32m    168\u001b[0m motion[np\u001b[38;5;241m.\u001b[39misnan(motion)] \u001b[38;5;241m=\u001b[39m \u001b[38;5;241m0\u001b[39m\n",
      "File \u001b[0;32m~/anaconda3/lib/python3.11/site-packages/spikeinterface/sortingcomponents/motion_estimation.py:363\u001b[0m, in \u001b[0;36mDecentralizedRegistration.run\u001b[0;34m(cls, recording, peaks, peak_locations, direction, bin_duration_s, bin_um, spatial_bin_edges, non_rigid_windows, verbose, progress_bar, extra_check, histogram_depth_smooth_um, histogram_time_smooth_s, pairwise_displacement_method, max_displacement_um, weight_scale, error_sigma, conv_engine, torch_device, batch_size, corr_threshold, time_horizon_s, convergence_method, soft_weights, normalized_xcorr, centered_xcorr, temporal_prior, spatial_prior, force_spatial_median_continuity, reference_displacement, reference_displacement_time_s, robust_regression_sigma, lsqr_robust_n_iter, weight_with_amplitude)\u001b[0m\n\u001b[1;32m    360\u001b[0m \u001b[38;5;28;01mif\u001b[39;00m verbose:\n\u001b[1;32m    361\u001b[0m     \u001b[38;5;28mprint\u001b[39m(\u001b[38;5;124mf\u001b[39m\u001b[38;5;124m\"\u001b[39m\u001b[38;5;124mComputing pairwise displacement: \u001b[39m\u001b[38;5;132;01m{\u001b[39;00mi\u001b[38;5;250m \u001b[39m\u001b[38;5;241m+\u001b[39m\u001b[38;5;250m \u001b[39m\u001b[38;5;241m1\u001b[39m\u001b[38;5;132;01m}\u001b[39;00m\u001b[38;5;124m / \u001b[39m\u001b[38;5;132;01m{\u001b[39;00m\u001b[38;5;28mlen\u001b[39m(non_rigid_windows)\u001b[38;5;132;01m}\u001b[39;00m\u001b[38;5;124m\"\u001b[39m)\n\u001b[0;32m--> 363\u001b[0m pairwise_displacement, pairwise_displacement_weight \u001b[38;5;241m=\u001b[39m compute_pairwise_displacement(\n\u001b[1;32m    364\u001b[0m     motion_histogram[:, window_slice],\n\u001b[1;32m    365\u001b[0m     bin_um,\n\u001b[1;32m    366\u001b[0m     window\u001b[38;5;241m=\u001b[39mwin[window_slice],\n\u001b[1;32m    367\u001b[0m     method\u001b[38;5;241m=\u001b[39mpairwise_displacement_method,\n\u001b[1;32m    368\u001b[0m     weight_scale\u001b[38;5;241m=\u001b[39mweight_scale,\n\u001b[1;32m    369\u001b[0m     error_sigma\u001b[38;5;241m=\u001b[39merror_sigma,\n\u001b[1;32m    370\u001b[0m     conv_engine\u001b[38;5;241m=\u001b[39mconv_engine,\n\u001b[1;32m    371\u001b[0m     torch_device\u001b[38;5;241m=\u001b[39mtorch_device,\n\u001b[1;32m    372\u001b[0m     batch_size\u001b[38;5;241m=\u001b[39mbatch_size,\n\u001b[1;32m    373\u001b[0m     max_displacement_um\u001b[38;5;241m=\u001b[39mmax_displacement_um,\n\u001b[1;32m    374\u001b[0m     normalized_xcorr\u001b[38;5;241m=\u001b[39mnormalized_xcorr,\n\u001b[1;32m    375\u001b[0m     centered_xcorr\u001b[38;5;241m=\u001b[39mcentered_xcorr,\n\u001b[1;32m    376\u001b[0m     corr_threshold\u001b[38;5;241m=\u001b[39mcorr_threshold,\n\u001b[1;32m    377\u001b[0m     time_horizon_s\u001b[38;5;241m=\u001b[39mtime_horizon_s,\n\u001b[1;32m    378\u001b[0m     bin_duration_s\u001b[38;5;241m=\u001b[39mbin_duration_s,\n\u001b[1;32m    379\u001b[0m     progress_bar\u001b[38;5;241m=\u001b[39m\u001b[38;5;28;01mFalse\u001b[39;00m,\n\u001b[1;32m    380\u001b[0m )\n\u001b[1;32m    382\u001b[0m \u001b[38;5;28;01mif\u001b[39;00m spatial_prior:\n\u001b[1;32m    383\u001b[0m     all_pairwise_displacements[i] \u001b[38;5;241m=\u001b[39m pairwise_displacement\n",
      "File \u001b[0;32m~/anaconda3/lib/python3.11/site-packages/spikeinterface/sortingcomponents/motion_estimation.py:865\u001b[0m, in \u001b[0;36mcompute_pairwise_displacement\u001b[0;34m(motion_hist, bin_um, method, weight_scale, error_sigma, conv_engine, torch_device, batch_size, max_displacement_um, corr_threshold, time_horizon_s, normalized_xcorr, centered_xcorr, bin_duration_s, progress_bar, window)\u001b[0m\n\u001b[1;32m    862\u001b[0m correlation \u001b[38;5;241m=\u001b[39m np\u001b[38;5;241m.\u001b[39mempty((size, size), dtype\u001b[38;5;241m=\u001b[39mmotion_hist\u001b[38;5;241m.\u001b[39mdtype)\n\u001b[1;32m    864\u001b[0m \u001b[38;5;28;01mfor\u001b[39;00m i \u001b[38;5;129;01min\u001b[39;00m xrange(\u001b[38;5;241m0\u001b[39m, size, batch_size):\n\u001b[0;32m--> 865\u001b[0m     corr \u001b[38;5;241m=\u001b[39m normxcorr1d(\n\u001b[1;32m    866\u001b[0m         motion_hist_engine,\n\u001b[1;32m    867\u001b[0m         motion_hist_engine[i : i \u001b[38;5;241m+\u001b[39m batch_size],\n\u001b[1;32m    868\u001b[0m         weights\u001b[38;5;241m=\u001b[39mwindow_engine,\n\u001b[1;32m    869\u001b[0m         padding\u001b[38;5;241m=\u001b[39mpossible_displacement\u001b[38;5;241m.\u001b[39msize \u001b[38;5;241m/\u001b[39m\u001b[38;5;241m/\u001b[39m \u001b[38;5;241m2\u001b[39m,\n\u001b[1;32m    870\u001b[0m         conv_engine\u001b[38;5;241m=\u001b[39mconv_engine,\n\u001b[1;32m    871\u001b[0m         normalized\u001b[38;5;241m=\u001b[39mnormalized_xcorr,\n\u001b[1;32m    872\u001b[0m         centered\u001b[38;5;241m=\u001b[39mcentered_xcorr,\n\u001b[1;32m    873\u001b[0m     )\n\u001b[1;32m    874\u001b[0m     \u001b[38;5;28;01mif\u001b[39;00m conv_engine \u001b[38;5;241m==\u001b[39m \u001b[38;5;124m\"\u001b[39m\u001b[38;5;124mtorch\u001b[39m\u001b[38;5;124m\"\u001b[39m:\n\u001b[1;32m    875\u001b[0m         max_corr, best_disp_inds \u001b[38;5;241m=\u001b[39m torch\u001b[38;5;241m.\u001b[39mmax(corr, dim\u001b[38;5;241m=\u001b[39m\u001b[38;5;241m2\u001b[39m)\n",
      "File \u001b[0;32m~/anaconda3/lib/python3.11/site-packages/spikeinterface/sortingcomponents/motion_estimation.py:1417\u001b[0m, in \u001b[0;36mnormxcorr1d\u001b[0;34m(template, x, weights, centered, normalized, padding, conv_engine)\u001b[0m\n\u001b[1;32m   1415\u001b[0m N \u001b[38;5;241m=\u001b[39m conv1d(ones, weights, padding\u001b[38;5;241m=\u001b[39mpadding)\n\u001b[1;32m   1416\u001b[0m \u001b[38;5;28;01mif\u001b[39;00m centered:\n\u001b[0;32m-> 1417\u001b[0m     Et \u001b[38;5;241m=\u001b[39m conv1d(ones, wt, padding\u001b[38;5;241m=\u001b[39mpadding)\n\u001b[1;32m   1418\u001b[0m     Et \u001b[38;5;241m/\u001b[39m\u001b[38;5;241m=\u001b[39m N\n\u001b[1;32m   1419\u001b[0m     Ex \u001b[38;5;241m=\u001b[39m conv1d(x[:, \u001b[38;5;28;01mNone\u001b[39;00m, :], weights, padding\u001b[38;5;241m=\u001b[39mpadding)\n",
      "File \u001b[0;32m~/anaconda3/lib/python3.11/site-packages/spikeinterface/sortingcomponents/motion_estimation.py:1476\u001b[0m, in \u001b[0;36mscipy_conv1d\u001b[0;34m(input, weights, padding)\u001b[0m\n\u001b[1;32m   1474\u001b[0m \u001b[38;5;28;01mfor\u001b[39;00m m \u001b[38;5;129;01min\u001b[39;00m \u001b[38;5;28mrange\u001b[39m(n):\n\u001b[1;32m   1475\u001b[0m     \u001b[38;5;28;01mfor\u001b[39;00m c \u001b[38;5;129;01min\u001b[39;00m \u001b[38;5;28mrange\u001b[39m(c_out):\n\u001b[0;32m-> 1476\u001b[0m         output[m, c] \u001b[38;5;241m=\u001b[39m correlate(\u001b[38;5;28minput\u001b[39m[m, \u001b[38;5;241m0\u001b[39m], weights[c, \u001b[38;5;241m0\u001b[39m], mode\u001b[38;5;241m=\u001b[39mmode)\n\u001b[1;32m   1478\u001b[0m \u001b[38;5;28;01mreturn\u001b[39;00m output\n",
      "File \u001b[0;32m~/anaconda3/lib/python3.11/site-packages/scipy/signal/_signaltools.py:242\u001b[0m, in \u001b[0;36mcorrelate\u001b[0;34m(in1, in2, mode, method)\u001b[0m\n\u001b[1;32m    240\u001b[0m \u001b[38;5;66;03m# this either calls fftconvolve or this function with method=='direct'\u001b[39;00m\n\u001b[1;32m    241\u001b[0m \u001b[38;5;28;01mif\u001b[39;00m method \u001b[38;5;129;01min\u001b[39;00m (\u001b[38;5;124m'\u001b[39m\u001b[38;5;124mfft\u001b[39m\u001b[38;5;124m'\u001b[39m, \u001b[38;5;124m'\u001b[39m\u001b[38;5;124mauto\u001b[39m\u001b[38;5;124m'\u001b[39m):\n\u001b[0;32m--> 242\u001b[0m     \u001b[38;5;28;01mreturn\u001b[39;00m convolve(in1, _reverse_and_conj(in2), mode, method)\n\u001b[1;32m    244\u001b[0m \u001b[38;5;28;01melif\u001b[39;00m method \u001b[38;5;241m==\u001b[39m \u001b[38;5;124m'\u001b[39m\u001b[38;5;124mdirect\u001b[39m\u001b[38;5;124m'\u001b[39m:\n\u001b[1;32m    245\u001b[0m     \u001b[38;5;66;03m# fastpath to faster numpy.correlate for 1d inputs when possible\u001b[39;00m\n\u001b[1;32m    246\u001b[0m     \u001b[38;5;28;01mif\u001b[39;00m _np_conv_ok(in1, in2, mode):\n",
      "File \u001b[0;32m~/anaconda3/lib/python3.11/site-packages/scipy/signal/_signaltools.py:1406\u001b[0m, in \u001b[0;36mconvolve\u001b[0;34m(in1, in2, mode, method)\u001b[0m\n\u001b[1;32m   1402\u001b[0m \u001b[38;5;28;01melif\u001b[39;00m volume\u001b[38;5;241m.\u001b[39mndim \u001b[38;5;241m!=\u001b[39m kernel\u001b[38;5;241m.\u001b[39mndim:\n\u001b[1;32m   1403\u001b[0m     \u001b[38;5;28;01mraise\u001b[39;00m \u001b[38;5;167;01mValueError\u001b[39;00m(\u001b[38;5;124m\"\u001b[39m\u001b[38;5;124mvolume and kernel should have the same \u001b[39m\u001b[38;5;124m\"\u001b[39m\n\u001b[1;32m   1404\u001b[0m                      \u001b[38;5;124m\"\u001b[39m\u001b[38;5;124mdimensionality\u001b[39m\u001b[38;5;124m\"\u001b[39m)\n\u001b[0;32m-> 1406\u001b[0m \u001b[38;5;28;01mif\u001b[39;00m _inputs_swap_needed(mode, volume\u001b[38;5;241m.\u001b[39mshape, kernel\u001b[38;5;241m.\u001b[39mshape):\n\u001b[1;32m   1407\u001b[0m     \u001b[38;5;66;03m# Convolution is commutative; order doesn't have any effect on output\u001b[39;00m\n\u001b[1;32m   1408\u001b[0m     volume, kernel \u001b[38;5;241m=\u001b[39m kernel, volume\n\u001b[1;32m   1410\u001b[0m \u001b[38;5;28;01mif\u001b[39;00m method \u001b[38;5;241m==\u001b[39m \u001b[38;5;124m'\u001b[39m\u001b[38;5;124mauto\u001b[39m\u001b[38;5;124m'\u001b[39m:\n",
      "File \u001b[0;32m~/anaconda3/lib/python3.11/site-packages/scipy/signal/_signaltools.py:82\u001b[0m, in \u001b[0;36m_inputs_swap_needed\u001b[0;34m(mode, shape1, shape2, axes)\u001b[0m\n\u001b[1;32m     79\u001b[0m     axes \u001b[38;5;241m=\u001b[39m \u001b[38;5;28mrange\u001b[39m(\u001b[38;5;28mlen\u001b[39m(shape1))\n\u001b[1;32m     81\u001b[0m ok1 \u001b[38;5;241m=\u001b[39m \u001b[38;5;28mall\u001b[39m(shape1[i] \u001b[38;5;241m>\u001b[39m\u001b[38;5;241m=\u001b[39m shape2[i] \u001b[38;5;28;01mfor\u001b[39;00m i \u001b[38;5;129;01min\u001b[39;00m axes)\n\u001b[0;32m---> 82\u001b[0m ok2 \u001b[38;5;241m=\u001b[39m \u001b[38;5;28mall\u001b[39m(shape2[i] \u001b[38;5;241m>\u001b[39m\u001b[38;5;241m=\u001b[39m shape1[i] \u001b[38;5;28;01mfor\u001b[39;00m i \u001b[38;5;129;01min\u001b[39;00m axes)\n\u001b[1;32m     84\u001b[0m \u001b[38;5;28;01mif\u001b[39;00m \u001b[38;5;129;01mnot\u001b[39;00m (ok1 \u001b[38;5;129;01mor\u001b[39;00m ok2):\n\u001b[1;32m     85\u001b[0m     \u001b[38;5;28;01mraise\u001b[39;00m \u001b[38;5;167;01mValueError\u001b[39;00m(\u001b[38;5;124m\"\u001b[39m\u001b[38;5;124mFor \u001b[39m\u001b[38;5;124m'\u001b[39m\u001b[38;5;124mvalid\u001b[39m\u001b[38;5;124m'\u001b[39m\u001b[38;5;124m mode, one must be at least \u001b[39m\u001b[38;5;124m\"\u001b[39m\n\u001b[1;32m     86\u001b[0m                      \u001b[38;5;124m\"\u001b[39m\u001b[38;5;124mas large as the other in every dimension\u001b[39m\u001b[38;5;124m\"\u001b[39m)\n",
      "\u001b[0;31mKeyboardInterrupt\u001b[0m: "
     ]
    }
   ],
   "source": [
    "\n",
    "\n",
    "\n",
    "\n",
    "\n",
    "# allocate destination folder and move the ephys folder on the server to Beast lab user\n",
    "from pathlib import Path\n",
    "import platform\n",
    "import os\n",
    "import shutil\n",
    "import argparse\n",
    "import numpy as np\n",
    "import matplotlib.pyplot as plt\n",
    "import spikeinterface.sorters\n",
    "import spikeinterface.full as si\n",
    "import  scipy.signal\n",
    "import spikeinterface.extractors as se\n",
    "import spikeinterface.comparison\n",
    "import spikeinterface.exporters\n",
    "import spikeinterface.curation\n",
    "import spikeinterface.widgets \n",
    "\n",
    "mice = ['M23032','M23034', 'M23037', 'M23038']\n",
    "all_dates = [['20230718','20230719','20230720','20230721','20230722'],\n",
    "              ['20230804','20230805','2023806'], \n",
    "              ['2023810','2023811','2023812','2023813'],\n",
    "              ['2023816','2023817']]\n",
    "\n",
    "base_folder = '/mnt/rds01/ibn-vision/DATA/SUBJECTS/'\n",
    "job_kwargs = dict(n_jobs=32, chunk_duration='1s', progress_bar=True)\n",
    "mouse_number = 0\n",
    "for mouse in mice:\n",
    "    dates = all_dates[mouse_number]\n",
    "    mouse_number += 1\n",
    "    for date in dates:\n",
    "        ephys_folder = base_folder + mouse + '/ephys/' + date +'/'\n",
    "        from datetime import datetime\n",
    "        startTime = datetime.now()\n",
    "        print('Start Time:' + startTime.strftime(\"%m/%d/%Y, %H:%M:%S\"))\n",
    "        ''' this section defines the animal and dates and fetch the recordings from the server to Beast'''\n",
    "        print('copying ephys data from:' + ephys_folder)\n",
    "\n",
    "        #load first probe from beast folder - MEC probe for Diao\n",
    "        probe0_raw = si.read_spikeglx(ephys_folder,stream_name='imec0.ap')\n",
    "        print(probe0_raw)\n",
    "\n",
    "        probe0_highpass = si.highpass_filter(probe0_raw,freq_min=300.)\n",
    "        bad_channel_ids, channel_labels = si.detect_bad_channels(probe0_highpass)\n",
    "        probe0_remove_channels = probe0_highpass.remove_channels(bad_channel_ids)\n",
    "        print('probe0_bad_channel_ids',bad_channel_ids)\n",
    "        probe0_phase_shift = si.phase_shift(probe0_remove_channels)\n",
    "        probe0_common_reference = si.common_reference(probe0_phase_shift,operator='median',reference='global')\n",
    "        probe0_preprocessed = probe0_common_reference\n",
    "        probe0_cat = si.concatenate_recordings([probe0_preprocessed])\n",
    "        print('probe0_preprocessed',probe0_preprocessed)\n",
    "        print('probe0 concatenated',probe0_cat)\n",
    "\n",
    "        si.correct_motion(\n",
    "                recording=probe0_cat, preset=\"nonrigid_accurate\", folder=ephys_folder + 'probe0_motion',\n",
    "                output_motion_info=True, **job_kwargs\n",
    "            )\n",
    "\n",
    "        # load\n",
    "        folder = ephys_folder + 'probe0_motion'\n",
    "\n",
    "        #load second probe from beast folder - LEC probe for Diao\n",
    "        probe1_raw = si.read_spikeglx(ephys_folder,stream_name='imec1.ap')\n",
    "        print(probe1_raw)\n",
    "\n",
    "        probe1_highpass = si.highpass_filter(probe1_raw,freq_min=300.)\n",
    "        bad_channel_ids, channel_labels = si.detect_bad_channels(probe1_highpass)\n",
    "        probe1_remove_channels = probe1_highpass.remove_channels(bad_channel_ids)\n",
    "        print('probe1_bad_channel_ids',bad_channel_ids)\n",
    "        probe1_phase_shift = si.phase_shift(probe1_remove_channels)\n",
    "        probe1_common_reference = si.common_reference(probe1_phase_shift,operator='median',reference='global')\n",
    "        probe1_preprocessed = probe1_common_reference\n",
    "        probe1_cat = si.concatenate_recordings([probe1_preprocessed])\n",
    "        print('probe1_preprocessed',probe1_preprocessed)\n",
    "        print('probe1 concatenated',probe1_cat)\n",
    "\n",
    "        si.correct_motion(\n",
    "            recording=probe1_cat, preset=\"nonrigid_accurate\", folder=ephys_folder + 'probe1_motion',\n",
    "            output_motion_info=True, **job_kwargs\n",
    "            )\n",
    "\n"
   ]
  },
  {
   "cell_type": "code",
   "execution_count": null,
   "metadata": {},
   "outputs": [],
   "source": []
  }
 ],
 "metadata": {
  "kernelspec": {
   "display_name": "Python 3 (ipykernel)",
   "language": "python",
   "name": "python3"
  },
  "language_info": {
   "codemirror_mode": {
    "name": "ipython",
    "version": 3
   },
   "file_extension": ".py",
   "mimetype": "text/x-python",
   "name": "python",
   "nbconvert_exporter": "python",
   "pygments_lexer": "ipython3",
   "version": "3.11.5"
  }
 },
 "nbformat": 4,
 "nbformat_minor": 2
}
