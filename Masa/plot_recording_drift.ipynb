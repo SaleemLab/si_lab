{
 "cells": [
  {
   "cell_type": "code",
   "execution_count": 1,
   "metadata": {},
   "outputs": [],
   "source": [
    "import os\n",
    "import numpy as np\n",
    "import scipy.io as sio\n",
    "from pathlib import Path\n",
    "import platform\n",
    "import os\n",
    "import shutil\n",
    "import argparse\n",
    "import numpy as np\n",
    "import matplotlib.pyplot as plt\n",
    "import spikeinterface.full as si\n",
    "from spikeinterface.sortingcomponents.motion import estimate_motion\n",
    "import docker\n",
    "from datetime import datetime\n",
    "#load mat file with merge suggestions\n",
    "base_folder = '/mnt/rds01/ibn-vision/DATA/SUBJECTS/'\n",
    "mouse = 'M23038'\n",
    "date = '20230816'\n",
    "\n",
    "ephys_folder = base_folder + mouse + '/ephys/' + date +'/'\n",
    "analysis_folder = base_folder + mouse + '/analysis/' + date +'/'\n",
    "save_folder = base_folder + mouse + '/ephys/' + date +'/'\n",
    "\n",
    "probe0_raw = si.read_spikeglx(ephys_folder, stream_name='imec0.lf')\n",
    "lfprec = si.bandpass_filter(\n",
    "    probe0_raw,\n",
    "    freq_min=0.5,\n",
    "    freq_max=250,\n",
    "\n",
    "    margin_ms=1500.,\n",
    "    filter_order=3,\n",
    "    dtype=\"float32\",\n",
    "    add_reflect_padding=True,\n",
    ")\n",
    "lfprec = si.phase_shift(lfprec)\n",
    "lfprec = si.resample(lfprec, resample_rate=250, margin_ms=1000)\n",
    "\n",
    "lfprec = si.directional_derivative(lfprec, order=2, edge_order=1)\n",
    "lfprec = si.average_across_direction(lfprec)\n",
    "\n",
    "print(lfprec)"
   ]
  },
  {
   "cell_type": "code",
   "execution_count": null,
   "metadata": {},
   "outputs": [],
   "source": [
    "%matplotlib inline\n",
    "si.plot_traces(lfprec, backend=\"matplotlib\", mode=\"map\", clim=(-0.05, 0.05), time_range=(400, 420))"
   ]
  },
  {
   "cell_type": "code",
   "execution_count": null,
   "metadata": {},
   "outputs": [],
   "source": [
    "motion = estimate_motion(lfprec, method='dredge_lfp', rigid=True, progress_bar=True)\n",
    "motion"
   ]
  },
  {
   "cell_type": "code",
   "execution_count": null,
   "metadata": {},
   "outputs": [],
   "source": [
    "fig, ax = plt.subplots()\n",
    "si.plot_motion(motion, mode='line', ax=ax)\n",
    "ax.set_xlim(400, 420)\n",
    "ax.set_ylim(800, 1300)"
   ]
  }
 ],
 "metadata": {
  "kernelspec": {
   "display_name": "si_env",
   "language": "python",
   "name": "python3"
  },
  "language_info": {
   "codemirror_mode": {
    "name": "ipython",
    "version": 3
   },
   "file_extension": ".py",
   "mimetype": "text/x-python",
   "name": "python",
   "nbconvert_exporter": "python",
   "pygments_lexer": "ipython3",
   "version": "3.10.13"
  }
 },
 "nbformat": 4,
 "nbformat_minor": 2
}
